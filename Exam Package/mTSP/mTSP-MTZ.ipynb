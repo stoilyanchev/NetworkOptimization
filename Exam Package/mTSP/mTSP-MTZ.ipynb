{
 "cells": [
  {
   "cell_type": "code",
   "execution_count": 18,
   "metadata": {
    "collapsed": true
   },
   "outputs": [],
   "source": [
    "import gurobipy as gb\n",
    "import networkx as nx\n",
    "\n",
    "import pygraphviz as pygv\n",
    "\n",
    "\n",
    "import os\n",
    "from IPython.display import SVG, display\n",
    "\n",
    "\n",
    "#\n",
    "# Drawing \n",
    "# functions\n",
    "#\n",
    "\n",
    "#\n",
    "# Drawing \n",
    "# functions\n",
    "#\n",
    "\n",
    "def DrawInitialGraph():\n",
    "    global DrawG\n",
    "    DrawG = pygv.AGraph(directed='true',strict='true', splines='true')\n",
    "\n",
    "\n",
    "    for i in G.nodes():\n",
    "        pos = str(G.node[i]['x'] * args.scale) + ',' + str((G.node[i]['y'])* args.scale)\n",
    "        if i == root:\n",
    "            DrawG.add_node (i, shape='circle', pos=pos, color=\"red\", fontsize='8', width='0.3', fixedsize='true')\n",
    "        else:\n",
    "            DrawG.add_node (i, shape='circle', pos=pos, color=\"black\", fontsize='8', width='0.3', fixedsize='true')   \t\n",
    "\n",
    "    DrawG.layout(prog='neato', args='-n')\n",
    "    DrawG.draw (path=str(basename) + '.svg', format='svg')\n",
    "    DrawG.clear()\n",
    "\n",
    "\n",
    "def DrawSol (x):\n",
    "\n",
    "    for i in G.nodes():\n",
    "        pos = str(G.node[i]['x'] * args.scale) + ',' + str((G.node[i]['y'])* args.scale)\n",
    "        DrawG.add_node (i, shape='circle', pos=pos,fontsize='8', width='0.3', fixedsize='true')\n",
    "\n",
    "    DrawG.layout(prog='neato', args='-n')\n",
    "    filepath=str(basename) + '_sol.svg'\n",
    "\n",
    "    for i in G.edges():\n",
    "        h = i[0]\n",
    "        k = i[1]\n",
    "        if x[i].x > 0.00001:\n",
    "            lab = round(x[i].x,4)\t\n",
    "            if x[i].x > 0.999999:\n",
    "                DrawG.add_edge(h, k, color='black', label=lab, fontsize='8')\n",
    "            else:\n",
    "                DrawG.add_edge(h, k, color='red', label=lab, fontsize='8')\n",
    "\n",
    "    DrawG.draw (path=filepath, format='svg')\n",
    "    DrawG.clear()\n",
    "\n",
    "def DrawSubtour (x, subtour):\n",
    "    for i in G.nodes():\n",
    "        pos = str(G.node[i]['x'] * args.scale) + ',' + str((G.node[i]['y'])* args.scale)\n",
    "        if i in subtour:\n",
    "            DrawG.add_node (i, shape='circle', pos=pos, fontsize='8', width='0.3', fixedsize='true', style='filled')\n",
    "        else:\n",
    "            DrawG.add_node (i, shape='circle', pos=pos, fontsize='8', width='0.3', fixedsize='true')\n",
    "\n",
    "    DrawG.layout(prog='neato', args='-n')\n",
    "    filepath=str(basename) + '_sub.svg'\n",
    "\n",
    "    for i in G.edges():\n",
    "        h = i[0]\n",
    "        k = i[1]\n",
    "        if x[i].x > 0.00001:\n",
    "            lab = round(x[i].x,4)\t\n",
    "            if x[i].x > 0.999999:\n",
    "                DrawG.add_edge(h, k, color='black', label=lab, fontsize='8')\n",
    "            else:\n",
    "                DrawG.add_edge(h, k, color='red', label=lab, fontsize='8')\n",
    "\n",
    "    DrawG.draw (path=filepath, format='svg')\n",
    "    DrawG.clear()\n",
    "\n",
    "    \n",
    "class args:\n",
    "    filename = None\n",
    "    scale = 20"
   ]
  },
  {
   "cell_type": "markdown",
   "metadata": {},
   "source": [
    "## mTSP\n",
    "\n",
    ">**Given**\n",
    ">A directed graph $G=(N,A)\\;$ and a cost $c_{ij} > 0$ for each arc in $A$\n",
    ">\n",
    ">**Find**\n",
    "> A set of routes for $m$ salesmen who all start from and turn back to a home city (depot) \n",
    " \n",
    "\n"
   ]
  },
  {
   "cell_type": "code",
   "execution_count": 19,
   "metadata": {
    "scrolled": false
   },
   "outputs": [
    {
     "name": "stdout",
     "output_type": "stream",
     "text": [
      "G has 12 nodes and 132 edges\n",
      "True\n"
     ]
    }
   ],
   "source": [
    "# \n",
    "# Read the graph in the graphML format\n",
    "#\n",
    "\n",
    "\n",
    "args.filename = 'mtspexample.gml'\n",
    "\n",
    "basename = os.path.splitext(args.filename)[0]\n",
    "\n",
    "G = nx.read_graphml (args.filename, node_type=int)\n",
    "\n",
    "print (\"G has\", G.number_of_nodes(), \"nodes and\", G.number_of_edges(), \"edges\")\n",
    "\n",
    "print(G.is_directed())\n",
    "\n",
    "#print(G.edges(data=True))"
   ]
  },
  {
   "cell_type": "code",
   "execution_count": 20,
   "metadata": {
    "scrolled": false
   },
   "outputs": [
    {
     "data": {
      "image/svg+xml": [
       "<svg height=\"610pt\" viewBox=\"0.00 0.00 610.00 610.00\" width=\"610pt\" xmlns=\"http://www.w3.org/2000/svg\" xmlns:xlink=\"http://www.w3.org/1999/xlink\">\n",
       "<g class=\"graph\" id=\"graph0\" transform=\"scale(1 1) rotate(0) translate(-165 615)\">\n",
       "<title>%3</title>\n",
       "<polygon fill=\"white\" points=\"165,-5 165,-615 775,-615 775,-5 165,-5\" stroke=\"none\"/>\n",
       "<!-- 1 -->\n",
       "<g class=\"node\" id=\"node1\"><title>1</title>\n",
       "<ellipse cx=\"640\" cy=\"-360\" fill=\"none\" rx=\"11\" ry=\"11\" stroke=\"red\"/>\n",
       "<text font-family=\"Times,serif\" font-size=\"8.00\" text-anchor=\"middle\" x=\"640\" y=\"-357.6\">1</text>\n",
       "</g>\n",
       "<!-- 2 -->\n",
       "<g class=\"node\" id=\"node2\"><title>2</title>\n",
       "<ellipse cx=\"220\" cy=\"-400\" fill=\"none\" rx=\"11\" ry=\"11\" stroke=\"black\"/>\n",
       "<text font-family=\"Times,serif\" font-size=\"8.00\" text-anchor=\"middle\" x=\"220\" y=\"-397.6\">2</text>\n",
       "</g>\n",
       "<!-- 3 -->\n",
       "<g class=\"node\" id=\"node3\"><title>3</title>\n",
       "<ellipse cx=\"700\" cy=\"-40\" fill=\"none\" rx=\"11\" ry=\"11\" stroke=\"black\"/>\n",
       "<text font-family=\"Times,serif\" font-size=\"8.00\" text-anchor=\"middle\" x=\"700\" y=\"-37.6\">3</text>\n",
       "</g>\n",
       "<!-- 4 -->\n",
       "<g class=\"node\" id=\"node4\"><title>4</title>\n",
       "<ellipse cx=\"440\" cy=\"-520\" fill=\"none\" rx=\"11\" ry=\"11\" stroke=\"black\"/>\n",
       "<text font-family=\"Times,serif\" font-size=\"8.00\" text-anchor=\"middle\" x=\"440\" y=\"-517.6\">4</text>\n",
       "</g>\n",
       "<!-- 5 -->\n",
       "<g class=\"node\" id=\"node5\"><title>5</title>\n",
       "<ellipse cx=\"680\" cy=\"-340\" fill=\"none\" rx=\"11\" ry=\"11\" stroke=\"black\"/>\n",
       "<text font-family=\"Times,serif\" font-size=\"8.00\" text-anchor=\"middle\" x=\"680\" y=\"-337.6\">5</text>\n",
       "</g>\n",
       "<!-- 6 -->\n",
       "<g class=\"node\" id=\"node6\"><title>6</title>\n",
       "<ellipse cx=\"180\" cy=\"-600\" fill=\"none\" rx=\"11\" ry=\"11\" stroke=\"black\"/>\n",
       "<text font-family=\"Times,serif\" font-size=\"8.00\" text-anchor=\"middle\" x=\"180\" y=\"-597.6\">6</text>\n",
       "</g>\n",
       "<!-- 7 -->\n",
       "<g class=\"node\" id=\"node7\"><title>7</title>\n",
       "<ellipse cx=\"400\" cy=\"-20\" fill=\"none\" rx=\"11\" ry=\"11\" stroke=\"black\"/>\n",
       "<text font-family=\"Times,serif\" font-size=\"8.00\" text-anchor=\"middle\" x=\"400\" y=\"-17.6\">7</text>\n",
       "</g>\n",
       "<!-- 8 -->\n",
       "<g class=\"node\" id=\"node8\"><title>8</title>\n",
       "<ellipse cx=\"480\" cy=\"-500\" fill=\"none\" rx=\"11\" ry=\"11\" stroke=\"black\"/>\n",
       "<text font-family=\"Times,serif\" font-size=\"8.00\" text-anchor=\"middle\" x=\"480\" y=\"-497.6\">8</text>\n",
       "</g>\n",
       "<!-- 9 -->\n",
       "<g class=\"node\" id=\"node9\"><title>9</title>\n",
       "<ellipse cx=\"300\" cy=\"-40\" fill=\"none\" rx=\"11\" ry=\"11\" stroke=\"black\"/>\n",
       "<text font-family=\"Times,serif\" font-size=\"8.00\" text-anchor=\"middle\" x=\"300\" y=\"-37.6\">9</text>\n",
       "</g>\n",
       "<!-- 10 -->\n",
       "<g class=\"node\" id=\"node10\"><title>10</title>\n",
       "<ellipse cx=\"720\" cy=\"-180\" fill=\"none\" rx=\"11\" ry=\"11\" stroke=\"black\"/>\n",
       "<text font-family=\"Times,serif\" font-size=\"8.00\" text-anchor=\"middle\" x=\"720\" y=\"-177.6\">10</text>\n",
       "</g>\n",
       "<!-- 11 -->\n",
       "<g class=\"node\" id=\"node11\"><title>11</title>\n",
       "<ellipse cx=\"480\" cy=\"-120\" fill=\"none\" rx=\"11\" ry=\"11\" stroke=\"black\"/>\n",
       "<text font-family=\"Times,serif\" font-size=\"8.00\" text-anchor=\"middle\" x=\"480\" y=\"-117.6\">11</text>\n",
       "</g>\n",
       "<!-- 12 -->\n",
       "<g class=\"node\" id=\"node12\"><title>12</title>\n",
       "<ellipse cx=\"760\" cy=\"-520\" fill=\"none\" rx=\"11\" ry=\"11\" stroke=\"black\"/>\n",
       "<text font-family=\"Times,serif\" font-size=\"8.00\" text-anchor=\"middle\" x=\"760\" y=\"-517.6\">12</text>\n",
       "</g>\n",
       "</g>\n",
       "</svg>"
      ],
      "text/plain": [
       "<IPython.core.display.SVG object>"
      ]
     },
     "metadata": {},
     "output_type": "display_data"
    }
   ],
   "source": [
    "root = list(G.nodes())[0]\n",
    "\n",
    "DrawInitialGraph()\n",
    "\n",
    "display(SVG(filename=basename+'.svg'))"
   ]
  },
  {
   "cell_type": "markdown",
   "metadata": {},
   "source": [
    "## mTSP MTZ formulation"
   ]
  },
  {
   "cell_type": "markdown",
   "metadata": {},
   "source": [
    "### *m*: number of vehicles\n",
    "\n",
    "### Each vehicle can travel up to *p* nodes\n",
    "\n",
    "### Formulation\n",
    "\n",
    "Decision variables:\n",
    "$$\n",
    "x_{ij} = \\begin{cases}1 \\text{ if arc $(i, j)$ is in the tour} \\\\\n",
    "0 \\text{ otherwise}\n",
    "\\end{cases}\n",
    "$$\n",
    "\n",
    "Formulation:\n",
    "$$\n",
    "\\begin{alignat}{3}\n",
    "& \\min \\sum_{(i,j) \\in A} x_{ij} &\\\\\n",
    "\\text{s.t.} \\;\\;\\;\\;\\;&\\\\\n",
    "\\sum_{j = 2}^{j=n} x_{1j} &= m  \\;\\; \\text{(OUT-R)}\\\\\n",
    "\\sum_{i = 2}^{i=n} x_{i1} &= m \\;\\; \\text{(IN-R)}\\\\\n",
    "\\sum_{j \\in \\delta^+(i)} x_{ij} &= 1 \\;\\; \\forall i \\in N, i\\not=1 \\;\\; \\text{(FS)}\\\\\n",
    "\\sum_{j \\in \\delta^-(i)} x_{ji} &= 1 \\;\\; \\forall i \\in N, i\\not=1 \\;\\; \\text{(RS)}\\\\\n",
    "u_i - u_j + p x_{ij} &\\le p-1 \\;\\; \\forall (i,j) \\in A, i,j \\not = 1\\\\\n",
    "x & \\in \\{0,1\\}^{|A|}\n",
    "\\end{alignat}\n",
    "$$"
   ]
  },
  {
   "cell_type": "code",
   "execution_count": 37,
   "metadata": {
    "collapsed": true
   },
   "outputs": [],
   "source": [
    "\n",
    "m = 3\n",
    "p = 5 # G.number_of_edges() + 1"
   ]
  },
  {
   "cell_type": "code",
   "execution_count": 38,
   "metadata": {
    "collapsed": true
   },
   "outputs": [],
   "source": [
    "mtsp_mtz = gb.Model()\n",
    "\n",
    "x = mtsp_mtz.addVars(G.edges(),\\\n",
    "                 obj=[G[i][j]['dist']\\\n",
    "                      for i,j in G.edges()],\\\n",
    "             vtype=gb.GRB.BINARY, name='x')\n",
    "\n",
    "u = mtsp_mtz.addVars(G.nodes(), obj=0.0, vtype=gb.GRB.CONTINUOUS,\\\n",
    "                     lb=2.0, ub=p, name='u')\n",
    "\n"
   ]
  },
  {
   "cell_type": "code",
   "execution_count": 39,
   "metadata": {
    "collapsed": true
   },
   "outputs": [],
   "source": [
    "mtsp_mtz.addConstr(x.sum(root,'*') == m, name = 'OUT-R')\n",
    "mtsp_mtz.addConstr(x.sum('*',root) == m, name = 'IN-R')\n",
    "mtsp_mtz.update()\n"
   ]
  },
  {
   "cell_type": "code",
   "execution_count": 40,
   "metadata": {
    "collapsed": true
   },
   "outputs": [],
   "source": [
    "mtsp_mtz.addConstrs((x.sum(i,'*') == 1 \\\n",
    "                 for i in G.nodes() if i != root), name='FS')\n",
    "\n",
    "mtsp_mtz.update()\n"
   ]
  },
  {
   "cell_type": "code",
   "execution_count": 41,
   "metadata": {
    "collapsed": true
   },
   "outputs": [],
   "source": [
    "mtsp_mtz.addConstrs((x.sum('*',i) == 1 \\\n",
    "                 for i in G.nodes() if i != root), name='RS')\n",
    "\n",
    "mtsp_mtz.update()\n"
   ]
  },
  {
   "cell_type": "code",
   "execution_count": 42,
   "metadata": {
    "collapsed": true
   },
   "outputs": [],
   "source": [
    "mtsp_mtz.addConstrs((x[i,j] + x[j,i] <= 1 \\\n",
    "                 for i,j in G.edges() if j > i \\\n",
    "                     and i != root and j != root ), name='SUB2')\n",
    "\n",
    "mtsp_mtz.update()\n"
   ]
  },
  {
   "cell_type": "code",
   "execution_count": 43,
   "metadata": {
    "collapsed": true
   },
   "outputs": [],
   "source": [
    "u[root].lb = 1\n",
    "u[root].ub = 1\n",
    "\n",
    "mtsp_mtz.addConstrs((u[i] - u[j] + p * x[i,j] <= p - 1 \\\n",
    "                     for i in G.nodes() for j in G.nodes()\\\n",
    "                    if i != j and i != root and j != root and G.has_edge(i,j)), name='MTZ')\n",
    "\n",
    "mtsp_mtz.update()\n",
    "mtsp_mtz.write('mtsp_mtz.lp')\n"
   ]
  },
  {
   "cell_type": "code",
   "execution_count": 44,
   "metadata": {},
   "outputs": [
    {
     "name": "stdout",
     "output_type": "stream",
     "text": [
      "Optimize a model with 189 rows, 144 columns and 704 nonzeros\n",
      "Variable types: 12 continuous, 132 integer (132 binary)\n",
      "Coefficient statistics:\n",
      "  Matrix range     [1e+00, 5e+00]\n",
      "  Objective range  [2e+02, 4e+03]\n",
      "  Bounds range     [1e+00, 5e+00]\n",
      "  RHS range        [1e+00, 4e+00]\n",
      "Found heuristic solution: objective 24316.000000\n",
      "Presolve removed 0 rows and 1 columns\n",
      "Presolve time: 0.00s\n",
      "Presolved: 189 rows, 143 columns, 1415 nonzeros\n",
      "Variable types: 11 continuous, 132 integer (132 binary)\n",
      "\n",
      "Root relaxation: objective 1.251527e+04, 42 iterations, 0.00 seconds\n",
      "\n",
      "    Nodes    |    Current Node    |     Objective Bounds      |     Work\n",
      " Expl Unexpl |  Obj  Depth IntInf | Incumbent    BestBd   Gap | It/Node Time\n",
      "\n",
      "     0     0 12515.2667    0   14 24316.0000 12515.2667  48.5%     -    0s\n",
      "H    0     0                    23021.000000 12515.2667  45.6%     -    0s\n",
      "H    0     0                    18218.000000 12515.2667  31.3%     -    0s\n",
      "H    0     0                    17084.000000 12515.2667  26.7%     -    0s\n",
      "     0     0 12573.0444    0   17 17084.0000 12573.0444  26.4%     -    0s\n",
      "     0     0 13008.0000    0   20 17084.0000 13008.0000  23.9%     -    0s\n",
      "     0     2 13008.5714    0   20 17084.0000 13008.5714  23.9%     -    0s\n",
      "H   42    41                    16449.000000 13008.5714  20.9%   7.9    0s\n",
      "*  575   385              24    16384.000000 13528.0444  17.4%   4.9    0s\n",
      "* 1106   600              20    16357.000000 13792.3000  15.7%   5.6    0s\n",
      "H 1141   568                    16172.000000 13792.3000  14.7%   5.7    0s\n",
      "H 1366   547                    16161.000000 13792.3000  14.7%   5.8    0s\n",
      "\n",
      "Cutting planes:\n",
      "  Gomory: 2\n",
      "  Implied bound: 1\n",
      "\n",
      "Explored 2861 nodes (17209 simplex iterations) in 0.70 seconds\n",
      "Thread count was 4 (of 4 available processors)\n",
      "\n",
      "Solution count 9: 16161 16172 16357 ... 24316\n",
      "\n",
      "Optimal solution found (tolerance 1.00e-04)\n",
      "Best objective 1.616100000000e+04, best bound 1.616100000000e+04, gap 0.0000%\n"
     ]
    }
   ],
   "source": [
    "mtsp_mtz.optimize()"
   ]
  },
  {
   "cell_type": "code",
   "execution_count": 45,
   "metadata": {
    "scrolled": false
   },
   "outputs": [
    {
     "data": {
      "image/svg+xml": [
       "<svg height=\"610pt\" viewBox=\"0.00 0.00 610.00 610.00\" width=\"610pt\" xmlns=\"http://www.w3.org/2000/svg\" xmlns:xlink=\"http://www.w3.org/1999/xlink\">\n",
       "<g class=\"graph\" id=\"graph0\" transform=\"scale(1 1) rotate(0) translate(-165 615)\">\n",
       "<title>%3</title>\n",
       "<polygon fill=\"white\" points=\"165,-5 165,-615 775,-615 775,-5 165,-5\" stroke=\"none\"/>\n",
       "<!-- 1 -->\n",
       "<g class=\"node\" id=\"node1\"><title>1</title>\n",
       "<ellipse cx=\"640\" cy=\"-360\" fill=\"none\" rx=\"11\" ry=\"11\" stroke=\"black\"/>\n",
       "<text font-family=\"Times,serif\" font-size=\"8.00\" text-anchor=\"middle\" x=\"640\" y=\"-357.6\">1</text>\n",
       "</g>\n",
       "<!-- 3 -->\n",
       "<g class=\"node\" id=\"node2\"><title>3</title>\n",
       "<ellipse cx=\"700\" cy=\"-40\" fill=\"none\" rx=\"11\" ry=\"11\" stroke=\"black\"/>\n",
       "<text font-family=\"Times,serif\" font-size=\"8.00\" text-anchor=\"middle\" x=\"700\" y=\"-37.6\">3</text>\n",
       "</g>\n",
       "<!-- 1&#45;&gt;3 -->\n",
       "<g class=\"edge\" id=\"edge1\"><title>1-&gt;3</title>\n",
       "<path d=\"M642.065,-348.985C650.756,-302.635 684.44,-122.988 696.044,-61.0964\" fill=\"none\" stroke=\"black\"/>\n",
       "<polygon fill=\"black\" points=\"699.54,-61.4426 697.943,-50.9688 692.66,-60.1525 699.54,-61.4426\" stroke=\"black\"/>\n",
       "<text font-family=\"Times,serif\" font-size=\"8.00\" text-anchor=\"middle\" x=\"664.055\" y=\"-206.641\">1.0</text>\n",
       "</g>\n",
       "<!-- 8 -->\n",
       "<g class=\"node\" id=\"node3\"><title>8</title>\n",
       "<ellipse cx=\"480\" cy=\"-500\" fill=\"none\" rx=\"11\" ry=\"11\" stroke=\"black\"/>\n",
       "<text font-family=\"Times,serif\" font-size=\"8.00\" text-anchor=\"middle\" x=\"480\" y=\"-497.6\">8</text>\n",
       "</g>\n",
       "<!-- 1&#45;&gt;8 -->\n",
       "<g class=\"edge\" id=\"edge2\"><title>1-&gt;8</title>\n",
       "<path d=\"M631.398,-367.527C605.787,-389.936 529.738,-456.479 496.199,-485.826\" fill=\"none\" stroke=\"black\"/>\n",
       "<polygon fill=\"black\" points=\"493.866,-483.217 488.645,-492.436 498.475,-488.485 493.866,-483.217\" stroke=\"black\"/>\n",
       "<text font-family=\"Times,serif\" font-size=\"8.00\" text-anchor=\"middle\" x=\"558.798\" y=\"-428.276\">1.0</text>\n",
       "</g>\n",
       "<!-- 12 -->\n",
       "<g class=\"node\" id=\"node4\"><title>12</title>\n",
       "<ellipse cx=\"760\" cy=\"-520\" fill=\"none\" rx=\"11\" ry=\"11\" stroke=\"black\"/>\n",
       "<text font-family=\"Times,serif\" font-size=\"8.00\" text-anchor=\"middle\" x=\"760\" y=\"-517.6\">12</text>\n",
       "</g>\n",
       "<!-- 1&#45;&gt;12 -->\n",
       "<g class=\"edge\" id=\"edge3\"><title>1-&gt;12</title>\n",
       "<path d=\"M646.796,-369.061C666.102,-394.802 721.52,-468.693 746.955,-502.607\" fill=\"none\" stroke=\"black\"/>\n",
       "<polygon fill=\"black\" points=\"744.479,-505.139 753.279,-511.039 750.079,-500.939 744.479,-505.139\" stroke=\"black\"/>\n",
       "<text font-family=\"Times,serif\" font-size=\"8.00\" text-anchor=\"middle\" x=\"691.875\" y=\"-437.434\">1.0</text>\n",
       "</g>\n",
       "<!-- 7 -->\n",
       "<g class=\"node\" id=\"node6\"><title>7</title>\n",
       "<ellipse cx=\"400\" cy=\"-20\" fill=\"none\" rx=\"11\" ry=\"11\" stroke=\"black\"/>\n",
       "<text font-family=\"Times,serif\" font-size=\"8.00\" text-anchor=\"middle\" x=\"400\" y=\"-17.6\">7</text>\n",
       "</g>\n",
       "<!-- 3&#45;&gt;7 -->\n",
       "<g class=\"edge\" id=\"edge5\"><title>3-&gt;7</title>\n",
       "<path d=\"M688.967,-39.2645C644.774,-36.3183 480.095,-25.3397 421.152,-21.4101\" fill=\"none\" stroke=\"black\"/>\n",
       "<polygon fill=\"black\" points=\"421.344,-17.9153 411.133,-20.7422 420.878,-24.8997 421.344,-17.9153\" stroke=\"black\"/>\n",
       "<text font-family=\"Times,serif\" font-size=\"8.00\" text-anchor=\"middle\" x=\"550.059\" y=\"-31.9373\">1.0</text>\n",
       "</g>\n",
       "<!-- 4 -->\n",
       "<g class=\"node\" id=\"node7\"><title>4</title>\n",
       "<ellipse cx=\"440\" cy=\"-520\" fill=\"none\" rx=\"11\" ry=\"11\" stroke=\"black\"/>\n",
       "<text font-family=\"Times,serif\" font-size=\"8.00\" text-anchor=\"middle\" x=\"440\" y=\"-517.6\">4</text>\n",
       "</g>\n",
       "<!-- 8&#45;&gt;4 -->\n",
       "<g class=\"edge\" id=\"edge10\"><title>8-&gt;4</title>\n",
       "<path d=\"M469.906,-505.047C466.565,-506.718 462.73,-508.635 458.946,-510.527\" fill=\"none\" stroke=\"black\"/>\n",
       "<polygon fill=\"black\" points=\"457.331,-507.421 449.952,-515.024 460.461,-513.682 457.331,-507.421\" stroke=\"black\"/>\n",
       "<text font-family=\"Times,serif\" font-size=\"8.00\" text-anchor=\"middle\" x=\"459.426\" y=\"-509.387\">1.0</text>\n",
       "</g>\n",
       "<!-- 5 -->\n",
       "<g class=\"node\" id=\"node9\"><title>5</title>\n",
       "<ellipse cx=\"680\" cy=\"-340\" fill=\"none\" rx=\"11\" ry=\"11\" stroke=\"black\"/>\n",
       "<text font-family=\"Times,serif\" font-size=\"8.00\" text-anchor=\"middle\" x=\"680\" y=\"-337.6\">5</text>\n",
       "</g>\n",
       "<!-- 12&#45;&gt;5 -->\n",
       "<g class=\"edge\" id=\"edge14\"><title>12-&gt;5</title>\n",
       "<path d=\"M755.47,-509.807C742.599,-480.847 705.653,-397.72 688.697,-359.567\" fill=\"none\" stroke=\"black\"/>\n",
       "<polygon fill=\"black\" points=\"691.74,-357.798 684.481,-350.082 685.344,-360.641 691.74,-357.798\" stroke=\"black\"/>\n",
       "<text font-family=\"Times,serif\" font-size=\"8.00\" text-anchor=\"middle\" x=\"717.083\" y=\"-436.287\">1.0</text>\n",
       "</g>\n",
       "<!-- 2 -->\n",
       "<g class=\"node\" id=\"node5\"><title>2</title>\n",
       "<ellipse cx=\"220\" cy=\"-400\" fill=\"none\" rx=\"11\" ry=\"11\" stroke=\"black\"/>\n",
       "<text font-family=\"Times,serif\" font-size=\"8.00\" text-anchor=\"middle\" x=\"220\" y=\"-397.6\">2</text>\n",
       "</g>\n",
       "<!-- 2&#45;&gt;1 -->\n",
       "<g class=\"edge\" id=\"edge4\"><title>2-&gt;1</title>\n",
       "<path d=\"M231.234,-398.93C287.94,-393.53 542.995,-369.239 618.731,-362.026\" fill=\"none\" stroke=\"black\"/>\n",
       "<polygon fill=\"black\" points=\"619.303,-365.487 628.926,-361.055 618.64,-358.519 619.303,-365.487\" stroke=\"black\"/>\n",
       "<text font-family=\"Times,serif\" font-size=\"8.00\" text-anchor=\"middle\" x=\"419.983\" y=\"-382.078\">1.0</text>\n",
       "</g>\n",
       "<!-- 9 -->\n",
       "<g class=\"node\" id=\"node11\"><title>9</title>\n",
       "<ellipse cx=\"300\" cy=\"-40\" fill=\"none\" rx=\"11\" ry=\"11\" stroke=\"black\"/>\n",
       "<text font-family=\"Times,serif\" font-size=\"8.00\" text-anchor=\"middle\" x=\"300\" y=\"-37.6\">9</text>\n",
       "</g>\n",
       "<!-- 7&#45;&gt;9 -->\n",
       "<g class=\"edge\" id=\"edge9\"><title>7-&gt;9</title>\n",
       "<path d=\"M388.916,-22.2168C372.536,-25.4927 341.574,-31.6852 320.86,-35.8279\" fill=\"none\" stroke=\"black\"/>\n",
       "<polygon fill=\"black\" points=\"319.949,-32.4408 310.83,-37.8341 321.322,-39.3049 319.949,-32.4408\" stroke=\"black\"/>\n",
       "<text font-family=\"Times,serif\" font-size=\"8.00\" text-anchor=\"middle\" x=\"349.888\" y=\"-30.6223\">1.0</text>\n",
       "</g>\n",
       "<!-- 6 -->\n",
       "<g class=\"node\" id=\"node8\"><title>6</title>\n",
       "<ellipse cx=\"180\" cy=\"-600\" fill=\"none\" rx=\"11\" ry=\"11\" stroke=\"black\"/>\n",
       "<text font-family=\"Times,serif\" font-size=\"8.00\" text-anchor=\"middle\" x=\"180\" y=\"-597.6\">6</text>\n",
       "</g>\n",
       "<!-- 4&#45;&gt;6 -->\n",
       "<g class=\"edge\" id=\"edge6\"><title>4-&gt;6</title>\n",
       "<path d=\"M429.486,-523.235C390.371,-535.27 252.839,-577.588 200.463,-593.704\" fill=\"none\" stroke=\"black\"/>\n",
       "<polygon fill=\"black\" points=\"199.174,-590.438 190.645,-596.725 201.232,-597.129 199.174,-590.438\" stroke=\"black\"/>\n",
       "<text font-family=\"Times,serif\" font-size=\"8.00\" text-anchor=\"middle\" x=\"309.974\" y=\"-560.069\">1.0</text>\n",
       "</g>\n",
       "<!-- 6&#45;&gt;2 -->\n",
       "<g class=\"edge\" id=\"edge8\"><title>6-&gt;2</title>\n",
       "<path d=\"M182.208,-588.962C188.612,-556.939 207.28,-463.6 215.742,-421.29\" fill=\"none\" stroke=\"black\"/>\n",
       "<polygon fill=\"black\" points=\"219.221,-421.742 217.75,-411.25 212.357,-420.37 219.221,-421.742\" stroke=\"black\"/>\n",
       "<text font-family=\"Times,serif\" font-size=\"8.00\" text-anchor=\"middle\" x=\"193.975\" y=\"-506.726\">1.0</text>\n",
       "</g>\n",
       "<!-- 10 -->\n",
       "<g class=\"node\" id=\"node10\"><title>10</title>\n",
       "<ellipse cx=\"720\" cy=\"-180\" fill=\"none\" rx=\"11\" ry=\"11\" stroke=\"black\"/>\n",
       "<text font-family=\"Times,serif\" font-size=\"8.00\" text-anchor=\"middle\" x=\"720\" y=\"-177.6\">10</text>\n",
       "</g>\n",
       "<!-- 5&#45;&gt;10 -->\n",
       "<g class=\"edge\" id=\"edge7\"><title>5-&gt;10</title>\n",
       "<path d=\"M682.687,-329.254C689.262,-302.952 706.252,-234.991 714.852,-200.593\" fill=\"none\" stroke=\"black\"/>\n",
       "<polygon fill=\"black\" points=\"718.295,-201.25 717.325,-190.7 711.504,-199.552 718.295,-201.25\" stroke=\"black\"/>\n",
       "<text font-family=\"Times,serif\" font-size=\"8.00\" text-anchor=\"middle\" x=\"693.769\" y=\"-266.523\">1.0</text>\n",
       "</g>\n",
       "<!-- 10&#45;&gt;1 -->\n",
       "<g class=\"edge\" id=\"edge12\"><title>10-&gt;1</title>\n",
       "<path d=\"M715.47,-190.193C702.599,-219.153 665.653,-302.28 648.697,-340.433\" fill=\"none\" stroke=\"black\"/>\n",
       "<polygon fill=\"black\" points=\"645.344,-339.359 644.481,-349.918 651.74,-342.202 645.344,-339.359\" stroke=\"black\"/>\n",
       "<text font-family=\"Times,serif\" font-size=\"8.00\" text-anchor=\"middle\" x=\"677.083\" y=\"-266.913\">1.0</text>\n",
       "</g>\n",
       "<!-- 11 -->\n",
       "<g class=\"node\" id=\"node12\"><title>11</title>\n",
       "<ellipse cx=\"480\" cy=\"-120\" fill=\"none\" rx=\"11\" ry=\"11\" stroke=\"black\"/>\n",
       "<text font-family=\"Times,serif\" font-size=\"8.00\" text-anchor=\"middle\" x=\"480\" y=\"-117.6\">11</text>\n",
       "</g>\n",
       "<!-- 9&#45;&gt;11 -->\n",
       "<g class=\"edge\" id=\"edge11\"><title>9-&gt;11</title>\n",
       "<path d=\"M310.193,-44.5304C339.153,-57.4012 422.28,-94.3467 460.433,-111.303\" fill=\"none\" stroke=\"black\"/>\n",
       "<polygon fill=\"black\" points=\"459.359,-114.656 469.918,-115.519 462.202,-108.26 459.359,-114.656\" stroke=\"black\"/>\n",
       "<text font-family=\"Times,serif\" font-size=\"8.00\" text-anchor=\"middle\" x=\"380.313\" y=\"-79.5169\">1.0</text>\n",
       "</g>\n",
       "<!-- 11&#45;&gt;1 -->\n",
       "<g class=\"edge\" id=\"edge13\"><title>11-&gt;1</title>\n",
       "<path d=\"M486.272,-129.408C510.268,-165.401 596.484,-294.726 628.191,-342.287\" fill=\"none\" stroke=\"black\"/>\n",
       "<polygon fill=\"black\" points=\"625.312,-344.278 633.771,-350.657 631.136,-340.395 625.312,-344.278\" stroke=\"black\"/>\n",
       "<text font-family=\"Times,serif\" font-size=\"8.00\" text-anchor=\"middle\" x=\"552.232\" y=\"-237.448\">1.0</text>\n",
       "</g>\n",
       "</g>\n",
       "</svg>"
      ],
      "text/plain": [
       "<IPython.core.display.SVG object>"
      ]
     },
     "metadata": {},
     "output_type": "display_data"
    }
   ],
   "source": [
    "DrawSol(x)\n",
    "\n",
    "display(SVG(filename=basename+'_sol.svg'))"
   ]
  },
  {
   "cell_type": "code",
   "execution_count": null,
   "metadata": {
    "collapsed": true
   },
   "outputs": [],
   "source": []
  }
 ],
 "metadata": {
  "kernelspec": {
   "display_name": "Python 3",
   "language": "python",
   "name": "python3"
  },
  "language_info": {
   "codemirror_mode": {
    "name": "ipython",
    "version": 3
   },
   "file_extension": ".py",
   "mimetype": "text/x-python",
   "name": "python",
   "nbconvert_exporter": "python",
   "pygments_lexer": "ipython3",
   "version": "3.6.0"
  }
 },
 "nbformat": 4,
 "nbformat_minor": 2
}
