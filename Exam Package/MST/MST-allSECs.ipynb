{
 "cells": [
  {
   "cell_type": "markdown",
   "metadata": {},
   "source": [
    "#  Minimum Spanning Tree Problem \n",
    "## Complete Subtour Elimination Constraints (SEC) formulation  \n",
    "\n",
    "\n",
    "This formulation contains all SEC inequalities.\n",
    "\n",
    "### Variables are declared BINARY but the polytope is integral"
   ]
  },
  {
   "cell_type": "code",
   "execution_count": 15,
   "metadata": {
    "collapsed": true
   },
   "outputs": [],
   "source": [
    "import networkx as nx\n",
    "import gurobipy as gb\n",
    "from itertools import combinations, chain\n",
    "import pygraphviz as pygv\n",
    "import os\n",
    "from IPython.display import SVG, display\n"
   ]
  },
  {
   "cell_type": "code",
   "execution_count": 16,
   "metadata": {
    "collapsed": true
   },
   "outputs": [],
   "source": [
    "def powerset(iterable):\n",
    "    \"powerset([1,2,3]) --> () (1,) (2,) (3,) (1,2) (1,3) (2,3) (1,2,3)\"\n",
    "    s = list(iterable)\n",
    "    return chain.from_iterable(combinations(s, r) for r in range(len(s)+1))\n",
    "\n",
    "#\n",
    "# Drawing \n",
    "# functions\n",
    "#\n",
    "\n",
    "def DrawInitialGraph():\n",
    "    global DrawG\n",
    "    DrawG = pygv.AGraph(undirected='true', strict='true', splines='true')\n",
    "\n",
    "\n",
    "    for i in G.nodes():\n",
    "        pos = str(G.node[i]['x'] * args.scale) + ',' + str((G.node[i]['y'])* args.scale)\n",
    "        DrawG.add_node (i, shape='circle', pos=pos, width=0.1, fontsize=9)\n",
    "    \n",
    "    DrawG.layout(prog='neato', args='-n')\n",
    "    DrawG.draw (path=str(basename) + '.svg', format='svg')\n",
    "    \n",
    "\n",
    "def DrawSol (x):\n",
    "    for i,j in G.edges():\n",
    "        lab = x[i,j].x\n",
    "        G[i][j]['capacity'] = x[i,j].x\n",
    "        if x[i,j].x > 0.00001:\n",
    "            if x[i,j].x > 0.999999:\n",
    "                DrawG.add_edge(i, j, color='black', label=lab, fontsize=9)\n",
    "            else:\n",
    "                DrawG.add_edge(i, j, color='red', label=lab)\n",
    "    path=str(basename)+'_sol.svg'\n",
    "    DrawG.draw (path=path, format='svg')\n",
    "    DrawG.delete_edges_from(DrawG.edges())\n",
    "    \n",
    "class args:\n",
    "    filename = None\n",
    "    scale = 40"
   ]
  },
  {
   "cell_type": "code",
   "execution_count": 17,
   "metadata": {},
   "outputs": [
    {
     "name": "stdout",
     "output_type": "stream",
     "text": [
      "G has 10 nodes and 45 edges\n"
     ]
    }
   ],
   "source": [
    "args.filename = \"mst.gml\"\n",
    "args.scale = 20\n",
    "\n",
    "basename = os.path.splitext(args.filename)[0]\n",
    "G = nx.read_graphml (args.filename, node_type=int)\n",
    "\n",
    "print (\"G has\", G.number_of_nodes(), \"nodes and\", G.number_of_edges(), \"edges\")"
   ]
  },
  {
   "cell_type": "code",
   "execution_count": 18,
   "metadata": {
    "scrolled": false
   },
   "outputs": [
    {
     "data": {
      "image/svg+xml": [
       "<svg height=\"717pt\" viewBox=\"0.00 0.00 577.00 717.00\" width=\"577pt\" xmlns=\"http://www.w3.org/2000/svg\" xmlns:xlink=\"http://www.w3.org/1999/xlink\">\n",
       "<g class=\"graph\" id=\"graph0\" transform=\"scale(1 1) rotate(0) translate(-1.5 798.5)\">\n",
       "<title>%3</title>\n",
       "<polygon fill=\"white\" points=\"1.5,-81.5 1.5,-798.5 578.5,-798.5 578.5,-81.5 1.5,-81.5\" stroke=\"none\"/>\n",
       "<!-- 1 -->\n",
       "<g class=\"node\" id=\"node1\"><title>1</title>\n",
       "<ellipse cx=\"20\" cy=\"-660\" fill=\"none\" rx=\"14.5\" ry=\"14.5\" stroke=\"black\"/>\n",
       "<text font-family=\"Times,serif\" font-size=\"9.00\" text-anchor=\"middle\" x=\"20\" y=\"-657.3\">1</text>\n",
       "</g>\n",
       "<!-- 2 -->\n",
       "<g class=\"node\" id=\"node2\"><title>2</title>\n",
       "<ellipse cx=\"520\" cy=\"-320\" fill=\"none\" rx=\"14.5\" ry=\"14.5\" stroke=\"black\"/>\n",
       "<text font-family=\"Times,serif\" font-size=\"9.00\" text-anchor=\"middle\" x=\"520\" y=\"-317.3\">2</text>\n",
       "</g>\n",
       "<!-- 3 -->\n",
       "<g class=\"node\" id=\"node3\"><title>3</title>\n",
       "<ellipse cx=\"380\" cy=\"-500\" fill=\"none\" rx=\"14.5\" ry=\"14.5\" stroke=\"black\"/>\n",
       "<text font-family=\"Times,serif\" font-size=\"9.00\" text-anchor=\"middle\" x=\"380\" y=\"-497.3\">3</text>\n",
       "</g>\n",
       "<!-- 4 -->\n",
       "<g class=\"node\" id=\"node4\"><title>4</title>\n",
       "<ellipse cx=\"540\" cy=\"-600\" fill=\"none\" rx=\"14.5\" ry=\"14.5\" stroke=\"black\"/>\n",
       "<text font-family=\"Times,serif\" font-size=\"9.00\" text-anchor=\"middle\" x=\"540\" y=\"-597.3\">4</text>\n",
       "</g>\n",
       "<!-- 5 -->\n",
       "<g class=\"node\" id=\"node5\"><title>5</title>\n",
       "<ellipse cx=\"560\" cy=\"-340\" fill=\"none\" rx=\"14.5\" ry=\"14.5\" stroke=\"black\"/>\n",
       "<text font-family=\"Times,serif\" font-size=\"9.00\" text-anchor=\"middle\" x=\"560\" y=\"-337.3\">5</text>\n",
       "</g>\n",
       "<!-- 6 -->\n",
       "<g class=\"node\" id=\"node6\"><title>6</title>\n",
       "<ellipse cx=\"460\" cy=\"-100\" fill=\"none\" rx=\"14.5\" ry=\"14.5\" stroke=\"black\"/>\n",
       "<text font-family=\"Times,serif\" font-size=\"9.00\" text-anchor=\"middle\" x=\"460\" y=\"-97.3\">6</text>\n",
       "</g>\n",
       "<!-- 7 -->\n",
       "<g class=\"node\" id=\"node7\"><title>7</title>\n",
       "<ellipse cx=\"460\" cy=\"-560\" fill=\"none\" rx=\"14.5\" ry=\"14.5\" stroke=\"black\"/>\n",
       "<text font-family=\"Times,serif\" font-size=\"9.00\" text-anchor=\"middle\" x=\"460\" y=\"-557.3\">7</text>\n",
       "</g>\n",
       "<!-- 8 -->\n",
       "<g class=\"node\" id=\"node8\"><title>8</title>\n",
       "<ellipse cx=\"480\" cy=\"-500\" fill=\"none\" rx=\"14.5\" ry=\"14.5\" stroke=\"black\"/>\n",
       "<text font-family=\"Times,serif\" font-size=\"9.00\" text-anchor=\"middle\" x=\"480\" y=\"-497.3\">8</text>\n",
       "</g>\n",
       "<!-- 9 -->\n",
       "<g class=\"node\" id=\"node9\"><title>9</title>\n",
       "<ellipse cx=\"60\" cy=\"-780\" fill=\"none\" rx=\"14.5\" ry=\"14.5\" stroke=\"black\"/>\n",
       "<text font-family=\"Times,serif\" font-size=\"9.00\" text-anchor=\"middle\" x=\"60\" y=\"-777.3\">9</text>\n",
       "</g>\n",
       "<!-- 10 -->\n",
       "<g class=\"node\" id=\"node10\"><title>10</title>\n",
       "<ellipse cx=\"220\" cy=\"-400\" fill=\"none\" rx=\"17.5\" ry=\"17.5\" stroke=\"black\"/>\n",
       "<text font-family=\"Times,serif\" font-size=\"9.00\" text-anchor=\"middle\" x=\"220\" y=\"-397.3\">10</text>\n",
       "</g>\n",
       "</g>\n",
       "</svg>"
      ],
      "text/plain": [
       "<IPython.core.display.SVG object>"
      ]
     },
     "metadata": {},
     "output_type": "display_data"
    }
   ],
   "source": [
    "DrawInitialGraph()\n",
    "display(SVG(filename=basename+'.svg'))\n",
    "\n"
   ]
  },
  {
   "cell_type": "markdown",
   "metadata": {},
   "source": [
    "### Decision variables:\n",
    "\n",
    "$$\n",
    "x_{ij} = \\begin{cases} 1 \\text{ if edge } e=\\{i,j\\} \\text{ is selected} \\\\\n",
    "0 \\text{ otherwise.}\\end{cases}\n",
    "$$\n",
    "\n",
    "### Formulation\n",
    "\n",
    "$$\n",
    "\\min \\sum_{e=\\{i,j\\} \\in E} c_{ij} x_{ij} \\\\\n",
    "\\sum_{e=\\{i,j\\} \\in E} x_{ij} = |V| - 1 \\\\\n",
    "\\sum_{e=\\{i,j\\} \\in E(S)} x_{ij} \\le |S| - 1, \\;\\; \\forall S \\subset V, 2 < |S| \\le |V| - 1  \\\\\n",
    "x \\le 1 \\\\ \n",
    "x \\ge 0\n",
    "$$"
   ]
  },
  {
   "cell_type": "code",
   "execution_count": 19,
   "metadata": {
    "collapsed": true
   },
   "outputs": [],
   "source": [
    "mst = gb.Model()\n",
    "\n",
    "# Decision Variables\n",
    "\n",
    "x = mst.addVars(G.edges(), \\\n",
    "                obj=[G[u][v]['cost'] for u,v in G.edges()],\\\n",
    "                ub = 1.0,\\\n",
    "                vtype=gb.GRB.BINARY,\\\n",
    "                name='x')\n",
    "\n",
    "\n",
    "#cost={(u,v):G.edge[u][v]['cost'] for u,v in G.edges()}\n",
    "#mst.setObjective(x.prod(cost))\n",
    "\n",
    "mst.update()\n",
    "\n",
    "mst.write('mst.lp')\n"
   ]
  },
  {
   "cell_type": "code",
   "execution_count": 20,
   "metadata": {
    "collapsed": true
   },
   "outputs": [],
   "source": [
    "# Cardinality constraint\n",
    "\n",
    "mst.addConstr(x.sum() == G.number_of_nodes() - 1, 'Cardinality')\n",
    "\n",
    "mst.update()\n",
    "\n",
    "mst.write('mst.lp')"
   ]
  },
  {
   "cell_type": "markdown",
   "metadata": {},
   "source": [
    "## Subtour elimination constraints"
   ]
  },
  {
   "cell_type": "code",
   "execution_count": 21,
   "metadata": {},
   "outputs": [
    {
     "name": "stdout",
     "output_type": "stream",
     "text": [
      "Number of Subtour Elimination Constraints: 967\n"
     ]
    }
   ],
   "source": [
    "sec = 0\n",
    "\n",
    "for i in powerset(G.nodes()):\n",
    "    if len(i) > 2 and len(i) <= G.number_of_nodes() - 1:\n",
    "        sec += 1\n",
    "        S = G.subgraph(i)\n",
    "        if S.number_of_edges() > S.number_of_nodes() - 1:\n",
    "            \n",
    "            # Add only edges existing in S \n",
    "            # NOTE \n",
    "            # a variable key error may arise without  \n",
    "            # the conditional statement (edge are undirected)\n",
    "            # \n",
    "\n",
    "                \n",
    "            mst.addConstr(gb.quicksum(x[i,j] \\\n",
    "                                      if (i,j) in x else x[j,i] \\\n",
    "                                      for i,j in S.edges()) \\\n",
    "                          <= S.number_of_nodes() - 1, 'Sec' + str(sec))\n",
    "            \n",
    "            \n",
    "mst.update()\n",
    "mst.write('mst.lp')\n",
    "\n",
    "print (\"Number of Subtour Elimination Constraints:\", sec)\n"
   ]
  },
  {
   "cell_type": "code",
   "execution_count": 22,
   "metadata": {},
   "outputs": [
    {
     "name": "stdout",
     "output_type": "stream",
     "text": [
      "Optimize a model with 968 rows, 45 columns and 11475 nonzeros\n",
      "Variable types: 0 continuous, 45 integer (45 binary)\n",
      "Coefficient statistics:\n",
      "  Matrix range     [1e+00, 1e+00]\n",
      "  Objective range  [2e+02, 4e+03]\n",
      "  Bounds range     [1e+00, 1e+00]\n",
      "  RHS range        [2e+00, 9e+00]\n",
      "Found heuristic solution: objective 16268.000000\n",
      "Presolve time: 0.01s\n",
      "Presolved: 968 rows, 45 columns, 11475 nonzeros\n",
      "Variable types: 0 continuous, 45 integer (45 binary)\n",
      "Presolved: 45 rows, 1013 columns, 11520 nonzeros\n",
      "\n",
      "\n",
      "Root relaxation: objective 6.735000e+03, 22 iterations, 0.01 seconds\n",
      "\n",
      "    Nodes    |    Current Node    |     Objective Bounds      |     Work\n",
      " Expl Unexpl |  Obj  Depth IntInf | Incumbent    BestBd   Gap | It/Node Time\n",
      "\n",
      "*    0     0               0    6735.0000000 6735.00000  0.00%     -    0s\n",
      "\n",
      "Explored 0 nodes (22 simplex iterations) in 0.07 seconds\n",
      "Thread count was 4 (of 4 available processors)\n",
      "\n",
      "Solution count 2: 6735 16268 \n",
      "\n",
      "Optimal solution found (tolerance 1.00e-04)\n",
      "Best objective 6.735000000000e+03, best bound 6.735000000000e+03, gap 0.0000%\n",
      "Optimal solution: 6735.0\n"
     ]
    }
   ],
   "source": [
    "\n",
    "mst.optimize()\n",
    "\n",
    "print (\"Optimal solution:\", mst.objVal)\n",
    "DrawSol(x)\n"
   ]
  },
  {
   "cell_type": "code",
   "execution_count": 23,
   "metadata": {},
   "outputs": [
    {
     "data": {
      "image/svg+xml": [
       "<svg height=\"717pt\" viewBox=\"0.00 0.00 577.00 717.00\" width=\"577pt\" xmlns=\"http://www.w3.org/2000/svg\" xmlns:xlink=\"http://www.w3.org/1999/xlink\">\n",
       "<g class=\"graph\" id=\"graph0\" transform=\"scale(1 1) rotate(0) translate(-1.5 798.5)\">\n",
       "<title>%3</title>\n",
       "<polygon fill=\"white\" points=\"1.5,-81.5 1.5,-798.5 578.5,-798.5 578.5,-81.5 1.5,-81.5\" stroke=\"none\"/>\n",
       "<!-- 1 -->\n",
       "<g class=\"node\" id=\"node1\"><title>1</title>\n",
       "<ellipse cx=\"20\" cy=\"-660\" fill=\"none\" rx=\"14.5\" ry=\"14.5\" stroke=\"black\"/>\n",
       "<text font-family=\"Times,serif\" font-size=\"9.00\" text-anchor=\"middle\" x=\"20\" y=\"-657.3\">1</text>\n",
       "</g>\n",
       "<!-- 9 -->\n",
       "<g class=\"node\" id=\"node2\"><title>9</title>\n",
       "<ellipse cx=\"60\" cy=\"-780\" fill=\"none\" rx=\"14.5\" ry=\"14.5\" stroke=\"black\"/>\n",
       "<text font-family=\"Times,serif\" font-size=\"9.00\" text-anchor=\"middle\" x=\"60\" y=\"-777.3\">9</text>\n",
       "</g>\n",
       "<!-- 1&#45;&#45;9 -->\n",
       "<g class=\"edge\" id=\"edge1\"><title>1--9</title>\n",
       "<path d=\"M24.5885,-673.766C32.2633,-696.79 47.6207,-742.862 55.3418,-766.025\" fill=\"none\" stroke=\"black\"/>\n",
       "<text font-family=\"Times,serif\" font-size=\"9.00\" text-anchor=\"middle\" x=\"34.3228\" y=\"-721.643\">1.0</text>\n",
       "</g>\n",
       "<!-- 10 -->\n",
       "<g class=\"node\" id=\"node3\"><title>10</title>\n",
       "<ellipse cx=\"220\" cy=\"-400\" fill=\"none\" rx=\"17.5\" ry=\"17.5\" stroke=\"black\"/>\n",
       "<text font-family=\"Times,serif\" font-size=\"9.00\" text-anchor=\"middle\" x=\"220\" y=\"-397.3\">10</text>\n",
       "</g>\n",
       "<!-- 1&#45;&#45;10 -->\n",
       "<g class=\"edge\" id=\"edge2\"><title>1--10</title>\n",
       "<path d=\"M28.8518,-648.493C61.2832,-606.332 173.564,-460.366 209.116,-414.15\" fill=\"none\" stroke=\"black\"/>\n",
       "<text font-family=\"Times,serif\" font-size=\"9.00\" text-anchor=\"middle\" x=\"112.189\" y=\"-534.642\">1.0</text>\n",
       "</g>\n",
       "<!-- 2 -->\n",
       "<g class=\"node\" id=\"node4\"><title>2</title>\n",
       "<ellipse cx=\"520\" cy=\"-320\" fill=\"none\" rx=\"14.5\" ry=\"14.5\" stroke=\"black\"/>\n",
       "<text font-family=\"Times,serif\" font-size=\"9.00\" text-anchor=\"middle\" x=\"520\" y=\"-317.3\">2</text>\n",
       "</g>\n",
       "<!-- 5 -->\n",
       "<g class=\"node\" id=\"node5\"><title>5</title>\n",
       "<ellipse cx=\"560\" cy=\"-340\" fill=\"none\" rx=\"14.5\" ry=\"14.5\" stroke=\"black\"/>\n",
       "<text font-family=\"Times,serif\" font-size=\"9.00\" text-anchor=\"middle\" x=\"560\" y=\"-337.3\">5</text>\n",
       "</g>\n",
       "<!-- 2&#45;&#45;5 -->\n",
       "<g class=\"edge\" id=\"edge3\"><title>2--5</title>\n",
       "<path d=\"M533.097,-326.549C537.563,-328.782 542.552,-331.276 547.01,-333.505\" fill=\"none\" stroke=\"black\"/>\n",
       "<text font-family=\"Times,serif\" font-size=\"9.00\" text-anchor=\"middle\" x=\"540.057\" y=\"-322.828\">1.0</text>\n",
       "</g>\n",
       "<!-- 6 -->\n",
       "<g class=\"node\" id=\"node6\"><title>6</title>\n",
       "<ellipse cx=\"460\" cy=\"-100\" fill=\"none\" rx=\"14.5\" ry=\"14.5\" stroke=\"black\"/>\n",
       "<text font-family=\"Times,serif\" font-size=\"9.00\" text-anchor=\"middle\" x=\"460\" y=\"-97.3\">6</text>\n",
       "</g>\n",
       "<!-- 2&#45;&#45;6 -->\n",
       "<g class=\"edge\" id=\"edge4\"><title>2--6</title>\n",
       "<path d=\"M516.155,-305.903C505.344,-266.262 474.757,-154.109 463.89,-114.264\" fill=\"none\" stroke=\"black\"/>\n",
       "<text font-family=\"Times,serif\" font-size=\"9.00\" text-anchor=\"middle\" x=\"484.419\" y=\"-211.96\">1.0</text>\n",
       "</g>\n",
       "<!-- 8 -->\n",
       "<g class=\"node\" id=\"node8\"><title>8</title>\n",
       "<ellipse cx=\"480\" cy=\"-500\" fill=\"none\" rx=\"14.5\" ry=\"14.5\" stroke=\"black\"/>\n",
       "<text font-family=\"Times,serif\" font-size=\"9.00\" text-anchor=\"middle\" x=\"480\" y=\"-497.3\">8</text>\n",
       "</g>\n",
       "<!-- 5&#45;&#45;8 -->\n",
       "<g class=\"edge\" id=\"edge8\"><title>5--8</title>\n",
       "<path d=\"M553.453,-353.093C538.452,-383.096 501.726,-456.549 486.637,-486.726\" fill=\"none\" stroke=\"black\"/>\n",
       "<text font-family=\"Times,serif\" font-size=\"9.00\" text-anchor=\"middle\" x=\"514.453\" y=\"-421.644\">1.0</text>\n",
       "</g>\n",
       "<!-- 3 -->\n",
       "<g class=\"node\" id=\"node7\"><title>3</title>\n",
       "<ellipse cx=\"380\" cy=\"-500\" fill=\"none\" rx=\"14.5\" ry=\"14.5\" stroke=\"black\"/>\n",
       "<text font-family=\"Times,serif\" font-size=\"9.00\" text-anchor=\"middle\" x=\"380\" y=\"-497.3\">3</text>\n",
       "</g>\n",
       "<!-- 3&#45;&#45;10 -->\n",
       "<g class=\"edge\" id=\"edge6\"><title>3--10</title>\n",
       "<path d=\"M367.445,-492.153C338.419,-474.012 266.752,-429.22 235.26,-409.537\" fill=\"none\" stroke=\"black\"/>\n",
       "<text font-family=\"Times,serif\" font-size=\"9.00\" text-anchor=\"middle\" x=\"296.653\" y=\"-453.223\">1.0</text>\n",
       "</g>\n",
       "<!-- 3&#45;&#45;8 -->\n",
       "<g class=\"edge\" id=\"edge5\"><title>3--8</title>\n",
       "<path d=\"M394.755,-500C413.662,-500 446.248,-500 465.184,-500\" fill=\"none\" stroke=\"black\"/>\n",
       "<text font-family=\"Times,serif\" font-size=\"9.00\" text-anchor=\"middle\" x=\"424.334\" y=\"-501.8\">1.0</text>\n",
       "</g>\n",
       "<!-- 4 -->\n",
       "<g class=\"node\" id=\"node9\"><title>4</title>\n",
       "<ellipse cx=\"540\" cy=\"-600\" fill=\"none\" rx=\"14.5\" ry=\"14.5\" stroke=\"black\"/>\n",
       "<text font-family=\"Times,serif\" font-size=\"9.00\" text-anchor=\"middle\" x=\"540\" y=\"-597.3\">4</text>\n",
       "</g>\n",
       "<!-- 7 -->\n",
       "<g class=\"node\" id=\"node10\"><title>7</title>\n",
       "<ellipse cx=\"460\" cy=\"-560\" fill=\"none\" rx=\"14.5\" ry=\"14.5\" stroke=\"black\"/>\n",
       "<text font-family=\"Times,serif\" font-size=\"9.00\" text-anchor=\"middle\" x=\"460\" y=\"-557.3\">7</text>\n",
       "</g>\n",
       "<!-- 4&#45;&#45;7 -->\n",
       "<g class=\"edge\" id=\"edge7\"><title>4--7</title>\n",
       "<path d=\"M526.79,-593.395C511.967,-585.983 488.061,-574.03 473.23,-566.615\" fill=\"none\" stroke=\"black\"/>\n",
       "<text font-family=\"Times,serif\" font-size=\"9.00\" text-anchor=\"middle\" x=\"494.388\" y=\"-581.806\">1.0</text>\n",
       "</g>\n",
       "<!-- 7&#45;&#45;8 -->\n",
       "<g class=\"edge\" id=\"edge9\"><title>7--8</title>\n",
       "<path d=\"M464.639,-546.084C467.87,-536.391 472.161,-523.517 475.386,-513.841\" fill=\"none\" stroke=\"black\"/>\n",
       "<text font-family=\"Times,serif\" font-size=\"9.00\" text-anchor=\"middle\" x=\"464.39\" y=\"-531.756\">1.0</text>\n",
       "</g>\n",
       "</g>\n",
       "</svg>"
      ],
      "text/plain": [
       "<IPython.core.display.SVG object>"
      ]
     },
     "metadata": {},
     "output_type": "display_data"
    }
   ],
   "source": [
    "display(SVG(filename=basename+'_sol.svg'))\n"
   ]
  },
  {
   "cell_type": "code",
   "execution_count": null,
   "metadata": {
    "collapsed": true
   },
   "outputs": [],
   "source": []
  }
 ],
 "metadata": {
  "anaconda-cloud": {},
  "kernelspec": {
   "display_name": "Python 3",
   "language": "python",
   "name": "python3"
  },
  "language_info": {
   "codemirror_mode": {
    "name": "ipython",
    "version": 3
   },
   "file_extension": ".py",
   "mimetype": "text/x-python",
   "name": "python",
   "nbconvert_exporter": "python",
   "pygments_lexer": "ipython3",
   "version": "3.6.0"
  }
 },
 "nbformat": 4,
 "nbformat_minor": 1
}
