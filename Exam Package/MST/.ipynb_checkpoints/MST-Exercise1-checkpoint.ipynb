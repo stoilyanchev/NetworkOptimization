{
 "cells": [
  {
   "cell_type": "code",
   "execution_count": 1,
   "metadata": {},
   "outputs": [],
   "source": [
    "import networkx as nx\n",
    "import gurobipy as gb\n",
    "from itertools import combinations, chain\n",
    "#import pygraphviz as pygv\n",
    "import os\n",
    "from IPython.display import SVG, display\n"
   ]
  },
  {
   "cell_type": "code",
   "execution_count": null,
   "metadata": {},
   "outputs": [],
   "source": [
    "def powerset(iterable):\n",
    "    \"powerset([1,2,3]) --> () (1,) (2,) (3,) (1,2) (1,3) (2,3) (1,2,3)\"\n",
    "    s = list(iterable)\n",
    "    return chain.from_iterable(combinations(s, r) for r in range(len(s)+1))\n",
    "\n",
    "#\n",
    "# Drawing \n",
    "# functions\n",
    "#\n",
    "\n",
    "def DrawInitialGraph():\n",
    "    global DrawG\n",
    "    DrawG = pygv.AGraph(undirected='true', strict='true', splines='true')\n",
    "\n",
    "\n",
    "    for i in G.nodes():\n",
    "        pos = str(G.node[i]['x'] * args.scale) + ',' + str((G.node[i]['y'])* args.scale)\n",
    "        DrawG.add_node (i, shape='circle', pos=pos, width=0.1, fontsize=9)\n",
    "    \n",
    "    DrawG.layout(prog='neato', args='-n')\n",
    "    DrawG.draw (path=str(basename) + '.svg', format='svg')\n",
    "    \n",
    "\n",
    "def DrawSol (x):\n",
    "    for i,j in G.edges():\n",
    "        lab = x[i,j].x\n",
    "        G[i][j]['capacity'] = x[i,j].x\n",
    "        if x[i,j].x > 0.00001:\n",
    "            if x[i,j].x > 0.999999:\n",
    "                DrawG.add_edge(i, j, color='black', label=lab, fontsize=9)\n",
    "            else:\n",
    "                DrawG.add_edge(i, j, color='red', label=lab)\n",
    "    path=str(basename)+'_sol.svg'\n",
    "    DrawG.draw (path=path, format='svg')\n",
    "    DrawG.delete_edges_from(DrawG.edges())\n",
    "    "
   ]
  },
  {
   "cell_type": "code",
   "execution_count": 2,
   "metadata": {},
   "outputs": [],
   "source": [
    "class args:\n",
    "    filename = None\n",
    "    scale = 40"
   ]
  },
  {
   "cell_type": "markdown",
   "metadata": {},
   "source": [
    "## Multicommodity flow formulation\n",
    "\n",
    "\n",
    "$$\n",
    "x_e = \\begin{cases}\n",
    "1 \\text{ if edge $e$ is in the tree} \\\\\n",
    "0 \\text { otherwise}\n",
    "\\end{cases}\n",
    "$$\n",
    "\n",
    "Associate to each edge $e$ two directed arcs $(i,j)$ and $(j,i)$ and let \n",
    "\n",
    "\n",
    "$$\n",
    "y_{ij}= \\{\\text{capacity for the flow of each commodity $k$ in arc } (i,j)\\}\n",
    "$$\n",
    "\n",
    "$$\n",
    "f^k_{ij} = \\{\\text{flow of commodity $k$ carried by the arc } (i,j)\\}\n",
    "$$\n",
    "\n",
    "\\begin{alignat}{3}\n",
    "\\min cx &&\\\\\n",
    "\\sum_{j \\in \\delta^+(0)} f^k_{0j} - \\sum_{j \\in \\delta^-(0)} f^k_{j0} = 1 &&\\;\\; \\forall k \\not = \\{0\\}\\\\\n",
    "\\sum_{j \\in \\delta^-(v)} f^k_{jv} - \\sum_{j \\in \\delta^+(v)} f^k_{vj} = 0 &&\\;\\; \\forall k \\not = \\{0\\}, \\forall v \\in V, v \\not = \\{0\\}, v \\not = k \\\\\n",
    "\\sum_{j \\in \\delta^-(k)} f^k_{jk} - \\sum_{j \\in \\delta^+(k)} f^k_{kj} = 1 && \\;\\; \\forall k \\not = \\{0\\} \\\\\n",
    "f^k_{ij} \\le y_{ij} && \\;\\; \\forall (i,j) \\text{ and } \\forall k \\not = \\{0\\}\\\\\n",
    "\\sum_{\\{i,j\\} \\in E} (y_{ij} + y_{ji}) = n-1\\\\\n",
    "y_{ij} + y_{ji} = x_e && \\\\\n",
    "f \\ge 0, \\; x_e \\in \\{0,1\\}\\; \n",
    "\\forall e \\in E, \\; \\\\y_{ij} \\in \\{0,1\\} \\; \\forall (i,j) \\in A\n",
    "\\end{alignat}"
   ]
  },
  {
   "cell_type": "code",
   "execution_count": 3,
   "metadata": {},
   "outputs": [
    {
     "name": "stdout",
     "output_type": "stream",
     "text": [
      "G has 15 nodes and 105 edges\n"
     ]
    }
   ],
   "source": [
    "args.filename = \"network1.gml\"\n",
    "args.scale = 25\n",
    "\n",
    "basename = os.path.splitext(args.filename)[0]\n",
    "G = nx.read_graphml (args.filename, node_type=int)\n",
    "\n",
    "print (\"G has\", G.number_of_nodes(), \"nodes and\", G.number_of_edges(), \"edges\")"
   ]
  },
  {
   "cell_type": "code",
   "execution_count": 4,
   "metadata": {
    "scrolled": false
   },
   "outputs": [],
   "source": [
    "D = G.to_directed()\n",
    "root = 1\n",
    "#DrawInitialGraph()\n",
    "#display(SVG(filename=basename+'.svg'))\n",
    "\n"
   ]
  },
  {
   "cell_type": "code",
   "execution_count": 5,
   "metadata": {},
   "outputs": [],
   "source": [
    "commodities = list(G.nodes())[1:]\n",
    "nodessetminusroot = list(G.nodes())[1:]\n",
    "\n",
    "\n",
    "mstmultiflow = gb.Model()\n",
    "\n",
    "\n",
    "x = mstmultiflow.addVars(G.edges(), \\\n",
    "                         obj=[G[u][v]['cost'] for u,v in G.edges()],\\\n",
    "                        ub = 1.0,\\\n",
    "                        vtype=gb.GRB.BINARY,\\\n",
    "                        name='x')\n",
    "\n",
    "y = mstmultiflow.addVars(D.edges(), ub=1.0, vtype=gb.GRB.BINARY, name='y')\n",
    "\n",
    "f = mstmultiflow.addVars(D.edges(), commodities, ub=G.number_of_nodes(), vtype=gb.GRB.CONTINUOUS, name='f')\n",
    "\n"
   ]
  },
  {
   "cell_type": "code",
   "execution_count": 6,
   "metadata": {},
   "outputs": [],
   "source": [
    "#\n",
    "# Cardinality constraint\n",
    "#\n",
    "\n",
    "mstmultiflow.addConstr(y.sum() == G.number_of_nodes() - 1, \"Cardinality\")\n",
    "\n",
    "mstmultiflow.update()\n",
    "\n",
    "mstmultiflow.write('mstmultiflow.lp')"
   ]
  },
  {
   "cell_type": "code",
   "execution_count": 7,
   "metadata": {},
   "outputs": [],
   "source": [
    "for e in G.edges():\n",
    "    h = e[0]\n",
    "    k = e[1]\n",
    "\n",
    "    name = \"Equality_x_(%d,%d)\"%(h,k)\n",
    "    mstmultiflow.addConstr(y[h,k] + y[k,h] -  x[e] == 0, name)\n",
    "                          \n",
    "                           \n",
    "mstmultiflow.update()\n",
    " "
   ]
  },
  {
   "cell_type": "code",
   "execution_count": 8,
   "metadata": {},
   "outputs": [],
   "source": [
    "#\n",
    "# Variable capacity cons\n",
    "#\n",
    "\n",
    "for k in commodities:\n",
    "    for u,v in D.edges():\n",
    "        name = \"Cap_(%d,%d)\" % (u,v) + \"_Com_\" + str(k)\n",
    "        mstmultiflow.addConstr (f [u,v,k] - y[u,v] <= 0, name)\n",
    "\n",
    "mstmultiflow.update()\n",
    "\n"
   ]
  },
  {
   "cell_type": "code",
   "execution_count": 9,
   "metadata": {},
   "outputs": [],
   "source": [
    "#\n",
    "# Root constraints\n",
    "#\n",
    "\n",
    "for k in commodities:\n",
    "    name = \"Root_Com_\"+str(k)\n",
    "    mstmultiflow.addConstr(f.sum('*',root,k) - f.sum(root, '*', k) \\\n",
    "                           == 1, name)\n"
   ]
  },
  {
   "cell_type": "code",
   "execution_count": 10,
   "metadata": {},
   "outputs": [],
   "source": [
    "#\n",
    "# Balance constraints\n",
    "#\n",
    "\n",
    "for v in nodessetminusroot:\n",
    "    for k in commodities:\n",
    "        if (v != k):\n",
    "            name = \"Balance_\"+str(v)+\"_Com_\"+str(k)\n",
    "            mstmultiflow.addConstr(f.sum('*',v,k) - f.sum(v,'*',k) == 0, name)\n",
    "            \n",
    "\n",
    "mstmultiflow.update()\n",
    "#mstmultiflow.write('mstmultiflow.lp')"
   ]
  },
  {
   "cell_type": "code",
   "execution_count": 11,
   "metadata": {},
   "outputs": [],
   "source": [
    "#\n",
    "# Terminal constraints\n",
    "#\n",
    "\n",
    "for k in commodities:\n",
    "    name = \"Term_Com_\"+str(k)\n",
    "    mstmultiflow.addConstr(f.sum(k,'*',k) - f.sum('*',k,k) == 1, name)\n",
    "\n",
    "mstmultiflow.update()\n",
    "mstmultiflow.write('mstmultiflow.lp')"
   ]
  },
  {
   "cell_type": "code",
   "execution_count": 12,
   "metadata": {},
   "outputs": [
    {
     "name": "stdout",
     "output_type": "stream",
     "text": [
      "Optimize a model with 3256 rows, 3255 columns and 12285 nonzeros\n",
      "Variable types: 2940 continuous, 315 integer (315 binary)\n",
      "Coefficient statistics:\n",
      "  Matrix range     [1e+00, 1e+00]\n",
      "  Objective range  [1e+02, 5e+03]\n",
      "  Bounds range     [1e+00, 2e+01]\n",
      "  RHS range        [1e+00, 1e+01]\n",
      "Presolve removed 0 rows and 105 columns\n",
      "Presolve time: 0.01s\n",
      "Presolved: 3256 rows, 3150 columns, 12180 nonzeros\n",
      "Variable types: 2940 continuous, 210 integer (210 binary)\n",
      "\n",
      "Root relaxation: objective 1.052000e+04, 1343 iterations, 0.04 seconds\n",
      "\n",
      "    Nodes    |    Current Node    |     Objective Bounds      |     Work\n",
      " Expl Unexpl |  Obj  Depth IntInf | Incumbent    BestBd   Gap | It/Node Time\n",
      "\n",
      "*    0     0               0    10520.000000 10520.0000  0.00%     -    0s\n",
      "\n",
      "Explored 0 nodes (1343 simplex iterations) in 0.18 seconds\n",
      "Thread count was 4 (of 4 available processors)\n",
      "\n",
      "Solution count 1: 10520 \n",
      "\n",
      "Optimal solution found (tolerance 1.00e-04)\n",
      "Best objective 1.052000000000e+04, best bound 1.052000000000e+04, gap 0.0000%\n"
     ]
    }
   ],
   "source": [
    "mstmultiflow.optimize()"
   ]
  },
  {
   "cell_type": "code",
   "execution_count": 13,
   "metadata": {},
   "outputs": [
    {
     "name": "stdout",
     "output_type": "stream",
     "text": [
      "<gurobi.Var x[1,2] (value 1.0)>\n",
      "<gurobi.Var x[1,3] (value 1.0)>\n",
      "<gurobi.Var x[1,12] (value 1.0)>\n",
      "<gurobi.Var x[2,15] (value 1.0)>\n",
      "<gurobi.Var x[3,4] (value 1.0)>\n",
      "<gurobi.Var x[4,5] (value 1.0)>\n",
      "<gurobi.Var x[4,8] (value 1.0)>\n",
      "<gurobi.Var x[5,11] (value 1.0)>\n",
      "<gurobi.Var x[6,14] (value 1.0)>\n",
      "<gurobi.Var x[7,9] (value 1.0)>\n",
      "<gurobi.Var x[8,13] (value 1.0)>\n",
      "<gurobi.Var x[9,15] (value 1.0)>\n",
      "<gurobi.Var x[10,14] (value 1.0)>\n",
      "<gurobi.Var x[12,14] (value 1.0)>\n"
     ]
    }
   ],
   "source": [
    "for i in x:\n",
    "    if x[i].x > 0:\n",
    "        print (x[i])"
   ]
  },
  {
   "cell_type": "code",
   "execution_count": 20,
   "metadata": {
    "scrolled": false
   },
   "outputs": [
    {
     "data": {
      "image/svg+xml": [
       "<svg height=\"1093pt\" viewBox=\"0.00 0.00 640.00 1093.00\" width=\"640pt\" xmlns=\"http://www.w3.org/2000/svg\" xmlns:xlink=\"http://www.w3.org/1999/xlink\">\n",
       "<g class=\"graph\" id=\"graph0\" transform=\"scale(1 1) rotate(0) translate(-3.5 1196.5)\">\n",
       "<title>%3</title>\n",
       "<polygon fill=\"white\" points=\"3.5,-103.5 3.5,-1196.5 643.5,-1196.5 643.5,-103.5 3.5,-103.5\" stroke=\"none\"/>\n",
       "<!-- 1 -->\n",
       "<g class=\"node\" id=\"node1\"><title>1</title>\n",
       "<ellipse cx=\"450\" cy=\"-550\" fill=\"none\" rx=\"14.5\" ry=\"14.5\" stroke=\"black\"/>\n",
       "<text font-family=\"Times,serif\" font-size=\"9.00\" text-anchor=\"middle\" x=\"450\" y=\"-547.3\">1</text>\n",
       "</g>\n",
       "<!-- 2 -->\n",
       "<g class=\"node\" id=\"node2\"><title>2</title>\n",
       "<ellipse cx=\"125\" cy=\"-600\" fill=\"none\" rx=\"14.5\" ry=\"14.5\" stroke=\"black\"/>\n",
       "<text font-family=\"Times,serif\" font-size=\"9.00\" text-anchor=\"middle\" x=\"125\" y=\"-597.3\">2</text>\n",
       "</g>\n",
       "<!-- 1&#45;&#45;2 -->\n",
       "<g class=\"edge\" id=\"edge1\"><title>1--2</title>\n",
       "<path d=\"M435.616,-552.213C381.932,-560.472 193.608,-589.445 139.587,-597.756\" fill=\"none\" stroke=\"black\"/>\n",
       "<text font-family=\"Times,serif\" font-size=\"9.00\" text-anchor=\"middle\" x=\"282.103\" y=\"-576.765\">1.0</text>\n",
       "</g>\n",
       "<!-- 3 -->\n",
       "<g class=\"node\" id=\"node3\"><title>3</title>\n",
       "<ellipse cx=\"375\" cy=\"-825\" fill=\"none\" rx=\"14.5\" ry=\"14.5\" stroke=\"black\"/>\n",
       "<text font-family=\"Times,serif\" font-size=\"9.00\" text-anchor=\"middle\" x=\"375\" y=\"-822.3\">3</text>\n",
       "</g>\n",
       "<!-- 1&#45;&#45;3 -->\n",
       "<g class=\"edge\" id=\"edge2\"><title>1--3</title>\n",
       "<path d=\"M446.178,-564.015C433.342,-611.08 391.862,-763.173 378.905,-810.683\" fill=\"none\" stroke=\"black\"/>\n",
       "<text font-family=\"Times,serif\" font-size=\"9.00\" text-anchor=\"middle\" x=\"406.962\" y=\"-688.982\">1.0</text>\n",
       "</g>\n",
       "<!-- 12 -->\n",
       "<g class=\"node\" id=\"node4\"><title>12</title>\n",
       "<ellipse cx=\"450\" cy=\"-400\" fill=\"none\" rx=\"17.5\" ry=\"17.5\" stroke=\"black\"/>\n",
       "<text font-family=\"Times,serif\" font-size=\"9.00\" text-anchor=\"middle\" x=\"450\" y=\"-397.3\">12</text>\n",
       "</g>\n",
       "<!-- 1&#45;&#45;12 -->\n",
       "<g class=\"edge\" id=\"edge3\"><title>1--12</title>\n",
       "<path d=\"M450,-535.344C450,-507.626 450,-447.627 450,-417.708\" fill=\"none\" stroke=\"black\"/>\n",
       "<text font-family=\"Times,serif\" font-size=\"9.00\" text-anchor=\"middle\" x=\"444.375\" y=\"-479.151\">1.0</text>\n",
       "</g>\n",
       "<!-- 15 -->\n",
       "<g class=\"node\" id=\"node5\"><title>15</title>\n",
       "<ellipse cx=\"100\" cy=\"-575\" fill=\"none\" rx=\"17.5\" ry=\"17.5\" stroke=\"black\"/>\n",
       "<text font-family=\"Times,serif\" font-size=\"9.00\" text-anchor=\"middle\" x=\"100\" y=\"-572.3\">15</text>\n",
       "</g>\n",
       "<!-- 2&#45;&#45;15 -->\n",
       "<g class=\"edge\" id=\"edge4\"><title>2--15</title>\n",
       "<path d=\"M114.543,-589.543C113.9,-588.9 113.251,-588.251 112.601,-587.601\" fill=\"none\" stroke=\"black\"/>\n",
       "<text font-family=\"Times,serif\" font-size=\"9.00\" text-anchor=\"middle\" x=\"119.2\" y=\"-581.375\">1.0</text>\n",
       "</g>\n",
       "<!-- 4 -->\n",
       "<g class=\"node\" id=\"node6\"><title>4</title>\n",
       "<ellipse cx=\"400\" cy=\"-850\" fill=\"none\" rx=\"14.5\" ry=\"14.5\" stroke=\"black\"/>\n",
       "<text font-family=\"Times,serif\" font-size=\"9.00\" text-anchor=\"middle\" x=\"400\" y=\"-847.3\">4</text>\n",
       "</g>\n",
       "<!-- 3&#45;&#45;4 -->\n",
       "<g class=\"edge\" id=\"edge5\"><title>3--4</title>\n",
       "<path d=\"M385.457,-835.457C386.849,-836.849 388.275,-838.275 389.665,-839.665\" fill=\"none\" stroke=\"black\"/>\n",
       "<text font-family=\"Times,serif\" font-size=\"9.00\" text-anchor=\"middle\" x=\"381.937\" y=\"-839.362\">1.0</text>\n",
       "</g>\n",
       "<!-- 14 -->\n",
       "<g class=\"node\" id=\"node11\"><title>14</title>\n",
       "<ellipse cx=\"300\" cy=\"-275\" fill=\"none\" rx=\"17.5\" ry=\"17.5\" stroke=\"black\"/>\n",
       "<text font-family=\"Times,serif\" font-size=\"9.00\" text-anchor=\"middle\" x=\"300\" y=\"-272.3\">14</text>\n",
       "</g>\n",
       "<!-- 12&#45;&#45;14 -->\n",
       "<g class=\"edge\" id=\"edge14\"><title>12--14</title>\n",
       "<path d=\"M436.424,-388.687C408.01,-365.008 342.54,-310.45 313.871,-286.559\" fill=\"none\" stroke=\"black\"/>\n",
       "<text font-family=\"Times,serif\" font-size=\"9.00\" text-anchor=\"middle\" x=\"369.618\" y=\"-339.502\">1.0</text>\n",
       "</g>\n",
       "<!-- 5 -->\n",
       "<g class=\"node\" id=\"node7\"><title>5</title>\n",
       "<ellipse cx=\"350\" cy=\"-925\" fill=\"none\" rx=\"14.5\" ry=\"14.5\" stroke=\"black\"/>\n",
       "<text font-family=\"Times,serif\" font-size=\"9.00\" text-anchor=\"middle\" x=\"350\" y=\"-922.3\">5</text>\n",
       "</g>\n",
       "<!-- 4&#45;&#45;5 -->\n",
       "<g class=\"edge\" id=\"edge6\"><title>4--5</title>\n",
       "<path d=\"M391.744,-862.385C382.424,-876.364 367.359,-898.962 358.103,-912.846\" fill=\"none\" stroke=\"black\"/>\n",
       "<text font-family=\"Times,serif\" font-size=\"9.00\" text-anchor=\"middle\" x=\"369.274\" y=\"-889.451\">1.0</text>\n",
       "</g>\n",
       "<!-- 8 -->\n",
       "<g class=\"node\" id=\"node8\"><title>8</title>\n",
       "<ellipse cx=\"625\" cy=\"-950\" fill=\"none\" rx=\"14.5\" ry=\"14.5\" stroke=\"black\"/>\n",
       "<text font-family=\"Times,serif\" font-size=\"9.00\" text-anchor=\"middle\" x=\"625\" y=\"-947.3\">8</text>\n",
       "</g>\n",
       "<!-- 4&#45;&#45;8 -->\n",
       "<g class=\"edge\" id=\"edge7\"><title>4--8</title>\n",
       "<path d=\"M413.401,-855.956C453.419,-873.742 571.743,-926.33 611.669,-944.075\" fill=\"none\" stroke=\"black\"/>\n",
       "<text font-family=\"Times,serif\" font-size=\"9.00\" text-anchor=\"middle\" x=\"506.945\" y=\"-901.831\">1.0</text>\n",
       "</g>\n",
       "<!-- 11 -->\n",
       "<g class=\"node\" id=\"node9\"><title>11</title>\n",
       "<ellipse cx=\"25\" cy=\"-1125\" fill=\"none\" rx=\"17.5\" ry=\"17.5\" stroke=\"black\"/>\n",
       "<text font-family=\"Times,serif\" font-size=\"9.00\" text-anchor=\"middle\" x=\"25\" y=\"-1122.3\">11</text>\n",
       "</g>\n",
       "<!-- 5&#45;&#45;11 -->\n",
       "<g class=\"edge\" id=\"edge8\"><title>5--11</title>\n",
       "<path d=\"M337.26,-932.84C286.091,-964.329 95.6312,-1081.53 40.2158,-1115.64\" fill=\"none\" stroke=\"black\"/>\n",
       "<text font-family=\"Times,serif\" font-size=\"9.00\" text-anchor=\"middle\" x=\"184.705\" y=\"-1025.06\">1.0</text>\n",
       "</g>\n",
       "<!-- 13 -->\n",
       "<g class=\"node\" id=\"node14\"><title>13</title>\n",
       "<ellipse cx=\"475\" cy=\"-1175\" fill=\"none\" rx=\"17.5\" ry=\"17.5\" stroke=\"black\"/>\n",
       "<text font-family=\"Times,serif\" font-size=\"9.00\" text-anchor=\"middle\" x=\"475\" y=\"-1172.3\">13</text>\n",
       "</g>\n",
       "<!-- 8&#45;&#45;13 -->\n",
       "<g class=\"edge\" id=\"edge11\"><title>8--13</title>\n",
       "<path d=\"M616.935,-962.097C591.438,-1000.34 512.617,-1118.57 484.824,-1160.26\" fill=\"none\" stroke=\"black\"/>\n",
       "<text font-family=\"Times,serif\" font-size=\"9.00\" text-anchor=\"middle\" x=\"546.116\" y=\"-1061.69\">1.0</text>\n",
       "</g>\n",
       "<!-- 6 -->\n",
       "<g class=\"node\" id=\"node10\"><title>6</title>\n",
       "<ellipse cx=\"425\" cy=\"-200\" fill=\"none\" rx=\"14.5\" ry=\"14.5\" stroke=\"black\"/>\n",
       "<text font-family=\"Times,serif\" font-size=\"9.00\" text-anchor=\"middle\" x=\"425\" y=\"-197.3\">6</text>\n",
       "</g>\n",
       "<!-- 6&#45;&#45;14 -->\n",
       "<g class=\"edge\" id=\"edge9\"><title>6--14</title>\n",
       "<path d=\"M412.558,-207.465C389.462,-221.323 340.049,-250.971 315.09,-265.946\" fill=\"none\" stroke=\"black\"/>\n",
       "<text font-family=\"Times,serif\" font-size=\"9.00\" text-anchor=\"middle\" x=\"358.897\" y=\"-238.087\">1.0</text>\n",
       "</g>\n",
       "<!-- 7 -->\n",
       "<g class=\"node\" id=\"node12\"><title>7</title>\n",
       "<ellipse cx=\"25\" cy=\"-525\" fill=\"none\" rx=\"14.5\" ry=\"14.5\" stroke=\"black\"/>\n",
       "<text font-family=\"Times,serif\" font-size=\"9.00\" text-anchor=\"middle\" x=\"25\" y=\"-522.3\">7</text>\n",
       "</g>\n",
       "<!-- 9 -->\n",
       "<g class=\"node\" id=\"node13\"><title>9</title>\n",
       "<ellipse cx=\"25\" cy=\"-600\" fill=\"none\" rx=\"14.5\" ry=\"14.5\" stroke=\"black\"/>\n",
       "<text font-family=\"Times,serif\" font-size=\"9.00\" text-anchor=\"middle\" x=\"25\" y=\"-597.3\">9</text>\n",
       "</g>\n",
       "<!-- 7&#45;&#45;9 -->\n",
       "<g class=\"edge\" id=\"edge10\"><title>7--9</title>\n",
       "<path d=\"M25,-539.818C25,-553.051 25,-572.322 25,-585.468\" fill=\"none\" stroke=\"black\"/>\n",
       "<text font-family=\"Times,serif\" font-size=\"9.00\" text-anchor=\"middle\" x=\"19.375\" y=\"-564.476\">1.0</text>\n",
       "</g>\n",
       "<!-- 9&#45;&#45;15 -->\n",
       "<g class=\"edge\" id=\"edge12\"><title>9--15</title>\n",
       "<path d=\"M38.7562,-595.415C51.2736,-591.242 69.7872,-585.071 83.1802,-580.607\" fill=\"none\" stroke=\"black\"/>\n",
       "<text font-family=\"Times,serif\" font-size=\"9.00\" text-anchor=\"middle\" x=\"55.0149\" y=\"-589.92\">1.0</text>\n",
       "</g>\n",
       "<!-- 10 -->\n",
       "<g class=\"node\" id=\"node15\"><title>10</title>\n",
       "<ellipse cx=\"25\" cy=\"-125\" fill=\"none\" rx=\"17.5\" ry=\"17.5\" stroke=\"black\"/>\n",
       "<text font-family=\"Times,serif\" font-size=\"9.00\" text-anchor=\"middle\" x=\"25\" y=\"-122.3\">10</text>\n",
       "</g>\n",
       "<!-- 10&#45;&#45;14 -->\n",
       "<g class=\"edge\" id=\"edge13\"><title>10--14</title>\n",
       "<path d=\"M40.5731,-133.494C88.9761,-159.896 236.429,-240.325 284.598,-266.599\" fill=\"none\" stroke=\"black\"/>\n",
       "<text font-family=\"Times,serif\" font-size=\"9.00\" text-anchor=\"middle\" x=\"157.048\" y=\"-201.894\">1.0</text>\n",
       "</g>\n",
       "</g>\n",
       "</svg>"
      ],
      "text/plain": [
       "<IPython.core.display.SVG object>"
      ]
     },
     "metadata": {},
     "output_type": "display_data"
    }
   ],
   "source": [
    "DrawSol(x)\n",
    "display(SVG(filename=basename+'_sol.svg'))\n",
    "\n",
    "\n"
   ]
  },
  {
   "cell_type": "code",
   "execution_count": 21,
   "metadata": {},
   "outputs": [
    {
     "name": "stdout",
     "output_type": "stream",
     "text": [
      "[(3, 1), (3, 2), (3, 4), (3, 5), (3, 6), (3, 7), (3, 8), (3, 9), (3, 10), (3, 11), (3, 12), (3, 13), (3, 14), (3, 15)]\n"
     ]
    }
   ],
   "source": [
    "print (G.edges(3))"
   ]
  },
  {
   "cell_type": "code",
   "execution_count": 22,
   "metadata": {},
   "outputs": [
    {
     "name": "stdout",
     "output_type": "stream",
     "text": [
      "(1, 3) 1140.0\n",
      "(2, 3) 1345.0\n",
      "(3, 4) 141.0\n",
      "(3, 5) 412.0\n",
      "(3, 6) 2507.0\n",
      "(3, 7) 1843.0\n",
      "(3, 8) 1118.0\n",
      "(3, 9) 1664.0\n",
      "(3, 10) 3130.0\n",
      "(3, 11) 1843.0\n",
      "(3, 12) 1726.0\n",
      "(3, 13) 1456.0\n",
      "(3, 14) 2220.0\n",
      "(3, 15) 1486.0\n"
     ]
    }
   ],
   "source": [
    "for u,v in G.edges(3):\n",
    "    if (u,v) in x:\n",
    "        print ((u,v), x[u,v].Obj)\n",
    "    else:\n",
    "        print ((v,u), x[v,u].Obj)\n",
    "    "
   ]
  },
  {
   "cell_type": "code",
   "execution_count": 14,
   "metadata": {},
   "outputs": [],
   "source": [
    "for u,v in G.edges(3):\n",
    "    if (u,v) in x:\n",
    "        x[u,v].Obj = x[u,v].Obj/10.0 + 10  \n",
    "    elif (v,u) in x:\n",
    "        x[v,u].Obj = x[v,u].Obj/10.0 + 10  \n",
    "\n",
    "mstmultiflow.update()"
   ]
  },
  {
   "cell_type": "code",
   "execution_count": 24,
   "metadata": {},
   "outputs": [
    {
     "name": "stdout",
     "output_type": "stream",
     "text": [
      "(1, 3) 124.0\n",
      "(2, 3) 144.5\n",
      "(3, 4) 24.1\n",
      "(3, 5) 51.2\n",
      "(3, 6) 260.7\n",
      "(3, 7) 194.3\n",
      "(3, 8) 121.8\n",
      "(3, 9) 176.4\n",
      "(3, 10) 323.0\n",
      "(3, 11) 194.3\n",
      "(3, 12) 182.6\n",
      "(3, 13) 155.6\n",
      "(3, 14) 232.0\n",
      "(3, 15) 158.6\n"
     ]
    }
   ],
   "source": [
    "for u,v in G.edges(3):\n",
    "    if (u,v) in x:\n",
    "        print ((u,v), x[u,v].Obj)\n",
    "    else:\n",
    "        print ((v,u), x[v,u].Obj)"
   ]
  },
  {
   "cell_type": "code",
   "execution_count": 15,
   "metadata": {},
   "outputs": [
    {
     "name": "stdout",
     "output_type": "stream",
     "text": [
      "Optimize a model with 3256 rows, 3255 columns and 12285 nonzeros\n",
      "Variable types: 2940 continuous, 315 integer (315 binary)\n",
      "Coefficient statistics:\n",
      "  Matrix range     [1e+00, 1e+00]\n",
      "  Objective range  [2e+01, 5e+03]\n",
      "  Bounds range     [1e+00, 2e+01]\n",
      "  RHS range        [1e+00, 1e+01]\n",
      "\n",
      "Loaded MIP start with objective 9387.1\n",
      "\n",
      "Presolve removed 0 rows and 105 columns\n",
      "Presolve time: 0.01s\n",
      "Presolved: 3256 rows, 3150 columns, 12180 nonzeros\n",
      "Variable types: 2940 continuous, 210 integer (210 binary)\n",
      "\n",
      "Root relaxation: objective 2.325500e+03, 319 iterations, 0.01 seconds\n",
      "\n",
      "    Nodes    |    Current Node    |     Objective Bounds      |     Work\n",
      " Expl Unexpl |  Obj  Depth IntInf | Incumbent    BestBd   Gap | It/Node Time\n",
      "\n",
      "*    0     0               0    2325.5000000 2325.50000  0.00%     -    0s\n",
      "\n",
      "Explored 0 nodes (319 simplex iterations) in 0.07 seconds\n",
      "Thread count was 4 (of 4 available processors)\n",
      "\n",
      "Solution count 2: 2325.5 9387.1 \n",
      "\n",
      "Optimal solution found (tolerance 1.00e-04)\n",
      "Best objective 2.325500000000e+03, best bound 2.325500000000e+03, gap 0.0000%\n"
     ]
    }
   ],
   "source": [
    "mstmultiflow.optimize()"
   ]
  },
  {
   "cell_type": "code",
   "execution_count": 26,
   "metadata": {},
   "outputs": [
    {
     "data": {
      "image/svg+xml": [
       "<svg height=\"1093pt\" viewBox=\"0.00 0.00 640.00 1093.00\" width=\"640pt\" xmlns=\"http://www.w3.org/2000/svg\" xmlns:xlink=\"http://www.w3.org/1999/xlink\">\n",
       "<g class=\"graph\" id=\"graph0\" transform=\"scale(1 1) rotate(0) translate(-3.5 1196.5)\">\n",
       "<title>%3</title>\n",
       "<polygon fill=\"white\" points=\"3.5,-103.5 3.5,-1196.5 643.5,-1196.5 643.5,-103.5 3.5,-103.5\" stroke=\"none\"/>\n",
       "<!-- 1 -->\n",
       "<g class=\"node\" id=\"node1\"><title>1</title>\n",
       "<ellipse cx=\"450\" cy=\"-550\" fill=\"none\" rx=\"14.5\" ry=\"14.5\" stroke=\"black\"/>\n",
       "<text font-family=\"Times,serif\" font-size=\"9.00\" text-anchor=\"middle\" x=\"450\" y=\"-547.3\">1</text>\n",
       "</g>\n",
       "<!-- 3 -->\n",
       "<g class=\"node\" id=\"node2\"><title>3</title>\n",
       "<ellipse cx=\"375\" cy=\"-825\" fill=\"none\" rx=\"14.5\" ry=\"14.5\" stroke=\"black\"/>\n",
       "<text font-family=\"Times,serif\" font-size=\"9.00\" text-anchor=\"middle\" x=\"375\" y=\"-822.3\">3</text>\n",
       "</g>\n",
       "<!-- 1&#45;&#45;3 -->\n",
       "<g class=\"edge\" id=\"edge1\"><title>1--3</title>\n",
       "<path d=\"M446.178,-564.015C433.342,-611.08 391.862,-763.173 378.905,-810.683\" fill=\"none\" stroke=\"black\"/>\n",
       "<text font-family=\"Times,serif\" font-size=\"9.00\" text-anchor=\"middle\" x=\"406.962\" y=\"-688.982\">1.0</text>\n",
       "</g>\n",
       "<!-- 4 -->\n",
       "<g class=\"node\" id=\"node5\"><title>4</title>\n",
       "<ellipse cx=\"400\" cy=\"-850\" fill=\"none\" rx=\"14.5\" ry=\"14.5\" stroke=\"black\"/>\n",
       "<text font-family=\"Times,serif\" font-size=\"9.00\" text-anchor=\"middle\" x=\"400\" y=\"-847.3\">4</text>\n",
       "</g>\n",
       "<!-- 3&#45;&#45;4 -->\n",
       "<g class=\"edge\" id=\"edge4\"><title>3--4</title>\n",
       "<path d=\"M385.457,-835.457C386.849,-836.849 388.275,-838.275 389.665,-839.665\" fill=\"none\" stroke=\"black\"/>\n",
       "<text font-family=\"Times,serif\" font-size=\"9.00\" text-anchor=\"middle\" x=\"381.937\" y=\"-839.362\">1.0</text>\n",
       "</g>\n",
       "<!-- 5 -->\n",
       "<g class=\"node\" id=\"node6\"><title>5</title>\n",
       "<ellipse cx=\"350\" cy=\"-925\" fill=\"none\" rx=\"14.5\" ry=\"14.5\" stroke=\"black\"/>\n",
       "<text font-family=\"Times,serif\" font-size=\"9.00\" text-anchor=\"middle\" x=\"350\" y=\"-922.3\">5</text>\n",
       "</g>\n",
       "<!-- 3&#45;&#45;5 -->\n",
       "<g class=\"edge\" id=\"edge5\"><title>3--5</title>\n",
       "<path d=\"M371.418,-839.328C366.666,-858.338 358.324,-891.702 353.575,-910.699\" fill=\"none\" stroke=\"black\"/>\n",
       "<text font-family=\"Times,serif\" font-size=\"9.00\" text-anchor=\"middle\" x=\"356.87\" y=\"-876.818\">1.0</text>\n",
       "</g>\n",
       "<!-- 6 -->\n",
       "<g class=\"node\" id=\"node7\"><title>6</title>\n",
       "<ellipse cx=\"425\" cy=\"-200\" fill=\"none\" rx=\"14.5\" ry=\"14.5\" stroke=\"black\"/>\n",
       "<text font-family=\"Times,serif\" font-size=\"9.00\" text-anchor=\"middle\" x=\"425\" y=\"-197.3\">6</text>\n",
       "</g>\n",
       "<!-- 3&#45;&#45;6 -->\n",
       "<g class=\"edge\" id=\"edge6\"><title>3--6</title>\n",
       "<path d=\"M376.162,-810.471C382.914,-726.069 417.028,-299.654 423.822,-214.725\" fill=\"none\" stroke=\"black\"/>\n",
       "<text font-family=\"Times,serif\" font-size=\"9.00\" text-anchor=\"middle\" x=\"394.351\" y=\"-514.595\">1.0</text>\n",
       "</g>\n",
       "<!-- 7 -->\n",
       "<g class=\"node\" id=\"node8\"><title>7</title>\n",
       "<ellipse cx=\"25\" cy=\"-525\" fill=\"none\" rx=\"14.5\" ry=\"14.5\" stroke=\"black\"/>\n",
       "<text font-family=\"Times,serif\" font-size=\"9.00\" text-anchor=\"middle\" x=\"25\" y=\"-522.3\">7</text>\n",
       "</g>\n",
       "<!-- 3&#45;&#45;7 -->\n",
       "<g class=\"edge\" id=\"edge7\"><title>3--7</title>\n",
       "<path d=\"M363.279,-816.265C323.202,-786.219 188.468,-683.721 86.4341,-588.445 67.6073,-570.866 47.0332,-549.036 35.1132,-536.105\" fill=\"none\" stroke=\"black\"/>\n",
       "<text font-family=\"Times,serif\" font-size=\"9.00\" text-anchor=\"middle\" x=\"188.276\" y=\"-684.354\">1.0</text>\n",
       "</g>\n",
       "<!-- 8 -->\n",
       "<g class=\"node\" id=\"node9\"><title>8</title>\n",
       "<ellipse cx=\"625\" cy=\"-950\" fill=\"none\" rx=\"14.5\" ry=\"14.5\" stroke=\"black\"/>\n",
       "<text font-family=\"Times,serif\" font-size=\"9.00\" text-anchor=\"middle\" x=\"625\" y=\"-947.3\">8</text>\n",
       "</g>\n",
       "<!-- 3&#45;&#45;8 -->\n",
       "<g class=\"edge\" id=\"edge8\"><title>3--8</title>\n",
       "<path d=\"M389.05,-829.677C395.904,-832.106 404.205,-835.271 411.421,-838.652 489.044,-875.028 579.306,-924.547 612.19,-942.834\" fill=\"none\" stroke=\"black\"/>\n",
       "<text font-family=\"Times,serif\" font-size=\"9.00\" text-anchor=\"middle\" x=\"496.118\" y=\"-885.282\">1.0</text>\n",
       "</g>\n",
       "<!-- 9 -->\n",
       "<g class=\"node\" id=\"node10\"><title>9</title>\n",
       "<ellipse cx=\"25\" cy=\"-600\" fill=\"none\" rx=\"14.5\" ry=\"14.5\" stroke=\"black\"/>\n",
       "<text font-family=\"Times,serif\" font-size=\"9.00\" text-anchor=\"middle\" x=\"25\" y=\"-597.3\">9</text>\n",
       "</g>\n",
       "<!-- 3&#45;&#45;9 -->\n",
       "<g class=\"edge\" id=\"edge9\"><title>3--9</title>\n",
       "<path d=\"M362.543,-816.992C308.11,-781.999 91.4432,-642.713 37.3074,-607.912\" fill=\"none\" stroke=\"black\"/>\n",
       "<text font-family=\"Times,serif\" font-size=\"9.00\" text-anchor=\"middle\" x=\"194.189\" y=\"-714.18\">1.0</text>\n",
       "</g>\n",
       "<!-- 10 -->\n",
       "<g class=\"node\" id=\"node11\"><title>10</title>\n",
       "<ellipse cx=\"25\" cy=\"-125\" fill=\"none\" rx=\"17.5\" ry=\"17.5\" stroke=\"black\"/>\n",
       "<text font-family=\"Times,serif\" font-size=\"9.00\" text-anchor=\"middle\" x=\"25\" y=\"-122.3\">10</text>\n",
       "</g>\n",
       "<!-- 3&#45;&#45;10 -->\n",
       "<g class=\"edge\" id=\"edge10\"><title>3--10</title>\n",
       "<path d=\"M368.474,-811.949C325.24,-725.48 80.365,-235.73 32.9502,-140.9\" fill=\"none\" stroke=\"black\"/>\n",
       "<text font-family=\"Times,serif\" font-size=\"9.00\" text-anchor=\"middle\" x=\"196.655\" y=\"-481.36\">1.0</text>\n",
       "</g>\n",
       "<!-- 11 -->\n",
       "<g class=\"node\" id=\"node12\"><title>11</title>\n",
       "<ellipse cx=\"25\" cy=\"-1125\" fill=\"none\" rx=\"17.5\" ry=\"17.5\" stroke=\"black\"/>\n",
       "<text font-family=\"Times,serif\" font-size=\"9.00\" text-anchor=\"middle\" x=\"25\" y=\"-1122.3\">11</text>\n",
       "</g>\n",
       "<!-- 3&#45;&#45;11 -->\n",
       "<g class=\"edge\" id=\"edge11\"><title>3--11</title>\n",
       "<path d=\"M363.751,-834.642C311.8,-879.171 95.206,-1064.82 38.5895,-1113.35\" fill=\"none\" stroke=\"black\"/>\n",
       "<text font-family=\"Times,serif\" font-size=\"9.00\" text-anchor=\"middle\" x=\"197.295\" y=\"-974.297\">1.0</text>\n",
       "</g>\n",
       "<!-- 12 -->\n",
       "<g class=\"node\" id=\"node13\"><title>12</title>\n",
       "<ellipse cx=\"450\" cy=\"-400\" fill=\"none\" rx=\"17.5\" ry=\"17.5\" stroke=\"black\"/>\n",
       "<text font-family=\"Times,serif\" font-size=\"9.00\" text-anchor=\"middle\" x=\"450\" y=\"-397.3\">12</text>\n",
       "</g>\n",
       "<!-- 3&#45;&#45;12 -->\n",
       "<g class=\"edge\" id=\"edge12\"><title>3--12</title>\n",
       "<path d=\"M377.582,-810.371C388.967,-745.856 434.665,-486.899 446.948,-417.297\" fill=\"none\" stroke=\"black\"/>\n",
       "<text font-family=\"Times,serif\" font-size=\"9.00\" text-anchor=\"middle\" x=\"406.303\" y=\"-617.542\">1.0</text>\n",
       "</g>\n",
       "<!-- 13 -->\n",
       "<g class=\"node\" id=\"node14\"><title>13</title>\n",
       "<ellipse cx=\"475\" cy=\"-1175\" fill=\"none\" rx=\"17.5\" ry=\"17.5\" stroke=\"black\"/>\n",
       "<text font-family=\"Times,serif\" font-size=\"9.00\" text-anchor=\"middle\" x=\"475\" y=\"-1172.3\">13</text>\n",
       "</g>\n",
       "<!-- 3&#45;&#45;13 -->\n",
       "<g class=\"edge\" id=\"edge13\"><title>3--13</title>\n",
       "<path d=\"M379.044,-839.154C394.902,-894.658 452.822,-1097.38 470.102,-1157.86\" fill=\"none\" stroke=\"black\"/>\n",
       "<text font-family=\"Times,serif\" font-size=\"9.00\" text-anchor=\"middle\" x=\"418.415\" y=\"-998.44\">1.0</text>\n",
       "</g>\n",
       "<!-- 14 -->\n",
       "<g class=\"node\" id=\"node15\"><title>14</title>\n",
       "<ellipse cx=\"300\" cy=\"-275\" fill=\"none\" rx=\"17.5\" ry=\"17.5\" stroke=\"black\"/>\n",
       "<text font-family=\"Times,serif\" font-size=\"9.00\" text-anchor=\"middle\" x=\"300\" y=\"-272.3\">14</text>\n",
       "</g>\n",
       "<!-- 3&#45;&#45;14 -->\n",
       "<g class=\"edge\" id=\"edge14\"><title>3--14</title>\n",
       "<path d=\"M373.032,-810.572C362.597,-734.047 313.774,-376.008 302.381,-292.461\" fill=\"none\" stroke=\"black\"/>\n",
       "<text font-family=\"Times,serif\" font-size=\"9.00\" text-anchor=\"middle\" x=\"332.441\" y=\"-555.95\">1.0</text>\n",
       "</g>\n",
       "<!-- 2 -->\n",
       "<g class=\"node\" id=\"node3\"><title>2</title>\n",
       "<ellipse cx=\"125\" cy=\"-600\" fill=\"none\" rx=\"14.5\" ry=\"14.5\" stroke=\"black\"/>\n",
       "<text font-family=\"Times,serif\" font-size=\"9.00\" text-anchor=\"middle\" x=\"125\" y=\"-597.3\">2</text>\n",
       "</g>\n",
       "<!-- 2&#45;&#45;3 -->\n",
       "<g class=\"edge\" id=\"edge2\"><title>2--3</title>\n",
       "<path d=\"M136.065,-609.958C177.455,-647.209 322.888,-778.099 364.063,-815.157\" fill=\"none\" stroke=\"black\"/>\n",
       "<text font-family=\"Times,serif\" font-size=\"9.00\" text-anchor=\"middle\" x=\"244.519\" y=\"-714.43\">1.0</text>\n",
       "</g>\n",
       "<!-- 15 -->\n",
       "<g class=\"node\" id=\"node4\"><title>15</title>\n",
       "<ellipse cx=\"100\" cy=\"-575\" fill=\"none\" rx=\"17.5\" ry=\"17.5\" stroke=\"black\"/>\n",
       "<text font-family=\"Times,serif\" font-size=\"9.00\" text-anchor=\"middle\" x=\"100\" y=\"-572.3\">15</text>\n",
       "</g>\n",
       "<!-- 2&#45;&#45;15 -->\n",
       "<g class=\"edge\" id=\"edge3\"><title>2--15</title>\n",
       "<path d=\"M114.543,-589.543C113.9,-588.9 113.251,-588.251 112.601,-587.601\" fill=\"none\" stroke=\"black\"/>\n",
       "<text font-family=\"Times,serif\" font-size=\"9.00\" text-anchor=\"middle\" x=\"119.2\" y=\"-581.375\">1.0</text>\n",
       "</g>\n",
       "</g>\n",
       "</svg>"
      ],
      "text/plain": [
       "<IPython.core.display.SVG object>"
      ]
     },
     "metadata": {},
     "output_type": "display_data"
    }
   ],
   "source": [
    "DrawSol(x)\n",
    "display(SVG(filename=basename+'_sol.svg'))\n",
    "\n",
    "\n"
   ]
  },
  {
   "cell_type": "markdown",
   "metadata": {},
   "source": [
    "$$\n",
    "\\sum_{e \\in \\delta(3)} x_e \\le 4\n",
    "$$"
   ]
  },
  {
   "cell_type": "code",
   "execution_count": 27,
   "metadata": {},
   "outputs": [
    {
     "data": {
      "text/plain": [
       "EdgeDataView([(3, 1), (3, 2), (3, 4), (3, 5), (3, 6), (3, 7), (3, 8), (3, 9), (3, 10), (3, 11), (3, 12), (3, 13), (3, 14), (3, 15)])"
      ]
     },
     "execution_count": 27,
     "metadata": {},
     "output_type": "execute_result"
    }
   ],
   "source": [
    "G.edges(3)"
   ]
  },
  {
   "cell_type": "code",
   "execution_count": 29,
   "metadata": {},
   "outputs": [
    {
     "data": {
      "text/plain": [
       "<gurobi.LinExpr: x[1,3] + x[2,3] + x[3,4] + x[3,5] + x[3,6] + x[3,7] + x[3,8] + x[3,9] + x[3,10] + x[3,11] + x[3,12] + x[3,13] + x[3,14] + x[3,15]>"
      ]
     },
     "execution_count": 29,
     "metadata": {},
     "output_type": "execute_result"
    }
   ],
   "source": [
    "gb.quicksum(x[u,v] if (u,v) in x else x[v,u] for u,v in G.edges(3) )"
   ]
  },
  {
   "cell_type": "code",
   "execution_count": 16,
   "metadata": {},
   "outputs": [
    {
     "data": {
      "text/plain": [
       "<gurobi.Constr *Awaiting Model Update*>"
      ]
     },
     "execution_count": 16,
     "metadata": {},
     "output_type": "execute_result"
    }
   ],
   "source": [
    "mstmultiflow.addConstr(gb.quicksum(x[u,v] if (u,v) in x else x[v,u] for u,v in G.edges(3)) \\\n",
    "                                   <= 4, name='Degree_on_node_3') \n"
   ]
  },
  {
   "cell_type": "code",
   "execution_count": 17,
   "metadata": {},
   "outputs": [],
   "source": [
    "mstmultiflow.update()"
   ]
  },
  {
   "cell_type": "code",
   "execution_count": 18,
   "metadata": {},
   "outputs": [
    {
     "name": "stdout",
     "output_type": "stream",
     "text": [
      "Optimize a model with 3257 rows, 3255 columns and 12299 nonzeros\n",
      "Variable types: 2940 continuous, 315 integer (315 binary)\n",
      "Coefficient statistics:\n",
      "  Matrix range     [1e+00, 1e+00]\n",
      "  Objective range  [2e+01, 5e+03]\n",
      "  Bounds range     [1e+00, 2e+01]\n",
      "  RHS range        [1e+00, 1e+01]\n",
      "\n",
      "MIP start did not produce a new incumbent solution\n",
      "MIP start violates constraint Degree_on_node_3 by 9.000000000\n",
      "\n",
      "Presolve removed 0 rows and 91 columns\n",
      "Presolve time: 0.02s\n",
      "Presolved: 3257 rows, 3164 columns, 12208 nonzeros\n",
      "Variable types: 2940 continuous, 224 integer (224 binary)\n",
      "\n",
      "Root relaxation: objective 6.884900e+03, 1392 iterations, 0.04 seconds\n",
      "\n",
      "    Nodes    |    Current Node    |     Objective Bounds      |     Work\n",
      " Expl Unexpl |  Obj  Depth IntInf | Incumbent    BestBd   Gap | It/Node Time\n",
      "\n",
      "*    0     0               0    6884.9000000 6884.90000  0.00%     -    0s\n",
      "\n",
      "Explored 0 nodes (1392 simplex iterations) in 0.17 seconds\n",
      "Thread count was 4 (of 4 available processors)\n",
      "\n",
      "Solution count 1: 6884.9 \n",
      "\n",
      "Optimal solution found (tolerance 1.00e-04)\n",
      "Best objective 6.884900000000e+03, best bound 6.884900000000e+03, gap 0.0000%\n"
     ]
    }
   ],
   "source": [
    "mstmultiflow.optimize()"
   ]
  },
  {
   "cell_type": "code",
   "execution_count": 33,
   "metadata": {},
   "outputs": [
    {
     "data": {
      "image/svg+xml": [
       "<svg height=\"1093pt\" viewBox=\"0.00 0.00 640.00 1093.00\" width=\"640pt\" xmlns=\"http://www.w3.org/2000/svg\" xmlns:xlink=\"http://www.w3.org/1999/xlink\">\n",
       "<g class=\"graph\" id=\"graph0\" transform=\"scale(1 1) rotate(0) translate(-3.5 1196.5)\">\n",
       "<title>%3</title>\n",
       "<polygon fill=\"white\" points=\"3.5,-103.5 3.5,-1196.5 643.5,-1196.5 643.5,-103.5 3.5,-103.5\" stroke=\"none\"/>\n",
       "<!-- 1 -->\n",
       "<g class=\"node\" id=\"node1\"><title>1</title>\n",
       "<ellipse cx=\"450\" cy=\"-550\" fill=\"none\" rx=\"14.5\" ry=\"14.5\" stroke=\"black\"/>\n",
       "<text font-family=\"Times,serif\" font-size=\"9.00\" text-anchor=\"middle\" x=\"450\" y=\"-547.3\">1</text>\n",
       "</g>\n",
       "<!-- 3 -->\n",
       "<g class=\"node\" id=\"node2\"><title>3</title>\n",
       "<ellipse cx=\"375\" cy=\"-825\" fill=\"none\" rx=\"14.5\" ry=\"14.5\" stroke=\"black\"/>\n",
       "<text font-family=\"Times,serif\" font-size=\"9.00\" text-anchor=\"middle\" x=\"375\" y=\"-822.3\">3</text>\n",
       "</g>\n",
       "<!-- 1&#45;&#45;3 -->\n",
       "<g class=\"edge\" id=\"edge1\"><title>1--3</title>\n",
       "<path d=\"M446.178,-564.015C433.342,-611.08 391.862,-763.173 378.905,-810.683\" fill=\"none\" stroke=\"black\"/>\n",
       "<text font-family=\"Times,serif\" font-size=\"9.00\" text-anchor=\"middle\" x=\"406.962\" y=\"-688.982\">1.0</text>\n",
       "</g>\n",
       "<!-- 12 -->\n",
       "<g class=\"node\" id=\"node3\"><title>12</title>\n",
       "<ellipse cx=\"450\" cy=\"-400\" fill=\"none\" rx=\"17.5\" ry=\"17.5\" stroke=\"black\"/>\n",
       "<text font-family=\"Times,serif\" font-size=\"9.00\" text-anchor=\"middle\" x=\"450\" y=\"-397.3\">12</text>\n",
       "</g>\n",
       "<!-- 1&#45;&#45;12 -->\n",
       "<g class=\"edge\" id=\"edge2\"><title>1--12</title>\n",
       "<path d=\"M450,-535.344C450,-507.626 450,-447.627 450,-417.708\" fill=\"none\" stroke=\"black\"/>\n",
       "<text font-family=\"Times,serif\" font-size=\"9.00\" text-anchor=\"middle\" x=\"444.375\" y=\"-479.151\">1.0</text>\n",
       "</g>\n",
       "<!-- 4 -->\n",
       "<g class=\"node\" id=\"node6\"><title>4</title>\n",
       "<ellipse cx=\"400\" cy=\"-850\" fill=\"none\" rx=\"14.5\" ry=\"14.5\" stroke=\"black\"/>\n",
       "<text font-family=\"Times,serif\" font-size=\"9.00\" text-anchor=\"middle\" x=\"400\" y=\"-847.3\">4</text>\n",
       "</g>\n",
       "<!-- 3&#45;&#45;4 -->\n",
       "<g class=\"edge\" id=\"edge5\"><title>3--4</title>\n",
       "<path d=\"M385.457,-835.457C386.849,-836.849 388.275,-838.275 389.665,-839.665\" fill=\"none\" stroke=\"black\"/>\n",
       "<text font-family=\"Times,serif\" font-size=\"9.00\" text-anchor=\"middle\" x=\"381.937\" y=\"-839.362\">1.0</text>\n",
       "</g>\n",
       "<!-- 11 -->\n",
       "<g class=\"node\" id=\"node7\"><title>11</title>\n",
       "<ellipse cx=\"25\" cy=\"-1125\" fill=\"none\" rx=\"17.5\" ry=\"17.5\" stroke=\"black\"/>\n",
       "<text font-family=\"Times,serif\" font-size=\"9.00\" text-anchor=\"middle\" x=\"25\" y=\"-1122.3\">11</text>\n",
       "</g>\n",
       "<!-- 3&#45;&#45;11 -->\n",
       "<g class=\"edge\" id=\"edge6\"><title>3--11</title>\n",
       "<path d=\"M363.751,-834.642C311.8,-879.171 95.206,-1064.82 38.5895,-1113.35\" fill=\"none\" stroke=\"black\"/>\n",
       "<text font-family=\"Times,serif\" font-size=\"9.00\" text-anchor=\"middle\" x=\"197.295\" y=\"-974.297\">1.0</text>\n",
       "</g>\n",
       "<!-- 14 -->\n",
       "<g class=\"node\" id=\"node11\"><title>14</title>\n",
       "<ellipse cx=\"300\" cy=\"-275\" fill=\"none\" rx=\"17.5\" ry=\"17.5\" stroke=\"black\"/>\n",
       "<text font-family=\"Times,serif\" font-size=\"9.00\" text-anchor=\"middle\" x=\"300\" y=\"-272.3\">14</text>\n",
       "</g>\n",
       "<!-- 12&#45;&#45;14 -->\n",
       "<g class=\"edge\" id=\"edge14\"><title>12--14</title>\n",
       "<path d=\"M436.424,-388.687C408.01,-365.008 342.54,-310.45 313.871,-286.559\" fill=\"none\" stroke=\"black\"/>\n",
       "<text font-family=\"Times,serif\" font-size=\"9.00\" text-anchor=\"middle\" x=\"369.618\" y=\"-339.502\">1.0</text>\n",
       "</g>\n",
       "<!-- 2 -->\n",
       "<g class=\"node\" id=\"node4\"><title>2</title>\n",
       "<ellipse cx=\"125\" cy=\"-600\" fill=\"none\" rx=\"14.5\" ry=\"14.5\" stroke=\"black\"/>\n",
       "<text font-family=\"Times,serif\" font-size=\"9.00\" text-anchor=\"middle\" x=\"125\" y=\"-597.3\">2</text>\n",
       "</g>\n",
       "<!-- 2&#45;&#45;3 -->\n",
       "<g class=\"edge\" id=\"edge3\"><title>2--3</title>\n",
       "<path d=\"M136.065,-609.958C177.455,-647.209 322.888,-778.099 364.063,-815.157\" fill=\"none\" stroke=\"black\"/>\n",
       "<text font-family=\"Times,serif\" font-size=\"9.00\" text-anchor=\"middle\" x=\"244.519\" y=\"-714.43\">1.0</text>\n",
       "</g>\n",
       "<!-- 15 -->\n",
       "<g class=\"node\" id=\"node5\"><title>15</title>\n",
       "<ellipse cx=\"100\" cy=\"-575\" fill=\"none\" rx=\"17.5\" ry=\"17.5\" stroke=\"black\"/>\n",
       "<text font-family=\"Times,serif\" font-size=\"9.00\" text-anchor=\"middle\" x=\"100\" y=\"-572.3\">15</text>\n",
       "</g>\n",
       "<!-- 2&#45;&#45;15 -->\n",
       "<g class=\"edge\" id=\"edge4\"><title>2--15</title>\n",
       "<path d=\"M114.543,-589.543C113.9,-588.9 113.251,-588.251 112.601,-587.601\" fill=\"none\" stroke=\"black\"/>\n",
       "<text font-family=\"Times,serif\" font-size=\"9.00\" text-anchor=\"middle\" x=\"119.2\" y=\"-581.375\">1.0</text>\n",
       "</g>\n",
       "<!-- 5 -->\n",
       "<g class=\"node\" id=\"node8\"><title>5</title>\n",
       "<ellipse cx=\"350\" cy=\"-925\" fill=\"none\" rx=\"14.5\" ry=\"14.5\" stroke=\"black\"/>\n",
       "<text font-family=\"Times,serif\" font-size=\"9.00\" text-anchor=\"middle\" x=\"350\" y=\"-922.3\">5</text>\n",
       "</g>\n",
       "<!-- 4&#45;&#45;5 -->\n",
       "<g class=\"edge\" id=\"edge7\"><title>4--5</title>\n",
       "<path d=\"M391.744,-862.385C382.424,-876.364 367.359,-898.962 358.103,-912.846\" fill=\"none\" stroke=\"black\"/>\n",
       "<text font-family=\"Times,serif\" font-size=\"9.00\" text-anchor=\"middle\" x=\"369.274\" y=\"-889.451\">1.0</text>\n",
       "</g>\n",
       "<!-- 8 -->\n",
       "<g class=\"node\" id=\"node9\"><title>8</title>\n",
       "<ellipse cx=\"625\" cy=\"-950\" fill=\"none\" rx=\"14.5\" ry=\"14.5\" stroke=\"black\"/>\n",
       "<text font-family=\"Times,serif\" font-size=\"9.00\" text-anchor=\"middle\" x=\"625\" y=\"-947.3\">8</text>\n",
       "</g>\n",
       "<!-- 4&#45;&#45;8 -->\n",
       "<g class=\"edge\" id=\"edge8\"><title>4--8</title>\n",
       "<path d=\"M413.401,-855.956C453.419,-873.742 571.743,-926.33 611.669,-944.075\" fill=\"none\" stroke=\"black\"/>\n",
       "<text font-family=\"Times,serif\" font-size=\"9.00\" text-anchor=\"middle\" x=\"506.945\" y=\"-901.831\">1.0</text>\n",
       "</g>\n",
       "<!-- 13 -->\n",
       "<g class=\"node\" id=\"node14\"><title>13</title>\n",
       "<ellipse cx=\"475\" cy=\"-1175\" fill=\"none\" rx=\"17.5\" ry=\"17.5\" stroke=\"black\"/>\n",
       "<text font-family=\"Times,serif\" font-size=\"9.00\" text-anchor=\"middle\" x=\"475\" y=\"-1172.3\">13</text>\n",
       "</g>\n",
       "<!-- 8&#45;&#45;13 -->\n",
       "<g class=\"edge\" id=\"edge11\"><title>8--13</title>\n",
       "<path d=\"M616.935,-962.097C591.438,-1000.34 512.617,-1118.57 484.824,-1160.26\" fill=\"none\" stroke=\"black\"/>\n",
       "<text font-family=\"Times,serif\" font-size=\"9.00\" text-anchor=\"middle\" x=\"546.116\" y=\"-1061.69\">1.0</text>\n",
       "</g>\n",
       "<!-- 6 -->\n",
       "<g class=\"node\" id=\"node10\"><title>6</title>\n",
       "<ellipse cx=\"425\" cy=\"-200\" fill=\"none\" rx=\"14.5\" ry=\"14.5\" stroke=\"black\"/>\n",
       "<text font-family=\"Times,serif\" font-size=\"9.00\" text-anchor=\"middle\" x=\"425\" y=\"-197.3\">6</text>\n",
       "</g>\n",
       "<!-- 6&#45;&#45;14 -->\n",
       "<g class=\"edge\" id=\"edge9\"><title>6--14</title>\n",
       "<path d=\"M412.558,-207.465C389.462,-221.323 340.049,-250.971 315.09,-265.946\" fill=\"none\" stroke=\"black\"/>\n",
       "<text font-family=\"Times,serif\" font-size=\"9.00\" text-anchor=\"middle\" x=\"358.897\" y=\"-238.087\">1.0</text>\n",
       "</g>\n",
       "<!-- 7 -->\n",
       "<g class=\"node\" id=\"node12\"><title>7</title>\n",
       "<ellipse cx=\"25\" cy=\"-525\" fill=\"none\" rx=\"14.5\" ry=\"14.5\" stroke=\"black\"/>\n",
       "<text font-family=\"Times,serif\" font-size=\"9.00\" text-anchor=\"middle\" x=\"25\" y=\"-522.3\">7</text>\n",
       "</g>\n",
       "<!-- 9 -->\n",
       "<g class=\"node\" id=\"node13\"><title>9</title>\n",
       "<ellipse cx=\"25\" cy=\"-600\" fill=\"none\" rx=\"14.5\" ry=\"14.5\" stroke=\"black\"/>\n",
       "<text font-family=\"Times,serif\" font-size=\"9.00\" text-anchor=\"middle\" x=\"25\" y=\"-597.3\">9</text>\n",
       "</g>\n",
       "<!-- 7&#45;&#45;9 -->\n",
       "<g class=\"edge\" id=\"edge10\"><title>7--9</title>\n",
       "<path d=\"M25,-539.818C25,-553.051 25,-572.322 25,-585.468\" fill=\"none\" stroke=\"black\"/>\n",
       "<text font-family=\"Times,serif\" font-size=\"9.00\" text-anchor=\"middle\" x=\"19.375\" y=\"-564.476\">1.0</text>\n",
       "</g>\n",
       "<!-- 9&#45;&#45;15 -->\n",
       "<g class=\"edge\" id=\"edge12\"><title>9--15</title>\n",
       "<path d=\"M38.7562,-595.415C51.2736,-591.242 69.7872,-585.071 83.1802,-580.607\" fill=\"none\" stroke=\"black\"/>\n",
       "<text font-family=\"Times,serif\" font-size=\"9.00\" text-anchor=\"middle\" x=\"55.0149\" y=\"-589.92\">1.0</text>\n",
       "</g>\n",
       "<!-- 10 -->\n",
       "<g class=\"node\" id=\"node15\"><title>10</title>\n",
       "<ellipse cx=\"25\" cy=\"-125\" fill=\"none\" rx=\"17.5\" ry=\"17.5\" stroke=\"black\"/>\n",
       "<text font-family=\"Times,serif\" font-size=\"9.00\" text-anchor=\"middle\" x=\"25\" y=\"-122.3\">10</text>\n",
       "</g>\n",
       "<!-- 10&#45;&#45;14 -->\n",
       "<g class=\"edge\" id=\"edge13\"><title>10--14</title>\n",
       "<path d=\"M40.5731,-133.494C88.9761,-159.896 236.429,-240.325 284.598,-266.599\" fill=\"none\" stroke=\"black\"/>\n",
       "<text font-family=\"Times,serif\" font-size=\"9.00\" text-anchor=\"middle\" x=\"157.048\" y=\"-201.894\">1.0</text>\n",
       "</g>\n",
       "</g>\n",
       "</svg>"
      ],
      "text/plain": [
       "<IPython.core.display.SVG object>"
      ]
     },
     "metadata": {},
     "output_type": "display_data"
    }
   ],
   "source": [
    "DrawSol(x)\n",
    "display(SVG(filename=basename+'_sol.svg'))"
   ]
  },
  {
   "cell_type": "code",
   "execution_count": 20,
   "metadata": {},
   "outputs": [
    {
     "data": {
      "text/plain": [
       "6984.9"
      ]
     },
     "execution_count": 20,
     "metadata": {},
     "output_type": "execute_result"
    }
   ],
   "source": [
    "finalValue = mstmultiflow.objVal + 100\n",
    "finalValue # 6984.9 < 10520 => it is convenient to install the device in node 3"
   ]
  }
 ],
 "metadata": {
  "anaconda-cloud": {},
  "kernelspec": {
   "display_name": "Python 3",
   "language": "python",
   "name": "python3"
  },
  "language_info": {
   "codemirror_mode": {
    "name": "ipython",
    "version": 3
   },
   "file_extension": ".py",
   "mimetype": "text/x-python",
   "name": "python",
   "nbconvert_exporter": "python",
   "pygments_lexer": "ipython3",
   "version": "3.6.0"
  }
 },
 "nbformat": 4,
 "nbformat_minor": 1
}
