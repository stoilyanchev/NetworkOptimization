{
 "cells": [
  {
   "cell_type": "markdown",
   "metadata": {},
   "source": [
    "#  Minimum Spanning Tree Problem \n",
    "\n",
    "## Gurobi Lazy cuts callback\n"
   ]
  },
  {
   "cell_type": "code",
   "execution_count": 26,
   "metadata": {
    "collapsed": true
   },
   "outputs": [],
   "source": [
    "import networkx as nx\n",
    "import gurobipy as gb\n",
    "from itertools import combinations, chain\n",
    "import pygraphviz as pygv\n",
    "import os\n",
    "from IPython.display import SVG, display\n"
   ]
  },
  {
   "cell_type": "code",
   "execution_count": 27,
   "metadata": {
    "collapsed": true
   },
   "outputs": [],
   "source": [
    "def powerset(iterable):\n",
    "    \"powerset([1,2,3]) --> () (1,) (2,) (3,) (1,2) (1,3) (2,3) (1,2,3)\"\n",
    "    s = list(iterable)\n",
    "    return chain.from_iterable(combinations(s, r) for r in range(len(s)+1))\n",
    "\n",
    "#\n",
    "# Drawing \n",
    "# functions\n",
    "#\n",
    "\n",
    "def DrawInitialGraph():\n",
    "    global DrawG\n",
    "    DrawG = pygv.AGraph(undirected='true', strict='true', splines='true')\n",
    "\n",
    "\n",
    "    for i in G.nodes():\n",
    "        pos = str(G.node[i]['x'] * args.scale) + ',' + str((G.node[i]['y'])* args.scale)\n",
    "        DrawG.add_node (i, shape='circle', pos=pos, width=0.1, fontsize=9)\n",
    "    \n",
    "    DrawG.layout(prog='neato', args='-n')\n",
    "    DrawG.draw (path=str(basename) + '.svg', format='svg')\n",
    "    \n",
    "\n",
    "def DrawSol (x):\n",
    "    for i,j in G.edges():\n",
    "        lab = x[i,j].x\n",
    "        G[i][j]['capacity'] = x[i,j].x\n",
    "        if x[i,j].x > 0.00001:\n",
    "            if x[i,j].x > 0.999999:\n",
    "                DrawG.add_edge(i, j, color='black', label=lab, fontsize=9)\n",
    "            else:\n",
    "                DrawG.add_edge(i, j, color='red', label=lab)\n",
    "    path=str(basename)+'_sol.svg'\n",
    "    DrawG.draw (path=path, format='svg')\n",
    "    DrawG.delete_edges_from(DrawG.edges())\n",
    "    \n",
    "class args:\n",
    "    filename = None\n",
    "    scale = 60"
   ]
  },
  {
   "cell_type": "markdown",
   "metadata": {},
   "source": [
    "### Decision variables:\n",
    "\n",
    "$$\n",
    "x_{ij} = \\begin{cases} 1 \\text{ if edge } e=\\{i,j\\} \\text{ is selected} \\\\\n",
    "0 \\text{ otherwise.}\\end{cases}\n",
    "$$\n",
    "\n",
    "### Formulation\n",
    "\n",
    "$$\n",
    "\\min \\sum_{e=\\{i,j\\} \\in E} c_{ij} x_{ij} \\\\\n",
    "\\sum_{e=\\{i,j\\} \\in E} x_{ij} = |V| - 1 \\\\\n",
    "\\sum_{e=\\{i,j\\} \\in E(S)} x_{ij} \\le |S| - 1, \\;\\; \\forall S \\subset V, 2 < |S| \\le |V| - 1  \\\\\n",
    "x \\le 1 \\\\ \n",
    "x \\ge 0\n",
    "$$"
   ]
  },
  {
   "cell_type": "code",
   "execution_count": 28,
   "metadata": {},
   "outputs": [
    {
     "name": "stdout",
     "output_type": "stream",
     "text": [
      "G has 10 nodes and 45 edges\n"
     ]
    }
   ],
   "source": [
    "args.filename = \"mst.gml\"\n",
    "args.scale = 40\n",
    "\n",
    "basename = os.path.splitext(args.filename)[0]\n",
    "G = nx.read_graphml (args.filename, node_type=int)\n",
    "\n",
    "print (\"G has\", G.number_of_nodes(), \"nodes and\", G.number_of_edges(), \"edges\")"
   ]
  },
  {
   "cell_type": "code",
   "execution_count": 29,
   "metadata": {
    "collapsed": true
   },
   "outputs": [],
   "source": [
    "mst = gb.Model()\n",
    "\n",
    "# Decision Variables\n",
    "\n",
    "x = mst.addVars(G.edges(),\\\n",
    "                obj=[G[u][v]['cost'] for u,v in G.edges()],\\\n",
    "                ub = 1.0,\\\n",
    "                vtype=gb.GRB.BINARY, name='x')\n",
    "\n",
    "# Cardinality constraint\n",
    "\n",
    "mst.addConstr(x.sum() == G.number_of_nodes() - 1, 'Cardinality')\n",
    "\n",
    "mst.update()\n",
    "\n",
    "mst.write('mst.lp')"
   ]
  },
  {
   "cell_type": "code",
   "execution_count": 30,
   "metadata": {},
   "outputs": [
    {
     "name": "stdout",
     "output_type": "stream",
     "text": [
      "Optimize a model with 1 rows, 45 columns and 45 nonzeros\n",
      "Variable types: 0 continuous, 45 integer (45 binary)\n",
      "Coefficient statistics:\n",
      "  Matrix range     [1e+00, 1e+00]\n",
      "  Objective range  [2e+02, 4e+03]\n",
      "  Bounds range     [1e+00, 1e+00]\n",
      "  RHS range        [9e+00, 9e+00]\n",
      "Found heuristic solution: objective 21270.000000\n",
      "Presolve removed 0 rows and 3 columns\n",
      "Presolve time: 0.00s\n",
      "Presolved: 1 rows, 42 columns, 42 nonzeros\n",
      "Variable types: 0 continuous, 42 integer (39 binary)\n",
      "\n",
      "Root relaxation: objective 5.016000e+03, 1 iterations, 0.00 seconds\n",
      "\n",
      "    Nodes    |    Current Node    |     Objective Bounds      |     Work\n",
      " Expl Unexpl |  Obj  Depth IntInf | Incumbent    BestBd   Gap | It/Node Time\n",
      "\n",
      "*    0     0               0    5016.0000000 5016.00000  0.00%     -    0s\n",
      "\n",
      "Explored 0 nodes (1 simplex iterations) in 0.03 seconds\n",
      "Thread count was 4 (of 4 available processors)\n",
      "\n",
      "Solution count 2: 5016 21270 \n",
      "\n",
      "Optimal solution found (tolerance 1.00e-04)\n",
      "Best objective 5.016000000000e+03, best bound 5.016000000000e+03, gap 0.0000%\n"
     ]
    }
   ],
   "source": [
    "mst.optimize()"
   ]
  },
  {
   "cell_type": "code",
   "execution_count": 31,
   "metadata": {
    "scrolled": false
   },
   "outputs": [
    {
     "data": {
      "image/svg+xml": [
       "<svg height=\"1397pt\" viewBox=\"0.00 0.00 1117.00 1397.00\" width=\"1117pt\" xmlns=\"http://www.w3.org/2000/svg\" xmlns:xlink=\"http://www.w3.org/1999/xlink\">\n",
       "<g class=\"graph\" id=\"graph0\" transform=\"scale(1 1) rotate(0) translate(-21.5 1578.5)\">\n",
       "<title>%3</title>\n",
       "<polygon fill=\"white\" points=\"21.5,-181.5 21.5,-1578.5 1138.5,-1578.5 1138.5,-181.5 21.5,-181.5\" stroke=\"none\"/>\n",
       "<!-- 1 -->\n",
       "<g class=\"node\" id=\"node1\"><title>1</title>\n",
       "<ellipse cx=\"40\" cy=\"-1320\" fill=\"none\" rx=\"14.5\" ry=\"14.5\" stroke=\"black\"/>\n",
       "<text font-family=\"Times,serif\" font-size=\"9.00\" text-anchor=\"middle\" x=\"40\" y=\"-1317.3\">1</text>\n",
       "</g>\n",
       "<!-- 9 -->\n",
       "<g class=\"node\" id=\"node2\"><title>9</title>\n",
       "<ellipse cx=\"120\" cy=\"-1560\" fill=\"none\" rx=\"14.5\" ry=\"14.5\" stroke=\"black\"/>\n",
       "<text font-family=\"Times,serif\" font-size=\"9.00\" text-anchor=\"middle\" x=\"120\" y=\"-1557.3\">9</text>\n",
       "</g>\n",
       "<!-- 1&#45;&#45;9 -->\n",
       "<g class=\"edge\" id=\"edge1\"><title>1--9</title>\n",
       "<path d=\"M44.6469,-1333.94C58.7863,-1376.36 101.184,-1503.55 115.34,-1546.02\" fill=\"none\" stroke=\"black\"/>\n",
       "<text font-family=\"Times,serif\" font-size=\"9.00\" text-anchor=\"middle\" x=\"74.3622\" y=\"-1441.76\">1.0</text>\n",
       "</g>\n",
       "<!-- 2 -->\n",
       "<g class=\"node\" id=\"node3\"><title>2</title>\n",
       "<ellipse cx=\"1040\" cy=\"-640\" fill=\"none\" rx=\"14.5\" ry=\"14.5\" stroke=\"black\"/>\n",
       "<text font-family=\"Times,serif\" font-size=\"9.00\" text-anchor=\"middle\" x=\"1040\" y=\"-637.3\">2</text>\n",
       "</g>\n",
       "<!-- 5 -->\n",
       "<g class=\"node\" id=\"node4\"><title>5</title>\n",
       "<ellipse cx=\"1120\" cy=\"-680\" fill=\"none\" rx=\"14.5\" ry=\"14.5\" stroke=\"black\"/>\n",
       "<text font-family=\"Times,serif\" font-size=\"9.00\" text-anchor=\"middle\" x=\"1120\" y=\"-677.3\">5</text>\n",
       "</g>\n",
       "<!-- 2&#45;&#45;5 -->\n",
       "<g class=\"edge\" id=\"edge2\"><title>2--5</title>\n",
       "<path d=\"M1053.21,-646.605C1068.03,-654.017 1091.94,-665.97 1106.77,-673.385\" fill=\"none\" stroke=\"black\"/>\n",
       "<text font-family=\"Times,serif\" font-size=\"9.00\" text-anchor=\"middle\" x=\"1074.36\" y=\"-661.794\">1.0</text>\n",
       "</g>\n",
       "<!-- 8 -->\n",
       "<g class=\"node\" id=\"node5\"><title>8</title>\n",
       "<ellipse cx=\"960\" cy=\"-1000\" fill=\"none\" rx=\"14.5\" ry=\"14.5\" stroke=\"black\"/>\n",
       "<text font-family=\"Times,serif\" font-size=\"9.00\" text-anchor=\"middle\" x=\"960\" y=\"-997.3\">8</text>\n",
       "</g>\n",
       "<!-- 2&#45;&#45;8 -->\n",
       "<g class=\"edge\" id=\"edge3\"><title>2--8</title>\n",
       "<path d=\"M1036.76,-654.558C1023.84,-712.701 976.023,-927.899 963.188,-985.655\" fill=\"none\" stroke=\"black\"/>\n",
       "<text font-family=\"Times,serif\" font-size=\"9.00\" text-anchor=\"middle\" x=\"994.319\" y=\"-822.051\">1.0</text>\n",
       "</g>\n",
       "<!-- 5&#45;&#45;8 -->\n",
       "<g class=\"edge\" id=\"edge8\"><title>5--8</title>\n",
       "<path d=\"M1113.33,-693.343C1087.25,-745.507 992.343,-935.315 966.523,-986.954\" fill=\"none\" stroke=\"black\"/>\n",
       "<text font-family=\"Times,serif\" font-size=\"9.00\" text-anchor=\"middle\" x=\"1034.2\" y=\"-842.145\">1.0</text>\n",
       "</g>\n",
       "<!-- 3 -->\n",
       "<g class=\"node\" id=\"node6\"><title>3</title>\n",
       "<ellipse cx=\"760\" cy=\"-1000\" fill=\"none\" rx=\"14.5\" ry=\"14.5\" stroke=\"black\"/>\n",
       "<text font-family=\"Times,serif\" font-size=\"9.00\" text-anchor=\"middle\" x=\"760\" y=\"-997.3\">3</text>\n",
       "</g>\n",
       "<!-- 3&#45;&#45;8 -->\n",
       "<g class=\"edge\" id=\"edge5\"><title>3--8</title>\n",
       "<path d=\"M774.706,-1000C811.693,-1000 908.263,-1000 945.272,-1000\" fill=\"none\" stroke=\"black\"/>\n",
       "<text font-family=\"Times,serif\" font-size=\"9.00\" text-anchor=\"middle\" x=\"854.356\" y=\"-1001.8\">1.0</text>\n",
       "</g>\n",
       "<!-- 7 -->\n",
       "<g class=\"node\" id=\"node7\"><title>7</title>\n",
       "<ellipse cx=\"920\" cy=\"-1120\" fill=\"none\" rx=\"14.5\" ry=\"14.5\" stroke=\"black\"/>\n",
       "<text font-family=\"Times,serif\" font-size=\"9.00\" text-anchor=\"middle\" x=\"920\" y=\"-1117.3\">7</text>\n",
       "</g>\n",
       "<!-- 3&#45;&#45;7 -->\n",
       "<g class=\"edge\" id=\"edge4\"><title>3--7</title>\n",
       "<path d=\"M771.765,-1008.82C801.354,-1031.02 878.61,-1088.96 908.218,-1111.16\" fill=\"none\" stroke=\"black\"/>\n",
       "<text font-family=\"Times,serif\" font-size=\"9.00\" text-anchor=\"middle\" x=\"834.359\" y=\"-1061.79\">1.0</text>\n",
       "</g>\n",
       "<!-- 7&#45;&#45;8 -->\n",
       "<g class=\"edge\" id=\"edge9\"><title>7--8</title>\n",
       "<path d=\"M924.589,-1106.23C932.263,-1083.21 947.621,-1037.14 955.342,-1013.97\" fill=\"none\" stroke=\"black\"/>\n",
       "<text font-family=\"Times,serif\" font-size=\"9.00\" text-anchor=\"middle\" x=\"934.323\" y=\"-1061.96\">1.0</text>\n",
       "</g>\n",
       "<!-- 4 -->\n",
       "<g class=\"node\" id=\"node8\"><title>4</title>\n",
       "<ellipse cx=\"1080\" cy=\"-1200\" fill=\"none\" rx=\"14.5\" ry=\"14.5\" stroke=\"black\"/>\n",
       "<text font-family=\"Times,serif\" font-size=\"9.00\" text-anchor=\"middle\" x=\"1080\" y=\"-1197.3\">4</text>\n",
       "</g>\n",
       "<!-- 4&#45;&#45;8 -->\n",
       "<g class=\"edge\" id=\"edge7\"><title>4--8</title>\n",
       "<path d=\"M1072.49,-1187.49C1050.94,-1151.57 989.051,-1048.42 967.504,-1012.51\" fill=\"none\" stroke=\"black\"/>\n",
       "<text font-family=\"Times,serif\" font-size=\"9.00\" text-anchor=\"middle\" x=\"1014.37\" y=\"-1101.8\">1.0</text>\n",
       "</g>\n",
       "<!-- 4&#45;&#45;7 -->\n",
       "<g class=\"edge\" id=\"edge6\"><title>4--7</title>\n",
       "<path d=\"M1066.91,-1193.45C1036.9,-1178.45 963.451,-1141.73 933.274,-1126.64\" fill=\"none\" stroke=\"black\"/>\n",
       "<text font-family=\"Times,serif\" font-size=\"9.00\" text-anchor=\"middle\" x=\"994.531\" y=\"-1161.88\">1.0</text>\n",
       "</g>\n",
       "<!-- 6 -->\n",
       "<g class=\"node\" id=\"node9\"><title>6</title>\n",
       "<ellipse cx=\"920\" cy=\"-200\" fill=\"none\" rx=\"14.5\" ry=\"14.5\" stroke=\"black\"/>\n",
       "<text font-family=\"Times,serif\" font-size=\"9.00\" text-anchor=\"middle\" x=\"920\" y=\"-197.3\">6</text>\n",
       "</g>\n",
       "<!-- 10 -->\n",
       "<g class=\"node\" id=\"node10\"><title>10</title>\n",
       "<ellipse cx=\"440\" cy=\"-800\" fill=\"none\" rx=\"17.5\" ry=\"17.5\" stroke=\"black\"/>\n",
       "<text font-family=\"Times,serif\" font-size=\"9.00\" text-anchor=\"middle\" x=\"440\" y=\"-797.3\">10</text>\n",
       "</g>\n",
       "</g>\n",
       "</svg>"
      ],
      "text/plain": [
       "<IPython.core.display.SVG object>"
      ]
     },
     "metadata": {},
     "output_type": "display_data"
    }
   ],
   "source": [
    "DrawInitialGraph()\n",
    "DrawSol(x)\n",
    "display(SVG(filename=basename+'_sol.svg'))"
   ]
  },
  {
   "cell_type": "markdown",
   "metadata": {},
   "source": [
    "## Data needed to the callback\n",
    "\n",
    "Our callback needs: \n",
    "   1. The graph $G$\n",
    "   2. The variables $x$\n",
    "   3. The separation routine\n",
    "   4. The number of SECs generated so far\n",
    " \n",
    "The above data are added to the ``mst`` Model. Note the ``_`` before the data name"
   ]
  },
  {
   "cell_type": "code",
   "execution_count": 32,
   "metadata": {
    "collapsed": true
   },
   "outputs": [],
   "source": [
    "mst._graph = G\n",
    "mst._vars = x\n",
    "mst._nSEC = 0\n",
    "\n"
   ]
  },
  {
   "cell_type": "code",
   "execution_count": 33,
   "metadata": {
    "collapsed": true
   },
   "outputs": [],
   "source": [
    "import math\n",
    "import itertools\n",
    "\n",
    "def SECcallback (model, where):\n",
    "\n",
    "        \n",
    "    if where == gb.GRB.Callback.MIPSOL:\n",
    "        \n",
    "        x = model._vars\n",
    "        xrel = model.cbGetSolution(x)\n",
    "        G = model._graph\n",
    "        \n",
    "        #\n",
    "        # Make a graph working copy\n",
    "        # Not efficient !!!\n",
    "        #\n",
    "        \n",
    "        solG = nx.Graph([(u,v) for (u,v) in G.edges() \\\n",
    "                         if math.isclose(xrel[u,v], 1.0, abs_tol=1E-3)])\n",
    "\n",
    "        #\n",
    "        # Check if solG is connected\n",
    "        #\n",
    "        \n",
    "        for cc in nx.connected_components(solG):\n",
    "            if G.subgraph(cc).number_of_edges() > len(cc) - 1 and len(cc) > 2:\n",
    "                seclhs = gb.quicksum(x[u,v] if (u,v) in x else x[v,u] \\\n",
    "                                 for u,v in itertools.combinations(cc, 2))\n",
    "            \n",
    "                model.cbLazy(seclhs <= len(cc) - 1)\n",
    "                "
   ]
  },
  {
   "cell_type": "code",
   "execution_count": 34,
   "metadata": {
    "scrolled": false
   },
   "outputs": [
    {
     "name": "stdout",
     "output_type": "stream",
     "text": [
      "Changed value of parameter lazyConstraints to 1\n",
      "   Prev: 0  Min: 0  Max: 1  Default: 0\n",
      "Optimize a model with 1 rows, 45 columns and 45 nonzeros\n",
      "Variable types: 0 continuous, 45 integer (45 binary)\n",
      "Coefficient statistics:\n",
      "  Matrix range     [1e+00, 1e+00]\n",
      "  Objective range  [2e+02, 4e+03]\n",
      "  Bounds range     [1e+00, 1e+00]\n",
      "  RHS range        [9e+00, 9e+00]\n",
      "Presolve time: 0.00s\n",
      "Presolved: 1 rows, 45 columns, 45 nonzeros\n",
      "Variable types: 0 continuous, 45 integer (45 binary)\n",
      "\n",
      "Root relaxation: objective 5.016000e+03, 1 iterations, 0.00 seconds\n",
      "\n",
      "    Nodes    |    Current Node    |     Objective Bounds      |     Work\n",
      " Expl Unexpl |  Obj  Depth IntInf | Incumbent    BestBd   Gap | It/Node Time\n",
      "\n",
      "*    0     0               0    6735.0000000 6735.00000  0.00%     -    0s\n",
      "\n",
      "Cutting planes:\n",
      "  Lazy constraints: 5\n",
      "\n",
      "Explored 0 nodes (9 simplex iterations) in 0.03 seconds\n",
      "Thread count was 4 (of 4 available processors)\n",
      "\n",
      "Solution count 1: 6735 \n",
      "\n",
      "Optimal solution found (tolerance 1.00e-04)\n",
      "Best objective 6.735000000000e+03, best bound 6.735000000000e+03, gap 0.0000%\n"
     ]
    }
   ],
   "source": [
    "mst.reset()\n",
    "mst.Params.lazyConstraints = 1\n",
    "mst.optimize(SECcallback)"
   ]
  },
  {
   "cell_type": "code",
   "execution_count": 35,
   "metadata": {
    "scrolled": false
   },
   "outputs": [
    {
     "data": {
      "image/svg+xml": [
       "<svg height=\"1397pt\" viewBox=\"0.00 0.00 1117.00 1397.00\" width=\"1117pt\" xmlns=\"http://www.w3.org/2000/svg\" xmlns:xlink=\"http://www.w3.org/1999/xlink\">\n",
       "<g class=\"graph\" id=\"graph0\" transform=\"scale(1 1) rotate(0) translate(-21.5 1578.5)\">\n",
       "<title>%3</title>\n",
       "<polygon fill=\"white\" points=\"21.5,-181.5 21.5,-1578.5 1138.5,-1578.5 1138.5,-181.5 21.5,-181.5\" stroke=\"none\"/>\n",
       "<!-- 1 -->\n",
       "<g class=\"node\" id=\"node1\"><title>1</title>\n",
       "<ellipse cx=\"40\" cy=\"-1320\" fill=\"none\" rx=\"14.5\" ry=\"14.5\" stroke=\"black\"/>\n",
       "<text font-family=\"Times,serif\" font-size=\"9.00\" text-anchor=\"middle\" x=\"40\" y=\"-1317.3\">1</text>\n",
       "</g>\n",
       "<!-- 9 -->\n",
       "<g class=\"node\" id=\"node2\"><title>9</title>\n",
       "<ellipse cx=\"120\" cy=\"-1560\" fill=\"none\" rx=\"14.5\" ry=\"14.5\" stroke=\"black\"/>\n",
       "<text font-family=\"Times,serif\" font-size=\"9.00\" text-anchor=\"middle\" x=\"120\" y=\"-1557.3\">9</text>\n",
       "</g>\n",
       "<!-- 1&#45;&#45;9 -->\n",
       "<g class=\"edge\" id=\"edge1\"><title>1--9</title>\n",
       "<path d=\"M44.6469,-1333.94C58.7863,-1376.36 101.184,-1503.55 115.34,-1546.02\" fill=\"none\" stroke=\"black\"/>\n",
       "<text font-family=\"Times,serif\" font-size=\"9.00\" text-anchor=\"middle\" x=\"74.3622\" y=\"-1441.76\">1.0</text>\n",
       "</g>\n",
       "<!-- 10 -->\n",
       "<g class=\"node\" id=\"node3\"><title>10</title>\n",
       "<ellipse cx=\"440\" cy=\"-800\" fill=\"none\" rx=\"17.5\" ry=\"17.5\" stroke=\"black\"/>\n",
       "<text font-family=\"Times,serif\" font-size=\"9.00\" text-anchor=\"middle\" x=\"440\" y=\"-797.3\">10</text>\n",
       "</g>\n",
       "<!-- 1&#45;&#45;10 -->\n",
       "<g class=\"edge\" id=\"edge2\"><title>1--10</title>\n",
       "<path d=\"M49.1061,-1308.16C102.25,-1239.07 371.947,-888.469 429.277,-813.94\" fill=\"none\" stroke=\"black\"/>\n",
       "<text font-family=\"Times,serif\" font-size=\"9.00\" text-anchor=\"middle\" x=\"231.997\" y=\"-1064.89\">1.0</text>\n",
       "</g>\n",
       "<!-- 2 -->\n",
       "<g class=\"node\" id=\"node4\"><title>2</title>\n",
       "<ellipse cx=\"1040\" cy=\"-640\" fill=\"none\" rx=\"14.5\" ry=\"14.5\" stroke=\"black\"/>\n",
       "<text font-family=\"Times,serif\" font-size=\"9.00\" text-anchor=\"middle\" x=\"1040\" y=\"-637.3\">2</text>\n",
       "</g>\n",
       "<!-- 5 -->\n",
       "<g class=\"node\" id=\"node5\"><title>5</title>\n",
       "<ellipse cx=\"1120\" cy=\"-680\" fill=\"none\" rx=\"14.5\" ry=\"14.5\" stroke=\"black\"/>\n",
       "<text font-family=\"Times,serif\" font-size=\"9.00\" text-anchor=\"middle\" x=\"1120\" y=\"-677.3\">5</text>\n",
       "</g>\n",
       "<!-- 2&#45;&#45;5 -->\n",
       "<g class=\"edge\" id=\"edge3\"><title>2--5</title>\n",
       "<path d=\"M1053.21,-646.605C1068.03,-654.017 1091.94,-665.97 1106.77,-673.385\" fill=\"none\" stroke=\"black\"/>\n",
       "<text font-family=\"Times,serif\" font-size=\"9.00\" text-anchor=\"middle\" x=\"1074.36\" y=\"-661.794\">1.0</text>\n",
       "</g>\n",
       "<!-- 6 -->\n",
       "<g class=\"node\" id=\"node6\"><title>6</title>\n",
       "<ellipse cx=\"920\" cy=\"-200\" fill=\"none\" rx=\"14.5\" ry=\"14.5\" stroke=\"black\"/>\n",
       "<text font-family=\"Times,serif\" font-size=\"9.00\" text-anchor=\"middle\" x=\"920\" y=\"-197.3\">6</text>\n",
       "</g>\n",
       "<!-- 2&#45;&#45;6 -->\n",
       "<g class=\"edge\" id=\"edge4\"><title>2--6</title>\n",
       "<path d=\"M1036.14,-625.859C1018.09,-559.666 942.053,-280.862 923.903,-214.31\" fill=\"none\" stroke=\"black\"/>\n",
       "<text font-family=\"Times,serif\" font-size=\"9.00\" text-anchor=\"middle\" x=\"974.435\" y=\"-422.019\">1.0</text>\n",
       "</g>\n",
       "<!-- 8 -->\n",
       "<g class=\"node\" id=\"node10\"><title>8</title>\n",
       "<ellipse cx=\"960\" cy=\"-1000\" fill=\"none\" rx=\"14.5\" ry=\"14.5\" stroke=\"black\"/>\n",
       "<text font-family=\"Times,serif\" font-size=\"9.00\" text-anchor=\"middle\" x=\"960\" y=\"-997.3\">8</text>\n",
       "</g>\n",
       "<!-- 5&#45;&#45;8 -->\n",
       "<g class=\"edge\" id=\"edge8\"><title>5--8</title>\n",
       "<path d=\"M1113.33,-693.343C1087.25,-745.507 992.343,-935.315 966.523,-986.954\" fill=\"none\" stroke=\"black\"/>\n",
       "<text font-family=\"Times,serif\" font-size=\"9.00\" text-anchor=\"middle\" x=\"1000.45\" y=\"-842.145\">0.9999999999999996</text>\n",
       "</g>\n",
       "<!-- 3 -->\n",
       "<g class=\"node\" id=\"node7\"><title>3</title>\n",
       "<ellipse cx=\"760\" cy=\"-1000\" fill=\"none\" rx=\"14.5\" ry=\"14.5\" stroke=\"black\"/>\n",
       "<text font-family=\"Times,serif\" font-size=\"9.00\" text-anchor=\"middle\" x=\"760\" y=\"-997.3\">3</text>\n",
       "</g>\n",
       "<!-- 3&#45;&#45;10 -->\n",
       "<g class=\"edge\" id=\"edge6\"><title>3--10</title>\n",
       "<path d=\"M747.456,-992.16C697.074,-960.671 509.545,-843.465 454.982,-809.364\" fill=\"none\" stroke=\"black\"/>\n",
       "<text font-family=\"Times,serif\" font-size=\"9.00\" text-anchor=\"middle\" x=\"597.162\" y=\"-903.542\">1.0</text>\n",
       "</g>\n",
       "<!-- 7 -->\n",
       "<g class=\"node\" id=\"node8\"><title>7</title>\n",
       "<ellipse cx=\"920\" cy=\"-1120\" fill=\"none\" rx=\"14.5\" ry=\"14.5\" stroke=\"black\"/>\n",
       "<text font-family=\"Times,serif\" font-size=\"9.00\" text-anchor=\"middle\" x=\"920\" y=\"-1117.3\">7</text>\n",
       "</g>\n",
       "<!-- 3&#45;&#45;7 -->\n",
       "<g class=\"edge\" id=\"edge5\"><title>3--7</title>\n",
       "<path d=\"M771.765,-1008.82C801.354,-1031.02 878.61,-1088.96 908.218,-1111.16\" fill=\"none\" stroke=\"black\"/>\n",
       "<text font-family=\"Times,serif\" font-size=\"9.00\" text-anchor=\"middle\" x=\"834.359\" y=\"-1061.79\">1.0</text>\n",
       "</g>\n",
       "<!-- 7&#45;&#45;8 -->\n",
       "<g class=\"edge\" id=\"edge9\"><title>7--8</title>\n",
       "<path d=\"M924.589,-1106.23C932.263,-1083.21 947.621,-1037.14 955.342,-1013.97\" fill=\"none\" stroke=\"black\"/>\n",
       "<text font-family=\"Times,serif\" font-size=\"9.00\" text-anchor=\"middle\" x=\"934.323\" y=\"-1061.96\">1.0</text>\n",
       "</g>\n",
       "<!-- 4 -->\n",
       "<g class=\"node\" id=\"node9\"><title>4</title>\n",
       "<ellipse cx=\"1080\" cy=\"-1200\" fill=\"none\" rx=\"14.5\" ry=\"14.5\" stroke=\"black\"/>\n",
       "<text font-family=\"Times,serif\" font-size=\"9.00\" text-anchor=\"middle\" x=\"1080\" y=\"-1197.3\">4</text>\n",
       "</g>\n",
       "<!-- 4&#45;&#45;7 -->\n",
       "<g class=\"edge\" id=\"edge7\"><title>4--7</title>\n",
       "<path d=\"M1066.91,-1193.45C1036.9,-1178.45 963.451,-1141.73 933.274,-1126.64\" fill=\"none\" stroke=\"black\"/>\n",
       "<text font-family=\"Times,serif\" font-size=\"9.00\" text-anchor=\"middle\" x=\"994.531\" y=\"-1161.88\">1.0</text>\n",
       "</g>\n",
       "</g>\n",
       "</svg>"
      ],
      "text/plain": [
       "<IPython.core.display.SVG object>"
      ]
     },
     "metadata": {},
     "output_type": "display_data"
    }
   ],
   "source": [
    "DrawInitialGraph()\n",
    "DrawSol(x)\n",
    "display(SVG(filename=basename+'_sol.svg'))"
   ]
  },
  {
   "cell_type": "code",
   "execution_count": null,
   "metadata": {
    "collapsed": true
   },
   "outputs": [],
   "source": []
  },
  {
   "cell_type": "code",
   "execution_count": null,
   "metadata": {
    "collapsed": true
   },
   "outputs": [],
   "source": []
  }
 ],
 "metadata": {
  "anaconda-cloud": {},
  "kernelspec": {
   "display_name": "Python 3",
   "language": "python",
   "name": "python3"
  },
  "language_info": {
   "codemirror_mode": {
    "name": "ipython",
    "version": 3
   },
   "file_extension": ".py",
   "mimetype": "text/x-python",
   "name": "python",
   "nbconvert_exporter": "python",
   "pygments_lexer": "ipython3",
   "version": "3.6.0"
  }
 },
 "nbformat": 4,
 "nbformat_minor": 1
}
