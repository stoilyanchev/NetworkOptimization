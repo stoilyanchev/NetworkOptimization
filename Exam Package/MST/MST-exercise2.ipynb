{
 "cells": [
  {
   "cell_type": "code",
   "execution_count": 1,
   "metadata": {},
   "outputs": [],
   "source": [
    "import networkx as nx\n",
    "import gurobipy as gb\n",
    "from itertools import combinations, chain\n",
    "#import pygraphviz as pygv\n",
    "import os\n",
    "from IPython.display import SVG, display\n"
   ]
  },
  {
   "cell_type": "code",
   "execution_count": null,
   "metadata": {},
   "outputs": [],
   "source": [
    "def powerset(iterable):\n",
    "    \"powerset([1,2,3]) --> () (1,) (2,) (3,) (1,2) (1,3) (2,3) (1,2,3)\"\n",
    "    s = list(iterable)\n",
    "    return chain.from_iterable(combinations(s, r) for r in range(len(s)+1))\n",
    "\n",
    "#\n",
    "# Drawing \n",
    "# functions\n",
    "#\n",
    "\n",
    "def DrawInitialGraph():\n",
    "    global DrawG\n",
    "    DrawG = pygv.AGraph(undirected='true', strict='true', splines='true')\n",
    "\n",
    "\n",
    "    for i in G.nodes():\n",
    "        pos = str(G.node[i]['x'] * args.scale) + ',' + str((G.node[i]['y'])* args.scale)\n",
    "        DrawG.add_node (i, shape='circle', pos=pos, width=0.1, fontsize=9)\n",
    "    \n",
    "    DrawG.layout(prog='neato', args='-n')\n",
    "    DrawG.draw (path=str(basename) + '.svg', format='svg')\n",
    "    \n",
    "\n",
    "def DrawSol (x):\n",
    "    for i,j in G.edges():\n",
    "        lab = x[i,j].x\n",
    "        G[i][j]['capacity'] = x[i,j].x\n",
    "        if x[i,j].x > 0.00001:\n",
    "            if x[i,j].x > 0.999999:\n",
    "                DrawG.add_edge(i, j, color='black', label=lab, fontsize=9)\n",
    "            else:\n",
    "                DrawG.add_edge(i, j, color='red', label=lab)\n",
    "    path=str(basename)+'_sol.svg'\n",
    "    DrawG.draw (path=path, format='svg')\n",
    "    DrawG.delete_edges_from(DrawG.edges())\n",
    "    "
   ]
  },
  {
   "cell_type": "code",
   "execution_count": 2,
   "metadata": {},
   "outputs": [],
   "source": [
    "class args:\n",
    "    filename = None\n",
    "    scale = 40"
   ]
  },
  {
   "cell_type": "markdown",
   "metadata": {},
   "source": [
    "## Multicommodity flow formulation\n",
    "\n",
    "\n",
    "$$\n",
    "x_e = \\begin{cases}\n",
    "1 \\text{ if edge $e$ is in the tree} \\\\\n",
    "0 \\text { otherwise}\n",
    "\\end{cases}\n",
    "$$\n",
    "\n",
    "Associate to each edge $e$ two directed arcs $(i,j)$ and $(j,i)$ and let \n",
    "\n",
    "\n",
    "$$\n",
    "y_{ij}= \\{\\text{capacity for the flow of each commodity $k$ in arc } (i,j)\\}\n",
    "$$\n",
    "\n",
    "$$\n",
    "f^k_{ij} = \\{\\text{flow of commodity $k$ carried by the arc } (i,j)\\}\n",
    "$$\n",
    "\n",
    "\\begin{alignat}{3}\n",
    "\\min cx &&\\\\\n",
    "\\sum_{j \\in \\delta^+(0)} f^k_{0j} - \\sum_{j \\in \\delta^-(0)} f^k_{j0} = 1 &&\\;\\; \\forall k \\not = \\{0\\}\\\\\n",
    "\\sum_{j \\in \\delta^-(v)} f^k_{jv} - \\sum_{j \\in \\delta^+(v)} f^k_{vj} = 0 &&\\;\\; \\forall k \\not = \\{0\\}, \\forall v \\in V, v \\not = \\{0\\}, v \\not = k \\\\\n",
    "\\sum_{j \\in \\delta^-(k)} f^k_{jk} - \\sum_{j \\in \\delta^+(k)} f^k_{kj} = 1 && \\;\\; \\forall k \\not = \\{0\\} \\\\\n",
    "f^k_{ij} \\le y_{ij} && \\;\\; \\forall (i,j) \\text{ and } \\forall k \\not = \\{0\\}\\\\\n",
    "\\sum_{\\{i,j\\} \\in E} (y_{ij} + y_{ji}) = n-1\\\\\n",
    "y_{ij} + y_{ji} = x_e && \\\\\n",
    "f \\ge 0, \\; x_e \\in \\{0,1\\}\\; \n",
    "\\forall e \\in E, \\; \\\\y_{ij} \\in \\{0,1\\} \\; \\forall (i,j) \\in A\n",
    "\\end{alignat}"
   ]
  },
  {
   "cell_type": "code",
   "execution_count": 3,
   "metadata": {},
   "outputs": [
    {
     "name": "stdout",
     "output_type": "stream",
     "text": [
      "G has 15 nodes and 105 edges\n"
     ]
    }
   ],
   "source": [
    "args.filename = \"network2.gml\"\n",
    "args.scale = 25\n",
    "\n",
    "basename = os.path.splitext(args.filename)[0]\n",
    "G = nx.read_graphml (args.filename, node_type=int)\n",
    "\n",
    "print (\"G has\", G.number_of_nodes(), \"nodes and\", G.number_of_edges(), \"edges\")\n"
   ]
  },
  {
   "cell_type": "code",
   "execution_count": 4,
   "metadata": {},
   "outputs": [],
   "source": [
    "D = G.to_directed()\n",
    "root = 1\n",
    "#DrawInitialGraph()\n",
    "#display(SVG(filename=basename+'.svg'))\n",
    "\n"
   ]
  },
  {
   "cell_type": "code",
   "execution_count": 5,
   "metadata": {},
   "outputs": [],
   "source": [
    "commodities = list(G.nodes())[1:]\n",
    "nodessetminusroot = list(G.nodes())[1:]\n",
    "\n",
    "\n",
    "mstmultiflow = gb.Model()\n",
    "\n",
    "\n",
    "x = mstmultiflow.addVars(G.edges(), \\\n",
    "                         obj=[G[u][v]['cost'] for u,v in G.edges()],\\\n",
    "                        ub = 1.0,\\\n",
    "                        vtype=gb.GRB.BINARY,\\\n",
    "                        name='x')\n",
    "\n",
    "y = mstmultiflow.addVars(D.edges(), ub=1.0, vtype=gb.GRB.BINARY, name='y')\n",
    "\n",
    "f = mstmultiflow.addVars(D.edges(), commodities, ub=G.number_of_nodes(), vtype=gb.GRB.CONTINUOUS, name='f')"
   ]
  },
  {
   "cell_type": "code",
   "execution_count": 12,
   "metadata": {},
   "outputs": [],
   "source": [
    "hub_cost = {1:15, 2:20, 3:50}\n",
    "hub_capacity = {1:1, 2:4, 3:8}"
   ]
  },
  {
   "cell_type": "code",
   "execution_count": 13,
   "metadata": {},
   "outputs": [],
   "source": [
    "z = mstmultiflow.addVars (G.nodes(),hub_cost.keys(), ub = 1.0, \\\n",
    "                          obj=[hub_cost[i] for h in G.nodes() \\\n",
    "                               for i in hub_cost], \\\n",
    "                               vtype = gb.GRB.BINARY, name = 'z')\n",
    "\n",
    "mstmultiflow.update()\n",
    "\n",
    "mstmultiflow.write('extendedMST.lp')"
   ]
  },
  {
   "cell_type": "code",
   "execution_count": 14,
   "metadata": {},
   "outputs": [],
   "source": [
    "#\n",
    "# Cardinality constraint\n",
    "#\n",
    "\n",
    "mstmultiflow.addConstr(y.sum() == G.number_of_nodes() - 1, \"Cardinality\")\n",
    "\n",
    "mstmultiflow.update()\n",
    "\n"
   ]
  },
  {
   "cell_type": "code",
   "execution_count": 15,
   "metadata": {},
   "outputs": [],
   "source": [
    "for e in G.edges():\n",
    "    h = e[0]\n",
    "    k = e[1]\n",
    "\n",
    "    name = \"Equality_x_(%d,%d)\"%(h,k)\n",
    "    mstmultiflow.addConstr(y[h,k] + y[k,h] -  x[e] == 0, name)\n",
    "                          \n",
    "                           \n",
    "mstmultiflow.update()\n",
    " "
   ]
  },
  {
   "cell_type": "code",
   "execution_count": 16,
   "metadata": {},
   "outputs": [],
   "source": [
    "#\n",
    "# Variable capacity cons\n",
    "#\n",
    "\n",
    "for k in commodities:\n",
    "    for u,v in D.edges():\n",
    "        name = \"Cap_(%d,%d)\" % (u,v) + \"_Com_\" + str(k)\n",
    "        mstmultiflow.addConstr (f [u,v,k] - y[u,v] <= 0, name)\n",
    "\n",
    "mstmultiflow.update()\n",
    "\n"
   ]
  },
  {
   "cell_type": "code",
   "execution_count": 17,
   "metadata": {},
   "outputs": [],
   "source": [
    "#\n",
    "# Root constraints\n",
    "#\n",
    "\n",
    "for k in commodities:\n",
    "    name = \"Root_Com_\"+str(k)\n",
    "    mstmultiflow.addConstr(f.sum('*',root,k) - f.sum(root, '*', k) \\\n",
    "                           == 1, name)\n"
   ]
  },
  {
   "cell_type": "code",
   "execution_count": 18,
   "metadata": {},
   "outputs": [],
   "source": [
    "#\n",
    "# Balance constraints\n",
    "#\n",
    "\n",
    "for v in nodessetminusroot:\n",
    "    for k in commodities:\n",
    "        if (v != k):\n",
    "            name = \"Balance_\"+str(v)+\"_Com_\"+str(k)\n",
    "            mstmultiflow.addConstr(f.sum('*',v,k) - f.sum(v,'*',k) == 0, name)\n",
    "            \n",
    "\n",
    "mstmultiflow.update()\n",
    "#mstmultiflow.write('mstmultiflow.lp')"
   ]
  },
  {
   "cell_type": "code",
   "execution_count": 19,
   "metadata": {},
   "outputs": [],
   "source": [
    "#\n",
    "# Terminal constraints\n",
    "#\n",
    "\n",
    "for k in commodities:\n",
    "    name = \"Term_Com_\"+str(k)\n",
    "    mstmultiflow.addConstr(f.sum(k,'*',k) - f.sum('*',k,k) == 1, name)\n",
    "\n",
    "mstmultiflow.update()\n"
   ]
  },
  {
   "cell_type": "markdown",
   "metadata": {},
   "source": [
    "$$\n",
    "\\sum_{k \\in \\{1,2,3\\}} z_i^k = 1\\;\\; \\forall i \\in V\n",
    "$$"
   ]
  },
  {
   "cell_type": "code",
   "execution_count": 20,
   "metadata": {},
   "outputs": [],
   "source": [
    "for u in G.nodes():\n",
    "    name = 'hub_constr' + str(u)\n",
    "    mstmultiflow.addConstr(z.sum(u,'*') == 1, name)\n",
    "    \n",
    "mstmultiflow.update()\n",
    "\n",
    "mstmultiflow.write('extendedMST.lp')"
   ]
  },
  {
   "cell_type": "markdown",
   "metadata": {},
   "source": [
    "$$\n",
    "\\sum_{e \\in \\delta(u)} x_e - 2z^1_u - 4 z^2_u - 8 z^3_u \\le 0 \\;\\;\\forall u \\in V\n",
    "$$"
   ]
  },
  {
   "cell_type": "code",
   "execution_count": 21,
   "metadata": {},
   "outputs": [],
   "source": [
    "for w in G.nodes():\n",
    "    mstmultiflow.addConstr(gb.quicksum(x[u,v] if (u,v) in x else x[v,u] for u,v in G.edges(w)) \\\n",
    "                                   <= gb.quicksum(hub_capacity[i] * z[w,i] for i in hub_capacity),\\\n",
    "                          name='Hub_capacity_' + str(w)) \n",
    "    \n",
    "mstmultiflow.update()"
   ]
  },
  {
   "cell_type": "code",
   "execution_count": 22,
   "metadata": {},
   "outputs": [],
   "source": [
    "mstmultiflow.write('extendedMST.lp')"
   ]
  },
  {
   "cell_type": "code",
   "execution_count": 23,
   "metadata": {},
   "outputs": [
    {
     "name": "stdout",
     "output_type": "stream",
     "text": [
      "Optimize a model with 3286 rows, 3300 columns and 12585 nonzeros\n",
      "Variable types: 2940 continuous, 360 integer (360 binary)\n",
      "Coefficient statistics:\n",
      "  Matrix range     [1e+00, 8e+00]\n",
      "  Objective range  [2e+01, 5e+03]\n",
      "  Bounds range     [1e+00, 2e+01]\n",
      "  RHS range        [1e+00, 1e+01]\n",
      "Presolve removed 0 rows and 15 columns\n",
      "Presolve time: 0.01s\n",
      "Presolved: 3286 rows, 3285 columns, 12555 nonzeros\n",
      "Variable types: 2940 continuous, 345 integer (345 binary)\n",
      "Found heuristic solution: objective 29284.000000\n",
      "\n",
      "Root relaxation: objective 1.084367e+04, 1854 iterations, 0.13 seconds\n",
      "\n",
      "    Nodes    |    Current Node    |     Objective Bounds      |     Work\n",
      " Expl Unexpl |  Obj  Depth IntInf | Incumbent    BestBd   Gap | It/Node Time\n",
      "\n",
      "     0     0 10843.6667    0   11 29284.0000 10843.6667  63.0%     -    0s\n",
      "H    0     0                    10877.000000 10843.6667  0.31%     -    0s\n",
      "     0     0     cutoff    0      10877.0000 10877.0000  0.00%     -    0s\n",
      "\n",
      "Cutting planes:\n",
      "  Cover: 11\n",
      "\n",
      "Explored 1 nodes (1931 simplex iterations) in 0.31 seconds\n",
      "Thread count was 4 (of 4 available processors)\n",
      "\n",
      "Solution count 2: 10877 29284 \n",
      "\n",
      "Optimal solution found (tolerance 1.00e-04)\n",
      "Best objective 1.087700000000e+04, best bound 1.087700000000e+04, gap 0.0000%\n"
     ]
    }
   ],
   "source": [
    "mstmultiflow.optimize()"
   ]
  },
  {
   "cell_type": "code",
   "execution_count": 24,
   "metadata": {},
   "outputs": [
    {
     "name": "stdout",
     "output_type": "stream",
     "text": [
      "<gurobi.Var x[1,10] (value 1.0)>\n",
      "<gurobi.Var x[2,3] (value 1.0)>\n",
      "<gurobi.Var x[2,4] (value 1.0)>\n",
      "<gurobi.Var x[2,9] (value 1.0)>\n",
      "<gurobi.Var x[3,12] (value 1.0)>\n",
      "<gurobi.Var x[4,5] (value 1.0)>\n",
      "<gurobi.Var x[6,8] (value 1.0)>\n",
      "<gurobi.Var x[6,15] (value 1.0)>\n",
      "<gurobi.Var x[7,12] (value 1.0)>\n",
      "<gurobi.Var x[8,10] (value 1.0)>\n",
      "<gurobi.Var x[9,11] (value 1.0)>\n",
      "<gurobi.Var x[9,13] (value 1.0)>\n",
      "<gurobi.Var x[11,15] (value 1.0)>\n",
      "<gurobi.Var x[13,14] (value 1.0)>\n"
     ]
    }
   ],
   "source": [
    "for i in x:\n",
    "    if x[i].x > 0:\n",
    "        print (x[i])"
   ]
  },
  {
   "cell_type": "code",
   "execution_count": 25,
   "metadata": {},
   "outputs": [
    {
     "name": "stdout",
     "output_type": "stream",
     "text": [
      "<gurobi.Var z[1,1] (value 1.0)>\n",
      "<gurobi.Var z[2,2] (value 1.0)>\n",
      "<gurobi.Var z[3,2] (value 1.0)>\n",
      "<gurobi.Var z[4,2] (value 1.0)>\n",
      "<gurobi.Var z[5,1] (value 1.0)>\n",
      "<gurobi.Var z[6,2] (value 1.0)>\n",
      "<gurobi.Var z[7,1] (value 1.0)>\n",
      "<gurobi.Var z[8,2] (value 1.0)>\n",
      "<gurobi.Var z[9,2] (value 1.0)>\n",
      "<gurobi.Var z[10,2] (value 1.0)>\n",
      "<gurobi.Var z[11,2] (value 1.0)>\n",
      "<gurobi.Var z[12,2] (value 1.0)>\n",
      "<gurobi.Var z[13,2] (value 1.0)>\n",
      "<gurobi.Var z[14,1] (value 1.0)>\n",
      "<gurobi.Var z[15,2] (value 1.0)>\n"
     ]
    }
   ],
   "source": [
    "for i in z:\n",
    "    if z[i].x > 0:\n",
    "        print (z[i])"
   ]
  },
  {
   "cell_type": "code",
   "execution_count": 74,
   "metadata": {
    "scrolled": false
   },
   "outputs": [
    {
     "data": {
      "image/svg+xml": [
       "<svg height=\"1165pt\" viewBox=\"0.00 0.00 665.00 1165.00\" width=\"665pt\" xmlns=\"http://www.w3.org/2000/svg\" xmlns:xlink=\"http://www.w3.org/1999/xlink\">\n",
       "<g class=\"graph\" id=\"graph0\" transform=\"scale(1 1) rotate(0) translate(-3.5 1168.5)\">\n",
       "<title>%3</title>\n",
       "<polygon fill=\"white\" points=\"3.5,-3.5 3.5,-1168.5 668.5,-1168.5 668.5,-3.5 3.5,-3.5\" stroke=\"none\"/>\n",
       "<!-- 1 -->\n",
       "<g class=\"node\" id=\"node1\"><title>1</title>\n",
       "<ellipse cx=\"450\" cy=\"-25\" fill=\"none\" rx=\"14.5\" ry=\"14.5\" stroke=\"black\"/>\n",
       "<text font-family=\"Times,serif\" font-size=\"9.00\" text-anchor=\"middle\" x=\"450\" y=\"-22.3\">1</text>\n",
       "</g>\n",
       "<!-- 10 -->\n",
       "<g class=\"node\" id=\"node2\"><title>10</title>\n",
       "<ellipse cx=\"500\" cy=\"-25\" fill=\"none\" rx=\"17.5\" ry=\"17.5\" stroke=\"black\"/>\n",
       "<text font-family=\"Times,serif\" font-size=\"9.00\" text-anchor=\"middle\" x=\"500\" y=\"-22.3\">10</text>\n",
       "</g>\n",
       "<!-- 1&#45;&#45;10 -->\n",
       "<g class=\"edge\" id=\"edge1\"><title>1--10</title>\n",
       "<path d=\"M464.731,-25C470.262,-25 476.604,-25 482.372,-25\" fill=\"none\" stroke=\"black\"/>\n",
       "<text font-family=\"Times,serif\" font-size=\"9.00\" text-anchor=\"middle\" x=\"476.275\" y=\"-17.8\">1.0</text>\n",
       "</g>\n",
       "<!-- 2 -->\n",
       "<g class=\"node\" id=\"node3\"><title>2</title>\n",
       "<ellipse cx=\"275\" cy=\"-900\" fill=\"none\" rx=\"14.5\" ry=\"14.5\" stroke=\"black\"/>\n",
       "<text font-family=\"Times,serif\" font-size=\"9.00\" text-anchor=\"middle\" x=\"275\" y=\"-897.3\">2</text>\n",
       "</g>\n",
       "<!-- 3 -->\n",
       "<g class=\"node\" id=\"node4\"><title>3</title>\n",
       "<ellipse cx=\"75\" cy=\"-875\" fill=\"none\" rx=\"14.5\" ry=\"14.5\" stroke=\"black\"/>\n",
       "<text font-family=\"Times,serif\" font-size=\"9.00\" text-anchor=\"middle\" x=\"75\" y=\"-872.3\">3</text>\n",
       "</g>\n",
       "<!-- 2&#45;&#45;3 -->\n",
       "<g class=\"edge\" id=\"edge2\"><title>2--3</title>\n",
       "<path d=\"M260.294,-898.162C223.217,-893.527 126.266,-881.408 89.4583,-876.807\" fill=\"none\" stroke=\"black\"/>\n",
       "<text font-family=\"Times,serif\" font-size=\"9.00\" text-anchor=\"middle\" x=\"169.15\" y=\"-889.272\">1.0</text>\n",
       "</g>\n",
       "<!-- 4 -->\n",
       "<g class=\"node\" id=\"node5\"><title>4</title>\n",
       "<ellipse cx=\"475\" cy=\"-975\" fill=\"none\" rx=\"14.5\" ry=\"14.5\" stroke=\"black\"/>\n",
       "<text font-family=\"Times,serif\" font-size=\"9.00\" text-anchor=\"middle\" x=\"475\" y=\"-972.3\">4</text>\n",
       "</g>\n",
       "<!-- 2&#45;&#45;4 -->\n",
       "<g class=\"edge\" id=\"edge3\"><title>2--4</title>\n",
       "<path d=\"M288.747,-905.155C325.372,-918.889 424.99,-956.246 461.421,-969.908\" fill=\"none\" stroke=\"black\"/>\n",
       "<text font-family=\"Times,serif\" font-size=\"9.00\" text-anchor=\"middle\" x=\"369.532\" y=\"-939.359\">1.0</text>\n",
       "</g>\n",
       "<!-- 9 -->\n",
       "<g class=\"node\" id=\"node6\"><title>9</title>\n",
       "<ellipse cx=\"350\" cy=\"-650\" fill=\"none\" rx=\"14.5\" ry=\"14.5\" stroke=\"black\"/>\n",
       "<text font-family=\"Times,serif\" font-size=\"9.00\" text-anchor=\"middle\" x=\"350\" y=\"-647.3\">9</text>\n",
       "</g>\n",
       "<!-- 2&#45;&#45;9 -->\n",
       "<g class=\"edge\" id=\"edge4\"><title>2--9</title>\n",
       "<path d=\"M279.247,-885.843C292.448,-841.84 332.662,-707.792 345.799,-664.002\" fill=\"none\" stroke=\"black\"/>\n",
       "<text font-family=\"Times,serif\" font-size=\"9.00\" text-anchor=\"middle\" x=\"306.922\" y=\"-776.643\">1.0</text>\n",
       "</g>\n",
       "<!-- 12 -->\n",
       "<g class=\"node\" id=\"node7\"><title>12</title>\n",
       "<ellipse cx=\"25\" cy=\"-925\" fill=\"none\" rx=\"17.5\" ry=\"17.5\" stroke=\"black\"/>\n",
       "<text font-family=\"Times,serif\" font-size=\"9.00\" text-anchor=\"middle\" x=\"25\" y=\"-922.3\">12</text>\n",
       "</g>\n",
       "<!-- 3&#45;&#45;12 -->\n",
       "<g class=\"edge\" id=\"edge5\"><title>3--12</title>\n",
       "<path d=\"M64.3963,-885.604C56.5991,-893.401 45.9677,-904.032 37.7141,-912.286\" fill=\"none\" stroke=\"black\"/>\n",
       "<text font-family=\"Times,serif\" font-size=\"9.00\" text-anchor=\"middle\" x=\"45.6014\" y=\"-900.574\">1.0</text>\n",
       "</g>\n",
       "<!-- 5 -->\n",
       "<g class=\"node\" id=\"node8\"><title>5</title>\n",
       "<ellipse cx=\"500\" cy=\"-1050\" fill=\"none\" rx=\"14.5\" ry=\"14.5\" stroke=\"black\"/>\n",
       "<text font-family=\"Times,serif\" font-size=\"9.00\" text-anchor=\"middle\" x=\"500\" y=\"-1047.3\">5</text>\n",
       "</g>\n",
       "<!-- 4&#45;&#45;5 -->\n",
       "<g class=\"edge\" id=\"edge6\"><title>4--5</title>\n",
       "<path d=\"M479.585,-988.756C484.068,-1002.2 490.857,-1022.57 495.359,-1036.08\" fill=\"none\" stroke=\"black\"/>\n",
       "<text font-family=\"Times,serif\" font-size=\"9.00\" text-anchor=\"middle\" x=\"481.84\" y=\"-1014.2\">1.0</text>\n",
       "</g>\n",
       "<!-- 11 -->\n",
       "<g class=\"node\" id=\"node13\"><title>11</title>\n",
       "<ellipse cx=\"525\" cy=\"-675\" fill=\"none\" rx=\"17.5\" ry=\"17.5\" stroke=\"black\"/>\n",
       "<text font-family=\"Times,serif\" font-size=\"9.00\" text-anchor=\"middle\" x=\"525\" y=\"-672.3\">11</text>\n",
       "</g>\n",
       "<!-- 9&#45;&#45;11 -->\n",
       "<g class=\"edge\" id=\"edge11\"><title>9--11</title>\n",
       "<path d=\"M364.619,-652.088C396.657,-656.665 472.943,-667.563 507.478,-672.497\" fill=\"none\" stroke=\"black\"/>\n",
       "<text font-family=\"Times,serif\" font-size=\"9.00\" text-anchor=\"middle\" x=\"429.487\" y=\"-663.959\">1.0</text>\n",
       "</g>\n",
       "<!-- 13 -->\n",
       "<g class=\"node\" id=\"node14\"><title>13</title>\n",
       "<ellipse cx=\"150\" cy=\"-625\" fill=\"none\" rx=\"17.5\" ry=\"17.5\" stroke=\"black\"/>\n",
       "<text font-family=\"Times,serif\" font-size=\"9.00\" text-anchor=\"middle\" x=\"150\" y=\"-622.3\">13</text>\n",
       "</g>\n",
       "<!-- 9&#45;&#45;13 -->\n",
       "<g class=\"edge\" id=\"edge12\"><title>9--13</title>\n",
       "<path d=\"M335.294,-648.162C299.21,-643.651 206.413,-632.052 167.541,-627.193\" fill=\"none\" stroke=\"black\"/>\n",
       "<text font-family=\"Times,serif\" font-size=\"9.00\" text-anchor=\"middle\" x=\"246.838\" y=\"-639.608\">1.0</text>\n",
       "</g>\n",
       "<!-- 6 -->\n",
       "<g class=\"node\" id=\"node9\"><title>6</title>\n",
       "<ellipse cx=\"525\" cy=\"-325\" fill=\"none\" rx=\"14.5\" ry=\"14.5\" stroke=\"black\"/>\n",
       "<text font-family=\"Times,serif\" font-size=\"9.00\" text-anchor=\"middle\" x=\"525\" y=\"-322.3\">6</text>\n",
       "</g>\n",
       "<!-- 8 -->\n",
       "<g class=\"node\" id=\"node10\"><title>8</title>\n",
       "<ellipse cx=\"650\" cy=\"-75\" fill=\"none\" rx=\"14.5\" ry=\"14.5\" stroke=\"black\"/>\n",
       "<text font-family=\"Times,serif\" font-size=\"9.00\" text-anchor=\"middle\" x=\"650\" y=\"-72.3\">8</text>\n",
       "</g>\n",
       "<!-- 6&#45;&#45;8 -->\n",
       "<g class=\"edge\" id=\"edge7\"><title>6--8</title>\n",
       "<path d=\"M531.545,-311.911C553.095,-268.81 621.694,-131.611 643.369,-88.2611\" fill=\"none\" stroke=\"black\"/>\n",
       "<text font-family=\"Times,serif\" font-size=\"9.00\" text-anchor=\"middle\" x=\"581.785\" y=\"-201.98\">1.0</text>\n",
       "</g>\n",
       "<!-- 15 -->\n",
       "<g class=\"node\" id=\"node11\"><title>15</title>\n",
       "<ellipse cx=\"625\" cy=\"-550\" fill=\"none\" rx=\"17.5\" ry=\"17.5\" stroke=\"black\"/>\n",
       "<text font-family=\"Times,serif\" font-size=\"9.00\" text-anchor=\"middle\" x=\"625\" y=\"-547.3\">15</text>\n",
       "</g>\n",
       "<!-- 6&#45;&#45;15 -->\n",
       "<g class=\"edge\" id=\"edge8\"><title>6--15</title>\n",
       "<path d=\"M530.956,-338.401C548.321,-377.473 598.863,-491.192 617.759,-533.708\" fill=\"none\" stroke=\"black\"/>\n",
       "<text font-family=\"Times,serif\" font-size=\"9.00\" text-anchor=\"middle\" x=\"568.159\" y=\"-436.563\">1.0</text>\n",
       "</g>\n",
       "<!-- 8&#45;&#45;10 -->\n",
       "<g class=\"edge\" id=\"edge10\"><title>8--10</title>\n",
       "<path d=\"M636.157,-70.3857C608.597,-61.199 546.945,-40.6484 516.988,-30.6627\" fill=\"none\" stroke=\"black\"/>\n",
       "<text font-family=\"Times,serif\" font-size=\"9.00\" text-anchor=\"middle\" x=\"571.847\" y=\"-52.6238\">1.0</text>\n",
       "</g>\n",
       "<!-- 7 -->\n",
       "<g class=\"node\" id=\"node12\"><title>7</title>\n",
       "<ellipse cx=\"50\" cy=\"-1150\" fill=\"none\" rx=\"14.5\" ry=\"14.5\" stroke=\"black\"/>\n",
       "<text font-family=\"Times,serif\" font-size=\"9.00\" text-anchor=\"middle\" x=\"50\" y=\"-1147.3\">7</text>\n",
       "</g>\n",
       "<!-- 7&#45;&#45;12 -->\n",
       "<g class=\"edge\" id=\"edge9\"><title>7--12</title>\n",
       "<path d=\"M48.3981,-1135.58C44.0011,-1096.01 31.7538,-985.784 26.9598,-942.638\" fill=\"none\" stroke=\"black\"/>\n",
       "<text font-family=\"Times,serif\" font-size=\"9.00\" text-anchor=\"middle\" x=\"32.2028\" y=\"-1042.25\">1.0</text>\n",
       "</g>\n",
       "<!-- 11&#45;&#45;15 -->\n",
       "<g class=\"edge\" id=\"edge13\"><title>11--15</title>\n",
       "<path d=\"M536.084,-661.145C555.306,-637.118 594.61,-587.988 613.867,-563.917\" fill=\"none\" stroke=\"black\"/>\n",
       "<text font-family=\"Times,serif\" font-size=\"9.00\" text-anchor=\"middle\" x=\"569.337\" y=\"-614.347\">1.0</text>\n",
       "</g>\n",
       "<!-- 14 -->\n",
       "<g class=\"node\" id=\"node15\"><title>14</title>\n",
       "<ellipse cx=\"125\" cy=\"-300\" fill=\"none\" rx=\"17.5\" ry=\"17.5\" stroke=\"black\"/>\n",
       "<text font-family=\"Times,serif\" font-size=\"9.00\" text-anchor=\"middle\" x=\"125\" y=\"-297.3\">14</text>\n",
       "</g>\n",
       "<!-- 13&#45;&#45;14 -->\n",
       "<g class=\"edge\" id=\"edge14\"><title>13--14</title>\n",
       "<path d=\"M148.656,-607.527C144.315,-551.096 130.701,-374.113 126.351,-317.56\" fill=\"none\" stroke=\"black\"/>\n",
       "<text font-family=\"Times,serif\" font-size=\"9.00\" text-anchor=\"middle\" x=\"131.882\" y=\"-464.389\">1.0</text>\n",
       "</g>\n",
       "</g>\n",
       "</svg>"
      ],
      "text/plain": [
       "<IPython.core.display.SVG object>"
      ]
     },
     "metadata": {},
     "output_type": "display_data"
    }
   ],
   "source": [
    "DrawSol(x)\n",
    "display(SVG(filename=basename+'_sol.svg'))\n",
    "\n",
    "\n"
   ]
  },
  {
   "cell_type": "code",
   "execution_count": null,
   "metadata": {
    "collapsed": true
   },
   "outputs": [],
   "source": []
  }
 ],
 "metadata": {
  "anaconda-cloud": {},
  "kernelspec": {
   "display_name": "Python 3",
   "language": "python",
   "name": "python3"
  },
  "language_info": {
   "codemirror_mode": {
    "name": "ipython",
    "version": 3
   },
   "file_extension": ".py",
   "mimetype": "text/x-python",
   "name": "python",
   "nbconvert_exporter": "python",
   "pygments_lexer": "ipython3",
   "version": "3.6.0"
  }
 },
 "nbformat": 4,
 "nbformat_minor": 1
}
