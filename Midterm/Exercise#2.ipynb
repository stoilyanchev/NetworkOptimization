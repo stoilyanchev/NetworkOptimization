{
 "cells": [
  {
   "cell_type": "code",
   "execution_count": 1,
   "metadata": {},
   "outputs": [],
   "source": [
    "import gurobipy as gb\n",
    "import networkx as nx\n",
    "from itertools import combinations, chain\n",
    "\n",
    "#import pygraphviz as pygv\n",
    "\n",
    "\n",
    "import os\n",
    "from IPython.display import SVG, display"
   ]
  },
  {
   "cell_type": "code",
   "execution_count": 2,
   "metadata": {},
   "outputs": [],
   "source": [
    "def powerset(iterable):\n",
    "    \"powerset([1,2,3]) --> () (1,) (2,) (3,) (1,2) (1,3) (2,3) (1,2,3)\"\n",
    "    s = list(iterable)\n",
    "    return chain.from_iterable(combinations(s, r) for r in range(len(s)+1))\n",
    "\n",
    "#\n",
    "# Drawing \n",
    "# functions\n",
    "#\n",
    "\n",
    "#\n",
    "# Drawing \n",
    "# functions\n",
    "#\n",
    "\n",
    "def DrawInitialGraph():\n",
    "    global DrawG\n",
    "    DrawG = pygv.AGraph(directed='true',strict='true', splines='true')\n",
    "\n",
    "\n",
    "    for i in G.nodes():\n",
    "        pos = str(G.node[i]['x'] * args.scale) + ',' + str((G.node[i]['y'])* args.scale)\n",
    "        if i == root:\n",
    "            DrawG.add_node (i, shape='circle', pos=pos, color=\"red\", fontsize='8', width='0.3', fixedsize='true')\n",
    "        else:\n",
    "            DrawG.add_node (i, shape='circle', pos=pos, color=\"black\", fontsize='8', width='0.3', fixedsize='true')   \t\n",
    "\n",
    "    DrawG.layout(prog='neato', args='-n')\n",
    "    DrawG.draw (path=str(basename) + '.svg', format='svg')\n",
    "    DrawG.clear()\n",
    "\n",
    "\n",
    "def DrawSol (x):\n",
    "\n",
    "    for i in G.nodes():\n",
    "        pos = str(G.node[i]['x'] * args.scale) + ',' + str((G.node[i]['y'])* args.scale)\n",
    "        DrawG.add_node (i, shape='circle', pos=pos,fontsize='8', width='0.3', fixedsize='true')\n",
    "\n",
    "    DrawG.layout(prog='neato', args='-n')\n",
    "    filepath=str(basename) + '_sol.svg'\n",
    "\n",
    "    for i in G.edges():\n",
    "        h = i[0]\n",
    "        k = i[1]\n",
    "        if x[i].x > 0.00001:\n",
    "            lab = round(x[i].x,4)\t\n",
    "            if x[i].x > 0.999999:\n",
    "                DrawG.add_edge(h, k, color='black', label=lab, fontsize='8')\n",
    "            else:\n",
    "                DrawG.add_edge(h, k, color='red', label=lab, fontsize='8')\n",
    "\n",
    "    DrawG.draw (path=filepath, format='svg')\n",
    "    DrawG.clear()\n",
    "\n",
    "def DrawSubtour (x, subtour):\n",
    "    for i in G.nodes():\n",
    "        pos = str(G.node[i]['x'] * args.scale) + ',' + str((G.node[i]['y'])* args.scale)\n",
    "        if i in subtour:\n",
    "            DrawG.add_node (i, shape='circle', pos=pos, fontsize='8', width='0.3', fixedsize='true', style='filled')\n",
    "        else:\n",
    "            DrawG.add_node (i, shape='circle', pos=pos, fontsize='8', width='0.3', fixedsize='true')\n",
    "\n",
    "    DrawG.layout(prog='neato', args='-n')\n",
    "    filepath=str(basename) + '_sub.svg'\n",
    "\n",
    "    for i in G.edges():\n",
    "        h = i[0]\n",
    "        k = i[1]\n",
    "        if x[i].x > 0.00001:\n",
    "            lab = round(x[i].x,4)\t\n",
    "            if x[i].x > 0.999999:\n",
    "                DrawG.add_edge(h, k, color='black', label=lab, fontsize='8')\n",
    "            else:\n",
    "                DrawG.add_edge(h, k, color='red', label=lab, fontsize='8')\n",
    "\n",
    "    DrawG.draw (path=filepath, format='svg')\n",
    "    DrawG.clear()"
   ]
  },
  {
   "cell_type": "code",
   "execution_count": 3,
   "metadata": {},
   "outputs": [],
   "source": [
    "class args:\n",
    "    filename = None\n",
    "    scale = 20"
   ]
  },
  {
   "cell_type": "code",
   "execution_count": 4,
   "metadata": {},
   "outputs": [
    {
     "name": "stdout",
     "output_type": "stream",
     "text": [
      "G has 25 nodes and 600 edges\n"
     ]
    }
   ],
   "source": [
    "# \n",
    "# Read the graph in the graphML format\n",
    "#\n",
    "\n",
    "args.filename = 'atsp29052018R2.gml'\n",
    "\n",
    "basename = os.path.splitext(args.filename)[0]\n",
    "\n",
    "G = nx.read_graphml (args.filename, node_type=int)\n",
    "\n",
    "print (\"G has\", G.number_of_nodes(), \"nodes and\", G.number_of_edges(), \"edges\")\n",
    "\n",
    "D = G.to_directed()"
   ]
  },
  {
   "cell_type": "code",
   "execution_count": 5,
   "metadata": {},
   "outputs": [],
   "source": [
    "root = list(G.nodes())[0]"
   ]
  },
  {
   "cell_type": "code",
   "execution_count": null,
   "metadata": {},
   "outputs": [],
   "source": [
    "DrawInitialGraph()\n",
    "\n",
    "display(SVG(filename=basename+'.svg'))"
   ]
  },
  {
   "cell_type": "code",
   "execution_count": 6,
   "metadata": {},
   "outputs": [],
   "source": [
    "m = 1\n",
    "p = 30"
   ]
  },
  {
   "cell_type": "code",
   "execution_count": 7,
   "metadata": {},
   "outputs": [],
   "source": [
    "mtsp_mtz = gb.Model()\n",
    "\n",
    "x = mtsp_mtz.addVars(G.edges(),\\\n",
    "                 obj=[G[i][j]['dist']\\\n",
    "                      for i,j in G.edges()],\\\n",
    "             vtype=gb.GRB.BINARY, name='x')\n",
    "\n",
    "u = mtsp_mtz.addVars(G.nodes(), obj=0.0, vtype=gb.GRB.CONTINUOUS,\\\n",
    "                     lb=2.0, ub=p, name='u')"
   ]
  },
  {
   "cell_type": "code",
   "execution_count": 8,
   "metadata": {},
   "outputs": [],
   "source": [
    "mtsp_mtz.addConstr(x.sum(root,'*') == m, name = 'OUT-R')\n",
    "mtsp_mtz.addConstr(x.sum('*',root) == m, name = 'IN-R')\n",
    "mtsp_mtz.update()"
   ]
  },
  {
   "cell_type": "code",
   "execution_count": 9,
   "metadata": {},
   "outputs": [],
   "source": [
    "mtsp_mtz.addConstrs((x.sum(i,'*') == 1 \\\n",
    "                 for i in G.nodes() if i != root), name='FS')\n",
    "\n",
    "mtsp_mtz.update()"
   ]
  },
  {
   "cell_type": "code",
   "execution_count": 10,
   "metadata": {},
   "outputs": [],
   "source": [
    "mtsp_mtz.addConstrs((x.sum('*',i) == 1 \\\n",
    "                 for i in G.nodes() if i != root), name='RS')\n",
    "\n",
    "mtsp_mtz.update()"
   ]
  },
  {
   "cell_type": "code",
   "execution_count": 11,
   "metadata": {},
   "outputs": [],
   "source": [
    "mtsp_mtz.addConstrs((x[i,j] + x[j,i] <= 1 \\\n",
    "                 for i,j in G.edges() if j > i \\\n",
    "                     and i != root and j != root ), name='SUB2')\n",
    "\n",
    "mtsp_mtz.update()"
   ]
  },
  {
   "cell_type": "code",
   "execution_count": 12,
   "metadata": {},
   "outputs": [],
   "source": [
    "u[root].lb = 1\n",
    "u[root].ub = 1\n",
    "\n",
    "mtsp_mtz.addConstrs((u[i] - u[j] + p * x[i,j] <= p - 1 \\\n",
    "                     for i in G.nodes() for j in G.nodes()\\\n",
    "                    if i != j and i != root and j != root and G.has_edge(i,j)), name='MTZ')\n",
    "\n",
    "mtsp_mtz.update()\n",
    "mtsp_mtz.write('exercise#2.lp')"
   ]
  },
  {
   "cell_type": "code",
   "execution_count": 13,
   "metadata": {},
   "outputs": [
    {
     "name": "stdout",
     "output_type": "stream",
     "text": [
      "Optimize a model with 878 rows, 625 columns and 3408 nonzeros\n",
      "Variable types: 25 continuous, 600 integer (600 binary)\n",
      "Coefficient statistics:\n",
      "  Matrix range     [1e+00, 3e+01]\n",
      "  Objective range  [5e+02, 6e+03]\n",
      "  Bounds range     [1e+00, 3e+01]\n",
      "  RHS range        [1e+00, 3e+01]\n",
      "Presolve removed 0 rows and 1 columns\n",
      "Presolve time: 0.01s\n",
      "Presolved: 878 rows, 624 columns, 3408 nonzeros\n",
      "Variable types: 24 continuous, 600 integer (600 binary)\n",
      "Found heuristic solution: objective 75418.000000\n",
      "Found heuristic solution: objective 72824.000000\n",
      "\n",
      "Root relaxation: objective 2.776931e+04, 139 iterations, 0.00 seconds\n",
      "\n",
      "    Nodes    |    Current Node    |     Objective Bounds      |     Work\n",
      " Expl Unexpl |  Obj  Depth IntInf | Incumbent    BestBd   Gap | It/Node Time\n",
      "\n",
      "     0     0 27769.3103    0   14 72824.0000 27769.3103  61.9%     -    0s\n",
      "H    0     0                    33105.000000 27769.3103  16.1%     -    0s\n",
      "     0     0 27870.5000    0   14 33105.0000 27870.5000  15.8%     -    0s\n",
      "H    0     0                    29745.000000 27870.5000  6.30%     -    0s\n",
      "     0     0 27870.5000    0   14 29745.0000 27870.5000  6.30%     -    0s\n",
      "     0     0 27979.0000    0   12 29745.0000 27979.0000  5.94%     -    0s\n",
      "     0     0 27979.0000    0   14 29745.0000 27979.0000  5.94%     -    0s\n",
      "     0     0 27979.0000    0   14 29745.0000 27979.0000  5.94%     -    0s\n",
      "     0     0 27979.0000    0   12 29745.0000 27979.0000  5.94%     -    0s\n",
      "     0     0 27979.0000    0   12 29745.0000 27979.0000  5.94%     -    0s\n",
      "     0     0 28010.5833    0   22 29745.0000 28010.5833  5.83%     -    0s\n",
      "H    0     0                    29514.000000 28010.5833  5.09%     -    0s\n",
      "H    0     0                    29417.000000 28010.5833  4.78%     -    0s\n",
      "     0     0 28010.5833    0   22 29417.0000 28010.5833  4.78%     -    0s\n",
      "H    0     0                    29397.000000 28010.5833  4.72%     -    0s\n",
      "     0     0 28025.1667    0   26 29397.0000 28025.1667  4.67%     -    0s\n",
      "H    0     0                    29238.000000 28025.1667  4.15%     -    0s\n",
      "     0     0 28025.1667    0   26 29238.0000 28025.1667  4.15%     -    0s\n",
      "     0     0 28051.5000    0   22 29238.0000 28051.5000  4.06%     -    0s\n",
      "     0     0 28051.5000    0   14 29238.0000 28051.5000  4.06%     -    0s\n",
      "     0     0 28051.5000    0   14 29238.0000 28051.5000  4.06%     -    0s\n",
      "     0     0 28051.5000    0   18 29238.0000 28051.5000  4.06%     -    0s\n",
      "     0     0 28051.5000    0   22 29238.0000 28051.5000  4.06%     -    0s\n",
      "     0     0 28051.5000    0   22 29238.0000 28051.5000  4.06%     -    0s\n",
      "     0     0 28084.8333    0   27 29238.0000 28084.8333  3.94%     -    0s\n",
      "H    0     0                    28381.000000 28084.8333  1.04%     -    0s\n",
      "     0     0 28107.1071    0   25 28381.0000 28107.1071  0.97%     -    0s\n",
      "     0     0 28107.1071    0   11 28381.0000 28107.1071  0.97%     -    0s\n",
      "     0     0 28107.1071    0   14 28381.0000 28107.1071  0.97%     -    1s\n",
      "H    0     0                    28333.000000 28107.1071  0.80%     -    1s\n",
      "     0     0 28113.2857    0   11 28333.0000 28113.2857  0.78%     -    1s\n",
      "     0     0 28127.2491    0   17 28333.0000 28127.2491  0.73%     -    1s\n",
      "     0     0 28155.4029    0   21 28333.0000 28155.4029  0.63%     -    1s\n",
      "     0     0 28155.4029    0   21 28333.0000 28155.4029  0.63%     -    1s\n",
      "     0     0 28160.3556    0   22 28333.0000 28160.3556  0.61%     -    1s\n",
      "     0     0 28177.7143    0   22 28333.0000 28177.7143  0.55%     -    1s\n",
      "     0     0 28215.9286    0   22 28333.0000 28215.9286  0.41%     -    1s\n",
      "     0     0 28301.7619    0   22 28333.0000 28301.7619  0.11%     -    1s\n",
      "     0     0 28301.7619    0   18 28333.0000 28301.7619  0.11%     -    1s\n",
      "     0     0 28301.7619    0   18 28333.0000 28301.7619  0.11%     -    1s\n",
      "     0     0 28301.7619    0   14 28333.0000 28301.7619  0.11%     -    1s\n",
      "     0     0 28301.7619    0   14 28333.0000 28301.7619  0.11%     -    1s\n",
      "     0     0 28301.7619    0   11 28333.0000 28301.7619  0.11%     -    1s\n",
      "     0     0 28301.7619    0   11 28333.0000 28301.7619  0.11%     -    1s\n",
      "\n",
      "Cutting planes:\n",
      "  Gomory: 2\n",
      "  MIR: 5\n",
      "  Zero half: 1\n",
      "\n",
      "Explored 1 nodes (697 simplex iterations) in 1.19 seconds\n",
      "Thread count was 4 (of 4 available processors)\n",
      "\n",
      "Solution count 10: 28333 28381 29238 ... 75418\n",
      "\n",
      "Optimal solution found (tolerance 1.00e-04)\n",
      "Best objective 2.833300000000e+04, best bound 2.833300000000e+04, gap 0.0000%\n"
     ]
    }
   ],
   "source": [
    "mtsp_mtz.optimize()"
   ]
  },
  {
   "cell_type": "code",
   "execution_count": 14,
   "metadata": {},
   "outputs": [
    {
     "data": {
      "text/plain": [
       "28333.0"
      ]
     },
     "execution_count": 14,
     "metadata": {},
     "output_type": "execute_result"
    }
   ],
   "source": [
    "mtsp_mtz.objVal"
   ]
  },
  {
   "cell_type": "code",
   "execution_count": 19,
   "metadata": {},
   "outputs": [
    {
     "data": {
      "text/plain": [
       "5.0"
      ]
     },
     "execution_count": 19,
     "metadata": {},
     "output_type": "execute_result"
    }
   ],
   "source": [
    "sol = {}\n",
    "\n",
    "for i,j in D.edges():\n",
    "    if i in (5,10,15) or j in (5,10,15):\n",
    "        if x[i,j].x > 0:\n",
    "            sol[i,j] = x[i,j].x\n",
    "sum(sol.values())"
   ]
  },
  {
   "cell_type": "code",
   "execution_count": 21,
   "metadata": {},
   "outputs": [
    {
     "data": {
      "text/plain": [
       "22333.0"
      ]
     },
     "execution_count": 21,
     "metadata": {},
     "output_type": "execute_result"
    }
   ],
   "source": [
    "newObjVal = mtsp_mtz.objVal - 1200*sum(sol.values())\n",
    "newObjVal"
   ]
  },
  {
   "cell_type": "code",
   "execution_count": 22,
   "metadata": {},
   "outputs": [],
   "source": [
    "m = 2\n",
    "p = 15"
   ]
  },
  {
   "cell_type": "code",
   "execution_count": 23,
   "metadata": {},
   "outputs": [],
   "source": [
    "mtsp_mtz = gb.Model()\n",
    "\n",
    "x = mtsp_mtz.addVars(G.edges(),\\\n",
    "                 obj=[G[i][j]['dist']\\\n",
    "                      for i,j in G.edges()],\\\n",
    "             vtype=gb.GRB.BINARY, name='x')\n",
    "\n",
    "u = mtsp_mtz.addVars(G.nodes(), obj=0.0, vtype=gb.GRB.CONTINUOUS,\\\n",
    "                     lb=2.0, ub=p, name='u')"
   ]
  },
  {
   "cell_type": "code",
   "execution_count": 24,
   "metadata": {},
   "outputs": [],
   "source": [
    "mtsp_mtz.addConstr(x.sum(root,'*') == m, name = 'OUT-R')\n",
    "mtsp_mtz.addConstr(x.sum('*',root) == m, name = 'IN-R')\n",
    "mtsp_mtz.update()"
   ]
  },
  {
   "cell_type": "code",
   "execution_count": 25,
   "metadata": {},
   "outputs": [],
   "source": [
    "mtsp_mtz.addConstrs((x.sum(i,'*') == 1 \\\n",
    "                 for i in G.nodes() if i != root), name='FS')\n",
    "\n",
    "mtsp_mtz.update()"
   ]
  },
  {
   "cell_type": "code",
   "execution_count": 26,
   "metadata": {},
   "outputs": [],
   "source": [
    "mtsp_mtz.addConstrs((x.sum('*',i) == 1 \\\n",
    "                 for i in G.nodes() if i != root), name='RS')\n",
    "\n",
    "mtsp_mtz.update()"
   ]
  },
  {
   "cell_type": "code",
   "execution_count": 27,
   "metadata": {},
   "outputs": [],
   "source": [
    "mtsp_mtz.addConstrs((x[i,j] + x[j,i] <= 1 \\\n",
    "                 for i,j in G.edges() if j > i \\\n",
    "                     and i != root and j != root ), name='SUB2')\n",
    "\n",
    "mtsp_mtz.update()"
   ]
  },
  {
   "cell_type": "code",
   "execution_count": 29,
   "metadata": {},
   "outputs": [
    {
     "name": "stdout",
     "output_type": "stream",
     "text": [
      "Warning: linear constraint 326 and linear constraint 878 have the same name \"MTZ[2,3]\"\n"
     ]
    }
   ],
   "source": [
    "u[root].lb = 1\n",
    "u[root].ub = 1\n",
    "\n",
    "mtsp_mtz.addConstrs((u[i] - u[j] + p * x[i,j] <= p - 1 \\\n",
    "                     for i in G.nodes() for j in G.nodes()\\\n",
    "                    if i != j and i != root and j != root and G.has_edge(i,j)), name='MTZ')\n",
    "\n",
    "mtsp_mtz.update()\n",
    "mtsp_mtz.write('exercise#2#2.lp')"
   ]
  },
  {
   "cell_type": "code",
   "execution_count": 30,
   "metadata": {},
   "outputs": [
    {
     "name": "stdout",
     "output_type": "stream",
     "text": [
      "Optimize a model with 1430 rows, 625 columns and 5064 nonzeros\n",
      "Variable types: 25 continuous, 600 integer (600 binary)\n",
      "Coefficient statistics:\n",
      "  Matrix range     [1e+00, 2e+01]\n",
      "  Objective range  [5e+02, 6e+03]\n",
      "  Bounds range     [1e+00, 2e+01]\n",
      "  RHS range        [1e+00, 1e+01]\n",
      "Presolve removed 552 rows and 1 columns\n",
      "Presolve time: 0.01s\n",
      "Presolved: 878 rows, 624 columns, 3408 nonzeros\n",
      "Variable types: 24 continuous, 600 integer (600 binary)\n",
      "\n",
      "Root relaxation: objective 2.938121e+04, 136 iterations, 0.00 seconds\n",
      "\n",
      "    Nodes    |    Current Node    |     Objective Bounds      |     Work\n",
      " Expl Unexpl |  Obj  Depth IntInf | Incumbent    BestBd   Gap | It/Node Time\n",
      "\n",
      "     0     0 29381.2143    0   18          - 29381.2143      -     -    0s\n",
      "H    0     0                    40226.000000 29381.2143  27.0%     -    0s\n",
      "H    0     0                    32743.000000 29381.2143  10.3%     -    0s\n",
      "     0     0 29436.0000    0   18 32743.0000 29436.0000  10.1%     -    0s\n",
      "     0     0 29436.0000    0   18 32743.0000 29436.0000  10.1%     -    0s\n",
      "     0     0 29490.0357    0   23 32743.0000 29490.0357  9.93%     -    0s\n",
      "     0     0 29504.2024    0   28 32743.0000 29504.2024  9.89%     -    0s\n",
      "H    0     0                    31955.000000 29504.2024  7.67%     -    0s\n",
      "     0     0 29521.3690    0   28 31955.0000 29521.3690  7.62%     -    0s\n",
      "     0     0 29521.3690    0   28 31955.0000 29521.3690  7.62%     -    0s\n",
      "     0     0 29531.0357    0   28 31955.0000 29531.0357  7.59%     -    0s\n",
      "     0     0 29531.0357    0   18 31955.0000 29531.0357  7.59%     -    0s\n",
      "     0     0 29531.0357    0   23 31955.0000 29531.0357  7.59%     -    0s\n",
      "     0     0 29531.4906    0   28 31955.0000 29531.4906  7.58%     -    0s\n",
      "     0     0 29531.4906    0   28 31955.0000 29531.4906  7.58%     -    0s\n",
      "     0     0 29531.4906    0   28 31955.0000 29531.4906  7.58%     -    0s\n",
      "     0     0 29560.5000    0   28 31955.0000 29560.5000  7.49%     -    0s\n",
      "     0     0 29568.3866    0   28 31955.0000 29568.3866  7.47%     -    0s\n",
      "H    0     0                    31884.000000 29568.3866  7.26%     -    0s\n",
      "     0     0 29573.6667    0   27 31884.0000 29573.6667  7.25%     -    0s\n",
      "     0     0 29605.5926    0   25 31884.0000 29605.5926  7.15%     -    0s\n",
      "H    0     0                    31704.000000 29605.5926  6.62%     -    0s\n",
      "     0     0 29609.7750    0   26 31704.0000 29609.7750  6.61%     -    0s\n",
      "     0     0 29609.7750    0   26 31704.0000 29609.7750  6.61%     -    0s\n",
      "     0     0 29622.0000    0   26 31704.0000 29622.0000  6.57%     -    0s\n",
      "     0     0 29624.1581    0   26 31704.0000 29624.1581  6.56%     -    0s\n",
      "     0     2 29624.1581    0   26 31704.0000 29624.1581  6.56%     -    0s\n",
      "H   80    67                    31175.000000 29799.4444  4.41%   7.8    0s\n",
      "* 1526   517              20    31099.000000 30210.8571  2.86%   6.3    0s\n",
      "* 2041   587              20    31061.000000 30302.4545  2.44%   6.3    1s\n",
      "* 2042   568              19    31013.000000 30302.4545  2.29%   6.3    1s\n",
      "\n",
      "Cutting planes:\n",
      "  Cover: 9\n",
      "  Implied bound: 32\n",
      "  MIR: 17\n",
      "  Inf proof: 5\n",
      "\n",
      "Explored 3741 nodes (26133 simplex iterations) in 1.50 seconds\n",
      "Thread count was 4 (of 4 available processors)\n",
      "\n",
      "Solution count 9: 31013 31061 31099 ... 40226\n",
      "\n",
      "Optimal solution found (tolerance 1.00e-04)\n",
      "Best objective 3.101300000000e+04, best bound 3.101300000000e+04, gap 0.0000%\n"
     ]
    }
   ],
   "source": [
    "mtsp_mtz.optimize()"
   ]
  },
  {
   "cell_type": "code",
   "execution_count": 31,
   "metadata": {},
   "outputs": [
    {
     "data": {
      "text/plain": [
       "31013.0"
      ]
     },
     "execution_count": 31,
     "metadata": {},
     "output_type": "execute_result"
    }
   ],
   "source": [
    "mtsp_mtz.objVal"
   ]
  },
  {
   "cell_type": "code",
   "execution_count": 32,
   "metadata": {},
   "outputs": [
    {
     "data": {
      "text/plain": [
       "5.0"
      ]
     },
     "execution_count": 32,
     "metadata": {},
     "output_type": "execute_result"
    }
   ],
   "source": [
    "sol = {}\n",
    "\n",
    "for i,j in D.edges():\n",
    "    if i in (5,10,15) or j in (5,10,15):\n",
    "        if x[i,j].x > 0:\n",
    "            sol[i,j] = x[i,j].x\n",
    "sum(sol.values())"
   ]
  },
  {
   "cell_type": "code",
   "execution_count": 33,
   "metadata": {},
   "outputs": [
    {
     "data": {
      "text/plain": [
       "25013.0"
      ]
     },
     "execution_count": 33,
     "metadata": {},
     "output_type": "execute_result"
    }
   ],
   "source": [
    "newObjVal = mtsp_mtz.objVal - 1200*sum(sol.values())\n",
    "newObjVal"
   ]
  },
  {
   "cell_type": "code",
   "execution_count": 34,
   "metadata": {},
   "outputs": [],
   "source": [
    "m = 3\n",
    "p = 10"
   ]
  },
  {
   "cell_type": "code",
   "execution_count": 35,
   "metadata": {},
   "outputs": [
    {
     "name": "stdout",
     "output_type": "stream",
     "text": [
      "Optimize a model with 878 rows, 625 columns and 3408 nonzeros\n",
      "Variable types: 25 continuous, 600 integer (600 binary)\n",
      "Coefficient statistics:\n",
      "  Matrix range     [1e+00, 1e+01]\n",
      "  Objective range  [5e+02, 6e+03]\n",
      "  Bounds range     [1e+00, 1e+01]\n",
      "  RHS range        [1e+00, 9e+00]\n",
      "Presolve removed 0 rows and 1 columns\n",
      "Presolve time: 0.01s\n",
      "Presolved: 878 rows, 624 columns, 3408 nonzeros\n",
      "Variable types: 24 continuous, 600 integer (600 binary)\n",
      "\n",
      "Root relaxation: objective 3.105877e+04, 130 iterations, 0.00 seconds\n",
      "\n",
      "    Nodes    |    Current Node    |     Objective Bounds      |     Work\n",
      " Expl Unexpl |  Obj  Depth IntInf | Incumbent    BestBd   Gap | It/Node Time\n",
      "\n",
      "     0     0 31058.7654    0   33          - 31058.7654      -     -    0s\n",
      "H    0     0                    61253.000000 31058.7654  49.3%     -    0s\n",
      "H    0     0                    39496.000000 31058.7654  21.4%     -    0s\n",
      "     0     0 31131.8715    0   43 39496.0000 31131.8715  21.2%     -    0s\n",
      "H    0     0                    36604.000000 31131.8715  14.9%     -    0s\n",
      "     0     0 31155.4271    0   43 36604.0000 31155.4271  14.9%     -    0s\n",
      "     0     0 31155.4271    0   43 36604.0000 31155.4271  14.9%     -    0s\n",
      "     0     0 31287.1500    0   32 36604.0000 31287.1500  14.5%     -    0s\n",
      "     0     0 31309.9148    0   30 36604.0000 31309.9148  14.5%     -    0s\n",
      "     0     0 31309.9148    0   30 36604.0000 31309.9148  14.5%     -    0s\n",
      "     0     0 31324.8779    0   44 36604.0000 31324.8779  14.4%     -    0s\n",
      "     0     0 31334.3190    0   39 36604.0000 31334.3190  14.4%     -    0s\n",
      "     0     0 31334.3190    0   39 36604.0000 31334.3190  14.4%     -    0s\n",
      "     0     0 31336.8174    0   40 36604.0000 31336.8174  14.4%     -    0s\n",
      "     0     0 31336.8174    0   40 36604.0000 31336.8174  14.4%     -    0s\n",
      "     0     0 31336.8678    0   40 36604.0000 31336.8678  14.4%     -    0s\n",
      "     0     0 31336.8678    0   40 36604.0000 31336.8678  14.4%     -    0s\n",
      "H    0     0                    35916.000000 31336.8678  12.7%     -    0s\n",
      "     0     2 31336.8678    0   40 35916.0000 31336.8678  12.7%     -    0s\n",
      "H   31    30                    34552.000000 31473.5976  8.91%  11.9    0s\n",
      "*  535   349              54    34078.000000 31668.7756  7.07%   7.4    0s\n",
      "H  550   344                    33918.000000 31668.7756  6.63%   7.5    0s\n",
      "H 1117   635                    33804.000000 31856.0370  5.76%   7.3    1s\n",
      "H 1118   604                    33715.000000 31856.0370  5.51%   7.3    1s\n",
      "H 1121   575                    33535.000000 31856.0370  5.01%   7.2    1s\n",
      "H 1133   554                    33234.000000 31856.0370  4.15%   7.6    1s\n",
      "H 1327   577                    33186.000000 31867.0996  3.97%   9.0    2s\n",
      "\n",
      "Cutting planes:\n",
      "  Gomory: 10\n",
      "  Implied bound: 2\n",
      "  MIR: 2\n",
      "  Flow cover: 14\n",
      "  Inf proof: 3\n",
      "  Zero half: 8\n",
      "  Mod-K: 1\n",
      "\n",
      "Explored 2828 nodes (31742 simplex iterations) in 3.27 seconds\n",
      "Thread count was 4 (of 4 available processors)\n",
      "\n",
      "Solution count 10: 33186 33234 33535 ... 36604\n",
      "\n",
      "Optimal solution found (tolerance 1.00e-04)\n",
      "Best objective 3.318600000000e+04, best bound 3.318600000000e+04, gap 0.0000%\n"
     ]
    }
   ],
   "source": [
    "mtsp_mtz = gb.Model()\n",
    "\n",
    "x = mtsp_mtz.addVars(G.edges(),\\\n",
    "                 obj=[G[i][j]['dist']\\\n",
    "                      for i,j in G.edges()],\\\n",
    "             vtype=gb.GRB.BINARY, name='x')\n",
    "\n",
    "u = mtsp_mtz.addVars(G.nodes(), obj=0.0, vtype=gb.GRB.CONTINUOUS,\\\n",
    "                     lb=2.0, ub=p, name='u')\n",
    "\n",
    "mtsp_mtz.addConstr(x.sum(root,'*') == m, name = 'OUT-R')\n",
    "mtsp_mtz.addConstr(x.sum('*',root) == m, name = 'IN-R')\n",
    "mtsp_mtz.update()\n",
    "\n",
    "mtsp_mtz.addConstrs((x.sum(i,'*') == 1 \\\n",
    "                 for i in G.nodes() if i != root), name='FS')\n",
    "\n",
    "mtsp_mtz.update()\n",
    "\n",
    "mtsp_mtz.addConstrs((x.sum('*',i) == 1 \\\n",
    "                 for i in G.nodes() if i != root), name='RS')\n",
    "\n",
    "mtsp_mtz.update()\n",
    "\n",
    "mtsp_mtz.addConstrs((x[i,j] + x[j,i] <= 1 \\\n",
    "                 for i,j in G.edges() if j > i \\\n",
    "                     and i != root and j != root ), name='SUB2')\n",
    "\n",
    "mtsp_mtz.update()\n",
    "\n",
    "u[root].lb = 1\n",
    "u[root].ub = 1\n",
    "\n",
    "mtsp_mtz.addConstrs((u[i] - u[j] + p * x[i,j] <= p - 1 \\\n",
    "                     for i in G.nodes() for j in G.nodes()\\\n",
    "                    if i != j and i != root and j != root and G.has_edge(i,j)), name='MTZ')\n",
    "\n",
    "mtsp_mtz.update()\n",
    "mtsp_mtz.write('exercise#2#3.lp')\n",
    "\n",
    "mtsp_mtz.optimize()"
   ]
  },
  {
   "cell_type": "code",
   "execution_count": 36,
   "metadata": {},
   "outputs": [
    {
     "data": {
      "text/plain": [
       "33186.0"
      ]
     },
     "execution_count": 36,
     "metadata": {},
     "output_type": "execute_result"
    }
   ],
   "source": [
    "mtsp_mtz.objVal"
   ]
  },
  {
   "cell_type": "code",
   "execution_count": 37,
   "metadata": {},
   "outputs": [
    {
     "data": {
      "text/plain": [
       "5.0"
      ]
     },
     "execution_count": 37,
     "metadata": {},
     "output_type": "execute_result"
    }
   ],
   "source": [
    "sol = {}\n",
    "\n",
    "for i,j in D.edges():\n",
    "    if i in (5,10,15) or j in (5,10,15):\n",
    "        if x[i,j].x > 0:\n",
    "            sol[i,j] = x[i,j].x\n",
    "sum(sol.values())"
   ]
  },
  {
   "cell_type": "code",
   "execution_count": 38,
   "metadata": {},
   "outputs": [
    {
     "data": {
      "text/plain": [
       "27186.0"
      ]
     },
     "execution_count": 38,
     "metadata": {},
     "output_type": "execute_result"
    }
   ],
   "source": [
    "newObjVal = mtsp_mtz.objVal - 1200*sum(sol.values())\n",
    "newObjVal"
   ]
  },
  {
   "cell_type": "code",
   "execution_count": null,
   "metadata": {},
   "outputs": [],
   "source": []
  }
 ],
 "metadata": {
  "kernelspec": {
   "display_name": "Python 3",
   "language": "python",
   "name": "python3"
  },
  "language_info": {
   "codemirror_mode": {
    "name": "ipython",
    "version": 3
   },
   "file_extension": ".py",
   "mimetype": "text/x-python",
   "name": "python",
   "nbconvert_exporter": "python",
   "pygments_lexer": "ipython3",
   "version": "3.6.0"
  }
 },
 "nbformat": 4,
 "nbformat_minor": 2
}
