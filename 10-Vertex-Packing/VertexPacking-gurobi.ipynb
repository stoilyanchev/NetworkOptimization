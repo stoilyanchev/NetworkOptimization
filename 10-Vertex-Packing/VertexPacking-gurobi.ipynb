{
 "cells": [
  {
   "cell_type": "code",
   "execution_count": 2,
   "metadata": {},
   "outputs": [],
   "source": [
    "import networkx as nx\n",
    "import gurobipy as gb\n",
    "from IPython.display import SVG\n"
   ]
  },
  {
   "cell_type": "code",
   "execution_count": 6,
   "metadata": {},
   "outputs": [
    {
     "name": "stdout",
     "output_type": "stream",
     "text": [
      "20\n",
      "35\n",
      "0.18421052631578946\n",
      "[(0, 2), (1, 4), (2, 5), (3, 6), (4, 2), (5, 4), (6, 7), (7, 1), (8, 2), (9, 5), (10, 6), (11, 1), (12, 4), (13, 5), (14, 3), (15, 4), (16, 3), (17, 1), (18, 1), (19, 4)]\n"
     ]
    }
   ],
   "source": [
    "G = nx.gnp_random_graph(20,0.2, seed=10)\n",
    "\n",
    "print(G.number_of_nodes())\n",
    "print(G.number_of_edges())\n",
    "print(nx.density(G))\n",
    "\n",
    "print(G.degree())\n"
   ]
  },
  {
   "cell_type": "code",
   "execution_count": 7,
   "metadata": {},
   "outputs": [],
   "source": [
    "%matplotlib inline"
   ]
  },
  {
   "cell_type": "code",
   "execution_count": 8,
   "metadata": {},
   "outputs": [
    {
     "data": {
      "image/png": "[encoded data removed]",
      "text/plain": [
       "<Figure size 432x288 with 1 Axes>"
      ]
     },
     "metadata": {},
     "output_type": "display_data"
    }
   ],
   "source": [
    "nx.draw_spring(G)"
   ]
  },
  {
   "cell_type": "code",
   "execution_count": 9,
   "metadata": {
    "scrolled": false
   },
   "outputs": [
    {
     "ename": "ImportError",
     "evalue": "('requires pygraphviz ', 'http://pygraphviz.github.io/')",
     "output_type": "error",
     "traceback": [
      "\u001b[1;31m---------------------------------------------------------------------------\u001b[0m",
      "\u001b[1;31mImportError\u001b[0m                               Traceback (most recent call last)",
      "\u001b[1;32mE:\\Programs\\Anaconda3\\envs\\no2018\\lib\\site-packages\\networkx\\drawing\\nx_agraph.py\u001b[0m in \u001b[0;36mto_agraph\u001b[1;34m(N)\u001b[0m\n\u001b[0;32m    134\u001b[0m     \u001b[1;32mtry\u001b[0m\u001b[1;33m:\u001b[0m\u001b[1;33m\u001b[0m\u001b[0m\n\u001b[1;32m--> 135\u001b[1;33m         \u001b[1;32mimport\u001b[0m \u001b[0mpygraphviz\u001b[0m\u001b[1;33m\u001b[0m\u001b[0m\n\u001b[0m\u001b[0;32m    136\u001b[0m     \u001b[1;32mexcept\u001b[0m \u001b[0mImportError\u001b[0m\u001b[1;33m:\u001b[0m\u001b[1;33m\u001b[0m\u001b[0m\n",
      "\u001b[1;32mE:\\Programs\\Anaconda3\\envs\\no2018\\lib\\site-packages\\pygraphviz\\__init__.py\u001b[0m in \u001b[0;36m<module>\u001b[1;34m()\u001b[0m\n\u001b[0;32m     57\u001b[0m \u001b[1;33m\u001b[0m\u001b[0m\n\u001b[1;32m---> 58\u001b[1;33m \u001b[1;32mfrom\u001b[0m \u001b[1;33m.\u001b[0m\u001b[0magraph\u001b[0m \u001b[1;32mimport\u001b[0m \u001b[0mAGraph\u001b[0m\u001b[1;33m,\u001b[0m \u001b[0mNode\u001b[0m\u001b[1;33m,\u001b[0m \u001b[0mEdge\u001b[0m\u001b[1;33m,\u001b[0m \u001b[0mAttribute\u001b[0m\u001b[1;33m,\u001b[0m \u001b[0mItemAttribute\u001b[0m\u001b[1;33m,\u001b[0m \u001b[0mDotError\u001b[0m\u001b[1;33m\u001b[0m\u001b[0m\n\u001b[0m\u001b[0;32m     59\u001b[0m \u001b[1;33m\u001b[0m\u001b[0m\n",
      "\u001b[1;32mE:\\Programs\\Anaconda3\\envs\\no2018\\lib\\site-packages\\pygraphviz\\agraph.py\u001b[0m in \u001b[0;36m<module>\u001b[1;34m()\u001b[0m\n\u001b[0;32m     21\u001b[0m \u001b[1;33m\u001b[0m\u001b[0m\n\u001b[1;32m---> 22\u001b[1;33m \u001b[1;32mfrom\u001b[0m \u001b[1;33m.\u001b[0m \u001b[1;32mimport\u001b[0m \u001b[0mgraphviz\u001b[0m \u001b[1;32mas\u001b[0m \u001b[0mgv\u001b[0m\u001b[1;33m\u001b[0m\u001b[0m\n\u001b[0m\u001b[0;32m     23\u001b[0m \u001b[1;33m\u001b[0m\u001b[0m\n",
      "\u001b[1;32mE:\\Programs\\Anaconda3\\envs\\no2018\\lib\\site-packages\\pygraphviz\\graphviz.py\u001b[0m in \u001b[0;36m<module>\u001b[1;34m()\u001b[0m\n\u001b[0;32m     27\u001b[0m             \u001b[1;32mreturn\u001b[0m \u001b[0m_mod\u001b[0m\u001b[1;33m\u001b[0m\u001b[0m\n\u001b[1;32m---> 28\u001b[1;33m     \u001b[0m_graphviz\u001b[0m \u001b[1;33m=\u001b[0m \u001b[0mswig_import_helper\u001b[0m\u001b[1;33m(\u001b[0m\u001b[1;33m)\u001b[0m\u001b[1;33m\u001b[0m\u001b[0m\n\u001b[0m\u001b[0;32m     29\u001b[0m     \u001b[1;32mdel\u001b[0m \u001b[0mswig_import_helper\u001b[0m\u001b[1;33m\u001b[0m\u001b[0m\n",
      "\u001b[1;32mE:\\Programs\\Anaconda3\\envs\\no2018\\lib\\site-packages\\pygraphviz\\graphviz.py\u001b[0m in \u001b[0;36mswig_import_helper\u001b[1;34m()\u001b[0m\n\u001b[0;32m     23\u001b[0m             \u001b[1;32mtry\u001b[0m\u001b[1;33m:\u001b[0m\u001b[1;33m\u001b[0m\u001b[0m\n\u001b[1;32m---> 24\u001b[1;33m                 \u001b[0m_mod\u001b[0m \u001b[1;33m=\u001b[0m \u001b[0mimp\u001b[0m\u001b[1;33m.\u001b[0m\u001b[0mload_module\u001b[0m\u001b[1;33m(\u001b[0m\u001b[1;34m'_graphviz'\u001b[0m\u001b[1;33m,\u001b[0m \u001b[0mfp\u001b[0m\u001b[1;33m,\u001b[0m \u001b[0mpathname\u001b[0m\u001b[1;33m,\u001b[0m \u001b[0mdescription\u001b[0m\u001b[1;33m)\u001b[0m\u001b[1;33m\u001b[0m\u001b[0m\n\u001b[0m\u001b[0;32m     25\u001b[0m             \u001b[1;32mfinally\u001b[0m\u001b[1;33m:\u001b[0m\u001b[1;33m\u001b[0m\u001b[0m\n",
      "\u001b[1;32mE:\\Programs\\Anaconda3\\envs\\no2018\\lib\\imp.py\u001b[0m in \u001b[0;36mload_module\u001b[1;34m(name, file, filename, details)\u001b[0m\n\u001b[0;32m    241\u001b[0m         \u001b[1;32melse\u001b[0m\u001b[1;33m:\u001b[0m\u001b[1;33m\u001b[0m\u001b[0m\n\u001b[1;32m--> 242\u001b[1;33m             \u001b[1;32mreturn\u001b[0m \u001b[0mload_dynamic\u001b[0m\u001b[1;33m(\u001b[0m\u001b[0mname\u001b[0m\u001b[1;33m,\u001b[0m \u001b[0mfilename\u001b[0m\u001b[1;33m,\u001b[0m \u001b[0mfile\u001b[0m\u001b[1;33m)\u001b[0m\u001b[1;33m\u001b[0m\u001b[0m\n\u001b[0m\u001b[0;32m    243\u001b[0m     \u001b[1;32melif\u001b[0m \u001b[0mtype_\u001b[0m \u001b[1;33m==\u001b[0m \u001b[0mPKG_DIRECTORY\u001b[0m\u001b[1;33m:\u001b[0m\u001b[1;33m\u001b[0m\u001b[0m\n",
      "\u001b[1;32mE:\\Programs\\Anaconda3\\envs\\no2018\\lib\\imp.py\u001b[0m in \u001b[0;36mload_dynamic\u001b[1;34m(name, path, file)\u001b[0m\n\u001b[0;32m    341\u001b[0m             name=name, loader=loader, origin=path)\n\u001b[1;32m--> 342\u001b[1;33m         \u001b[1;32mreturn\u001b[0m \u001b[0m_load\u001b[0m\u001b[1;33m(\u001b[0m\u001b[0mspec\u001b[0m\u001b[1;33m)\u001b[0m\u001b[1;33m\u001b[0m\u001b[0m\n\u001b[0m\u001b[0;32m    343\u001b[0m \u001b[1;33m\u001b[0m\u001b[0m\n",
      "\u001b[1;31mImportError\u001b[0m: DLL load failed: The specified module could not be found.",
      "\nDuring handling of the above exception, another exception occurred:\n",
      "\u001b[1;31mImportError\u001b[0m                               Traceback (most recent call last)",
      "\u001b[1;32m<ipython-input-9-0c37b141d5a3>\u001b[0m in \u001b[0;36m<module>\u001b[1;34m()\u001b[0m\n\u001b[0;32m      1\u001b[0m \u001b[1;33m\u001b[0m\u001b[0m\n\u001b[1;32m----> 2\u001b[1;33m \u001b[0mD\u001b[0m \u001b[1;33m=\u001b[0m \u001b[0mnx\u001b[0m\u001b[1;33m.\u001b[0m\u001b[0mnx_agraph\u001b[0m\u001b[1;33m.\u001b[0m\u001b[0mto_agraph\u001b[0m\u001b[1;33m(\u001b[0m\u001b[0mG\u001b[0m\u001b[1;33m)\u001b[0m\u001b[1;33m\u001b[0m\u001b[0m\n\u001b[0m\u001b[0;32m      3\u001b[0m \u001b[0mD\u001b[0m\u001b[1;33m.\u001b[0m\u001b[0mnode_attr\u001b[0m\u001b[1;33m.\u001b[0m\u001b[0mupdate\u001b[0m \u001b[1;33m(\u001b[0m\u001b[0mfontsize\u001b[0m\u001b[1;33m=\u001b[0m\u001b[1;34m'8'\u001b[0m\u001b[1;33m,\u001b[0m  \u001b[0mwidth\u001b[0m\u001b[1;33m=\u001b[0m\u001b[1;36m0.1\u001b[0m\u001b[1;33m,\u001b[0m \u001b[0mshape\u001b[0m\u001b[1;33m=\u001b[0m\u001b[1;34m'circle'\u001b[0m\u001b[1;33m)\u001b[0m\u001b[1;33m\u001b[0m\u001b[0m\n\u001b[0;32m      4\u001b[0m \u001b[1;33m\u001b[0m\u001b[0m\n\u001b[0;32m      5\u001b[0m \u001b[1;31m#d.edge_attr.update(fontsize='10', arrowhead='vee', penwidth=0.2)\u001b[0m\u001b[1;33m\u001b[0m\u001b[1;33m\u001b[0m\u001b[0m\n",
      "\u001b[1;32mE:\\Programs\\Anaconda3\\envs\\no2018\\lib\\site-packages\\networkx\\drawing\\nx_agraph.py\u001b[0m in \u001b[0;36mto_agraph\u001b[1;34m(N)\u001b[0m\n\u001b[0;32m    136\u001b[0m     \u001b[1;32mexcept\u001b[0m \u001b[0mImportError\u001b[0m\u001b[1;33m:\u001b[0m\u001b[1;33m\u001b[0m\u001b[0m\n\u001b[0;32m    137\u001b[0m         raise ImportError('requires pygraphviz ',\n\u001b[1;32m--> 138\u001b[1;33m                           'http://pygraphviz.github.io/')\n\u001b[0m\u001b[0;32m    139\u001b[0m     \u001b[0mdirected\u001b[0m \u001b[1;33m=\u001b[0m \u001b[0mN\u001b[0m\u001b[1;33m.\u001b[0m\u001b[0mis_directed\u001b[0m\u001b[1;33m(\u001b[0m\u001b[1;33m)\u001b[0m\u001b[1;33m\u001b[0m\u001b[0m\n\u001b[0;32m    140\u001b[0m     \u001b[0mstrict\u001b[0m \u001b[1;33m=\u001b[0m \u001b[0mnx\u001b[0m\u001b[1;33m.\u001b[0m\u001b[0mnumber_of_selfloops\u001b[0m\u001b[1;33m(\u001b[0m\u001b[0mN\u001b[0m\u001b[1;33m)\u001b[0m \u001b[1;33m==\u001b[0m \u001b[1;36m0\u001b[0m \u001b[1;32mand\u001b[0m \u001b[1;32mnot\u001b[0m \u001b[0mN\u001b[0m\u001b[1;33m.\u001b[0m\u001b[0mis_multigraph\u001b[0m\u001b[1;33m(\u001b[0m\u001b[1;33m)\u001b[0m\u001b[1;33m\u001b[0m\u001b[0m\n",
      "\u001b[1;31mImportError\u001b[0m: ('requires pygraphviz ', 'http://pygraphviz.github.io/')"
     ]
    }
   ],
   "source": [
    "\n",
    "D = nx.nx_agraph.to_agraph(G)\n",
    "D.node_attr.update (fontsize='8',  width=0.1, shape='circle')\n",
    "\n",
    "#d.edge_attr.update(fontsize='10', arrowhead='vee', penwidth=0.2)\n",
    "D.graph_attr.update(overlap='scale', sep='0.01')\n",
    "\n",
    "#D.graph_attr.update(overlap='false', sep='3')\n",
    "\n",
    "D.layout('neato')\n",
    "\n",
    "D.draw('img.svg')\n",
    "SVG('img.svg')"
   ]
  },
  {
   "cell_type": "code",
   "execution_count": 11,
   "metadata": {},
   "outputs": [
    {
     "ename": "NameError",
     "evalue": "name 'x' is not defined",
     "output_type": "error",
     "traceback": [
      "\u001b[1;31m---------------------------------------------------------------------------\u001b[0m",
      "\u001b[1;31mNameError\u001b[0m                                 Traceback (most recent call last)",
      "\u001b[1;32m<ipython-input-11-aa735c0109a3>\u001b[0m in \u001b[0;36m<module>\u001b[1;34m()\u001b[0m\n\u001b[0;32m      1\u001b[0m \u001b[0mG\u001b[0m\u001b[1;33m.\u001b[0m\u001b[0mnumber_of_nodes\u001b[0m\u001b[1;33m(\u001b[0m\u001b[1;33m)\u001b[0m\u001b[1;33m\u001b[0m\u001b[0m\n\u001b[1;32m----> 2\u001b[1;33m \u001b[0mx\u001b[0m\u001b[1;33m\u001b[0m\u001b[0m\n\u001b[0m",
      "\u001b[1;31mNameError\u001b[0m: name 'x' is not defined"
     ]
    }
   ],
   "source": [
    "G.number_of_nodes()\n"
   ]
  },
  {
   "cell_type": "code",
   "execution_count": 14,
   "metadata": {},
   "outputs": [],
   "source": [
    "stableset = gb.Model()\n",
    "x = stableset.addVars(G.number_of_nodes(), vtype=gb.GRB.BINARY, name='x')\n",
    "stableset.setObjective(x.sum(),sense=gb.GRB.MAXIMIZE)\n"
   ]
  },
  {
   "cell_type": "code",
   "execution_count": 19,
   "metadata": {},
   "outputs": [
    {
     "data": {
      "text/plain": [
       "<gurobi.Var x[0]>"
      ]
     },
     "execution_count": 19,
     "metadata": {},
     "output_type": "execute_result"
    }
   ],
   "source": [
    "x[0]"
   ]
  },
  {
   "cell_type": "code",
   "execution_count": 20,
   "metadata": {
    "scrolled": false
   },
   "outputs": [],
   "source": [
    "stableset.addConstrs((x[i] + x[j] <= 1 for i,j in G.edges()), name='edge')\n",
    "stableset.update()\n",
    "\n",
    "for i in x:\n",
    "    x[i].BranchPriority = G.degree(i)\n",
    "    print x[i].Br\n",
    "\n",
    "stableset.write('stableset.lp')\n",
    "\n",
    "#stableset.Params.MIPFocus = 0\n",
    "#stableset.Params.BranchDir = 1\n",
    "#stableset.Params.VarBranch = 3\n",
    "\n",
    "#stableset.Params.Heuristics = 0"
   ]
  },
  {
   "cell_type": "code",
   "execution_count": 19,
   "metadata": {
    "scrolled": false
   },
   "outputs": [
    {
     "name": "stdout",
     "output_type": "stream",
     "text": [
      "Optimize a model with 35 rows, 20 columns and 70 nonzeros\n",
      "Variable types: 0 continuous, 20 integer (20 binary)\n",
      "Coefficient statistics:\n",
      "  Matrix range     [1e+00, 1e+00]\n",
      "  Objective range  [1e+00, 1e+00]\n",
      "  Bounds range     [1e+00, 1e+00]\n",
      "  RHS range        [1e+00, 1e+00]\n",
      "Found heuristic solution: objective 7.0000000\n",
      "Presolve removed 22 rows and 8 columns\n",
      "Presolve time: 0.00s\n",
      "Presolved: 13 rows, 12 columns, 31 nonzeros\n",
      "Variable types: 0 continuous, 12 integer (12 binary)\n",
      "\n",
      "Root relaxation: objective 9.500000e+00, 7 iterations, 0.00 seconds\n",
      "\n",
      "    Nodes    |    Current Node    |     Objective Bounds      |     Work\n",
      " Expl Unexpl |  Obj  Depth IntInf | Incumbent    BestBd   Gap | It/Node Time\n",
      "\n",
      "     0     0    9.50000    0    5    7.00000    9.50000  35.7%     -    0s\n",
      "H    0     0                       9.0000000    9.50000  5.56%     -    0s\n",
      "\n",
      "Explored 1 nodes (7 simplex iterations) in 0.03 seconds\n",
      "Thread count was 4 (of 4 available processors)\n",
      "\n",
      "Solution count 2: 9 7 \n",
      "\n",
      "Optimal solution found (tolerance 1.00e-04)\n",
      "Best objective 9.000000000000e+00, best bound 9.000000000000e+00, gap 0.0000%\n"
     ]
    }
   ],
   "source": [
    "stableset.optimize()"
   ]
  },
  {
   "cell_type": "code",
   "execution_count": 20,
   "metadata": {},
   "outputs": [
    {
     "name": "stdout",
     "output_type": "stream",
     "text": [
      "Obj: 9\n",
      "\n"
     ]
    }
   ],
   "source": [
    "print('Obj: %g' % stableset.objVal)\n",
    "\n",
    "print ()\n",
    "\n",
    "for i in G.nodes():\n",
    "    if (x[i].x > 1e-6):\n",
    "        n = D.get_node(i)\n",
    "        n.attr['color'] = 'red'\n",
    "        n.attr['style'] = 'filled'\n",
    "        n.attr['fontcolor'] = 'white'\n",
    "        \n",
    "\n",
    "D.draw('img.svg')"
   ]
  },
  {
   "cell_type": "code",
   "execution_count": 21,
   "metadata": {},
   "outputs": [
    {
     "data": {
      "image/svg+xml": [
       "<svg height=\"462pt\" viewBox=\"0.00 0.00 496.85 462.28\" width=\"497pt\" xmlns=\"http://www.w3.org/2000/svg\" xmlns:xlink=\"http://www.w3.org/1999/xlink\">\n",
       "<g class=\"graph\" id=\"graph0\" transform=\"scale(1 1) rotate(0) translate(281.8 251.89)\">\n",
       "<title>%3</title>\n",
       "<polygon fill=\"white\" points=\"-281.8,210.39 -281.8,-251.89 215.05,-251.89 215.05,210.39 -281.8,210.39\" stroke=\"none\"/>\n",
       "<!-- 0 -->\n",
       "<g class=\"node\" id=\"node1\"><title>0</title>\n",
       "<ellipse cx=\"180.08\" cy=\"138.03\" fill=\"none\" rx=\"14\" ry=\"14\" stroke=\"black\"/>\n",
       "<text font-family=\"Times,serif\" font-size=\"8.00\" text-anchor=\"middle\" x=\"180.08\" y=\"140.43\">0</text>\n",
       "</g>\n",
       "<!-- 8 -->\n",
       "<g class=\"node\" id=\"node2\"><title>8</title>\n",
       "<ellipse cx=\"95.144\" cy=\"192.39\" fill=\"red\" rx=\"14\" ry=\"14\" stroke=\"red\"/>\n",
       "<text fill=\"white\" font-family=\"Times,serif\" font-size=\"8.00\" text-anchor=\"middle\" x=\"95.144\" y=\"194.79\">8</text>\n",
       "</g>\n",
       "<!-- 0&#45;&#45;8 -->\n",
       "<g class=\"edge\" id=\"edge1\"><title>0--8</title>\n",
       "<path d=\"M167.91,145.82C151.76,156.15 123.43,174.29 107.29,184.62\" fill=\"none\" stroke=\"black\"/>\n",
       "</g>\n",
       "<!-- 14 -->\n",
       "<g class=\"node\" id=\"node3\"><title>14</title>\n",
       "<ellipse cx=\"126.18\" cy=\"48.189\" fill=\"red\" rx=\"17\" ry=\"17\" stroke=\"red\"/>\n",
       "<text fill=\"white\" font-family=\"Times,serif\" font-size=\"8.00\" text-anchor=\"middle\" x=\"126.18\" y=\"50.589\">14</text>\n",
       "</g>\n",
       "<!-- 0&#45;&#45;14 -->\n",
       "<g class=\"edge\" id=\"edge2\"><title>0--14</title>\n",
       "<path d=\"M172.58,125.53C162.75,109.14 145.51,80.413 135.04,62.961\" fill=\"none\" stroke=\"black\"/>\n",
       "</g>\n",
       "<!-- 19 -->\n",
       "<g class=\"node\" id=\"node4\"><title>19</title>\n",
       "<ellipse cx=\"21.349\" cy=\"115.34\" fill=\"none\" rx=\"17\" ry=\"17\" stroke=\"black\"/>\n",
       "<text font-family=\"Times,serif\" font-size=\"8.00\" text-anchor=\"middle\" x=\"21.349\" y=\"117.74\">19</text>\n",
       "</g>\n",
       "<!-- 8&#45;&#45;19 -->\n",
       "<g class=\"edge\" id=\"edge3\"><title>8--19</title>\n",
       "<path d=\"M85.192,182C71.659,167.87 47.491,142.64 33.088,127.6\" fill=\"none\" stroke=\"black\"/>\n",
       "</g>\n",
       "<!-- 1 -->\n",
       "<g class=\"node\" id=\"node5\"><title>1</title>\n",
       "<ellipse cx=\"-35.247\" cy=\"-148.39\" fill=\"none\" rx=\"14\" ry=\"14\" stroke=\"black\"/>\n",
       "<text font-family=\"Times,serif\" font-size=\"8.00\" text-anchor=\"middle\" x=\"-35.247\" y=\"-145.99\">1</text>\n",
       "</g>\n",
       "<!-- 5 -->\n",
       "<g class=\"node\" id=\"node6\"><title>5</title>\n",
       "<ellipse cx=\"50.376\" cy=\"-134.63\" fill=\"none\" rx=\"14\" ry=\"14\" stroke=\"black\"/>\n",
       "<text font-family=\"Times,serif\" font-size=\"8.00\" text-anchor=\"middle\" x=\"50.376\" y=\"-132.23\">5</text>\n",
       "</g>\n",
       "<!-- 1&#45;&#45;5 -->\n",
       "<g class=\"edge\" id=\"edge4\"><title>1--5</title>\n",
       "<path d=\"M-21.108,-146.12C-5.2434,-143.57 20.343,-139.46 36.216,-136.9\" fill=\"none\" stroke=\"black\"/>\n",
       "</g>\n",
       "<!-- 10 -->\n",
       "<g class=\"node\" id=\"node7\"><title>10</title>\n",
       "<ellipse cx=\"-48.906\" cy=\"-73.016\" fill=\"none\" rx=\"17\" ry=\"17\" stroke=\"black\"/>\n",
       "<text font-family=\"Times,serif\" font-size=\"8.00\" text-anchor=\"middle\" x=\"-48.906\" y=\"-70.616\">10</text>\n",
       "</g>\n",
       "<!-- 1&#45;&#45;10 -->\n",
       "<g class=\"edge\" id=\"edge5\"><title>1--10</title>\n",
       "<path d=\"M-37.816,-134.22C-40.104,-121.59 -43.453,-103.11 -45.871,-89.762\" fill=\"none\" stroke=\"black\"/>\n",
       "</g>\n",
       "<!-- 11 -->\n",
       "<g class=\"node\" id=\"node8\"><title>11</title>\n",
       "<ellipse cx=\"-92.975\" cy=\"-230.89\" fill=\"red\" rx=\"17\" ry=\"17\" stroke=\"red\"/>\n",
       "<text fill=\"white\" font-family=\"Times,serif\" font-size=\"8.00\" text-anchor=\"middle\" x=\"-92.975\" y=\"-228.49\">11</text>\n",
       "</g>\n",
       "<!-- 1&#45;&#45;11 -->\n",
       "<g class=\"edge\" id=\"edge6\"><title>1--11</title>\n",
       "<path d=\"M-43.518,-160.21C-53.993,-175.18 -72.019,-200.94 -83.174,-216.88\" fill=\"none\" stroke=\"black\"/>\n",
       "</g>\n",
       "<!-- 12 -->\n",
       "<g class=\"node\" id=\"node9\"><title>12</title>\n",
       "<ellipse cx=\"19.607\" cy=\"-46.416\" fill=\"red\" rx=\"17\" ry=\"17\" stroke=\"red\"/>\n",
       "<text fill=\"white\" font-family=\"Times,serif\" font-size=\"8.00\" text-anchor=\"middle\" x=\"19.607\" y=\"-44.016\">12</text>\n",
       "</g>\n",
       "<!-- 1&#45;&#45;12 -->\n",
       "<g class=\"edge\" id=\"edge7\"><title>1--12</title>\n",
       "<path d=\"M-28.521,-135.89C-18.451,-117.17 0.52112,-81.899 11.395,-61.684\" fill=\"none\" stroke=\"black\"/>\n",
       "</g>\n",
       "<!-- 5&#45;&#45;10 -->\n",
       "<g class=\"edge\" id=\"edge8\"><title>5--10</title>\n",
       "<path d=\"M38.202,-127.07C19.872,-115.7 -14.752,-94.211 -34.376,-82.032\" fill=\"none\" stroke=\"black\"/>\n",
       "</g>\n",
       "<!-- 18 -->\n",
       "<g class=\"node\" id=\"node10\"><title>18</title>\n",
       "<ellipse cx=\"98.953\" cy=\"-224.71\" fill=\"red\" rx=\"17\" ry=\"17\" stroke=\"red\"/>\n",
       "<text fill=\"white\" font-family=\"Times,serif\" font-size=\"8.00\" text-anchor=\"middle\" x=\"98.953\" y=\"-222.31\">18</text>\n",
       "</g>\n",
       "<!-- 5&#45;&#45;18 -->\n",
       "<g class=\"edge\" id=\"edge9\"><title>5--18</title>\n",
       "<path d=\"M57.131,-147.15C65.942,-163.49 81.346,-192.06 90.798,-209.58\" fill=\"none\" stroke=\"black\"/>\n",
       "</g>\n",
       "<!-- 10&#45;&#45;12 -->\n",
       "<g class=\"edge\" id=\"edge10\"><title>10--12</title>\n",
       "<path d=\"M-33.015,-66.846C-22.105,-62.611 -7.6659,-57.005 3.3272,-52.737\" fill=\"none\" stroke=\"black\"/>\n",
       "</g>\n",
       "<!-- 15 -->\n",
       "<g class=\"node\" id=\"node11\"><title>15</title>\n",
       "<ellipse cx=\"-23.721\" cy=\"-10.891\" fill=\"red\" rx=\"17\" ry=\"17\" stroke=\"red\"/>\n",
       "<text fill=\"white\" font-family=\"Times,serif\" font-size=\"8.00\" text-anchor=\"middle\" x=\"-23.721\" y=\"-8.491\">15</text>\n",
       "</g>\n",
       "<!-- 10&#45;&#45;15 -->\n",
       "<g class=\"edge\" id=\"edge11\"><title>10--15</title>\n",
       "<path d=\"M-42.42,-57.017C-38.631,-47.67 -33.868,-35.921 -30.097,-26.62\" fill=\"none\" stroke=\"black\"/>\n",
       "</g>\n",
       "<!-- 13 -->\n",
       "<g class=\"node\" id=\"node12\"><title>13</title>\n",
       "<ellipse cx=\"-103.52\" cy=\"6.1246\" fill=\"none\" rx=\"17\" ry=\"17\" stroke=\"black\"/>\n",
       "<text font-family=\"Times,serif\" font-size=\"8.00\" text-anchor=\"middle\" x=\"-103.52\" y=\"8.5246\">13</text>\n",
       "</g>\n",
       "<!-- 10&#45;&#45;13 -->\n",
       "<g class=\"edge\" id=\"edge12\"><title>10--13</title>\n",
       "<path d=\"M-58.67,-58.867C-68.611,-44.462 -83.931,-22.262 -93.841,-7.9017\" fill=\"none\" stroke=\"black\"/>\n",
       "</g>\n",
       "<!-- 12&#45;&#45;19 -->\n",
       "<g class=\"edge\" id=\"edge13\"><title>12--19</title>\n",
       "<path d=\"M19.79,-29.412C20.124,1.5737 20.827,66.899 21.163,98.075\" fill=\"none\" stroke=\"black\"/>\n",
       "</g>\n",
       "<!-- 13&#45;&#45;15 -->\n",
       "<g class=\"edge\" id=\"edge14\"><title>13--15</title>\n",
       "<path d=\"M-86.597,2.516C-72.963,-0.39111 -53.9,-4.4559 -40.346,-7.346\" fill=\"none\" stroke=\"black\"/>\n",
       "</g>\n",
       "<!-- 16 -->\n",
       "<g class=\"node\" id=\"node13\"><title>16</title>\n",
       "<ellipse cx=\"-167.35\" cy=\"65.351\" fill=\"none\" rx=\"17\" ry=\"17\" stroke=\"black\"/>\n",
       "<text font-family=\"Times,serif\" font-size=\"8.00\" text-anchor=\"middle\" x=\"-167.35\" y=\"67.751\">16</text>\n",
       "</g>\n",
       "<!-- 13&#45;&#45;16 -->\n",
       "<g class=\"edge\" id=\"edge15\"><title>13--16</title>\n",
       "<path d=\"M-116.13,17.826C-127.32,28.209 -143.58,43.298 -154.76,53.674\" fill=\"none\" stroke=\"black\"/>\n",
       "</g>\n",
       "<!-- 2 -->\n",
       "<g class=\"node\" id=\"node14\"><title>2</title>\n",
       "<ellipse cx=\"36.743\" cy=\"62.049\" fill=\"none\" rx=\"14\" ry=\"14\" stroke=\"black\"/>\n",
       "<text font-family=\"Times,serif\" font-size=\"8.00\" text-anchor=\"middle\" x=\"36.743\" y=\"64.449\">2</text>\n",
       "</g>\n",
       "<!-- 2&#45;&#45;19 -->\n",
       "<g class=\"edge\" id=\"edge16\"><title>2--19</title>\n",
       "<path d=\"M32.779,75.772C30.747,82.803 28.259,91.419 26.123,98.813\" fill=\"none\" stroke=\"black\"/>\n",
       "</g>\n",
       "<!-- 2&#45;&#45;15 -->\n",
       "<g class=\"edge\" id=\"edge17\"><title>2--15</title>\n",
       "<path d=\"M27.56,50.971C16.724,37.899 -1.2742,16.187 -12.811,2.2703\" fill=\"none\" stroke=\"black\"/>\n",
       "</g>\n",
       "<!-- 3 -->\n",
       "<g class=\"node\" id=\"node15\"><title>3</title>\n",
       "<ellipse cx=\"91.603\" cy=\"-31.776\" fill=\"none\" rx=\"14\" ry=\"14\" stroke=\"black\"/>\n",
       "<text font-family=\"Times,serif\" font-size=\"8.00\" text-anchor=\"middle\" x=\"91.603\" y=\"-29.376\">3</text>\n",
       "</g>\n",
       "<!-- 2&#45;&#45;3 -->\n",
       "<g class=\"edge\" id=\"edge18\"><title>2--3</title>\n",
       "<path d=\"M43.915,49.783C54.429,31.801 73.914,-1.5241 84.429,-19.507\" fill=\"none\" stroke=\"black\"/>\n",
       "</g>\n",
       "<!-- 6 -->\n",
       "<g class=\"node\" id=\"node16\"><title>6</title>\n",
       "<ellipse cx=\"7.703\" cy=\"18.288\" fill=\"none\" rx=\"14\" ry=\"14\" stroke=\"black\"/>\n",
       "<text font-family=\"Times,serif\" font-size=\"8.00\" text-anchor=\"middle\" x=\"7.703\" y=\"20.688\">6</text>\n",
       "</g>\n",
       "<!-- 2&#45;&#45;6 -->\n",
       "<g class=\"edge\" id=\"edge19\"><title>2--6</title>\n",
       "<path d=\"M28.808,50.091C24.71,43.916 19.725,36.404 15.629,30.232\" fill=\"none\" stroke=\"black\"/>\n",
       "</g>\n",
       "<!-- 9 -->\n",
       "<g class=\"node\" id=\"node17\"><title>9</title>\n",
       "<ellipse cx=\"-57.119\" cy=\"105.67\" fill=\"red\" rx=\"14\" ry=\"14\" stroke=\"red\"/>\n",
       "<text fill=\"white\" font-family=\"Times,serif\" font-size=\"8.00\" text-anchor=\"middle\" x=\"-57.119\" y=\"108.07\">9</text>\n",
       "</g>\n",
       "<!-- 2&#45;&#45;9 -->\n",
       "<g class=\"edge\" id=\"edge20\"><title>2--9</title>\n",
       "<path d=\"M23.692,68.114C5.7592,76.448 -26.305,91.35 -44.179,99.657\" fill=\"none\" stroke=\"black\"/>\n",
       "</g>\n",
       "<!-- 3&#45;&#45;14 -->\n",
       "<g class=\"edge\" id=\"edge21\"><title>3--14</title>\n",
       "<path d=\"M97.313,-18.572C103.37,-4.5539 112.95,17.591 119.39,32.492\" fill=\"none\" stroke=\"black\"/>\n",
       "</g>\n",
       "<!-- 3&#45;&#45;5 -->\n",
       "<g class=\"edge\" id=\"edge22\"><title>3--5</title>\n",
       "<path d=\"M86.213,-45.222C78.312,-64.934 63.669,-101.46 55.767,-121.18\" fill=\"none\" stroke=\"black\"/>\n",
       "</g>\n",
       "<!-- 3&#45;&#45;15 -->\n",
       "<g class=\"edge\" id=\"edge23\"><title>3--15</title>\n",
       "<path d=\"M77.462,-29.215C56.17,-25.359 15.951,-18.076 -6.8437,-13.947\" fill=\"none\" stroke=\"black\"/>\n",
       "</g>\n",
       "<!-- 3&#45;&#45;6 -->\n",
       "<g class=\"edge\" id=\"edge24\"><title>3--6</title>\n",
       "<path d=\"M79.223,-24.389C63.269,-14.869 35.706,1.5785 19.861,11.034\" fill=\"none\" stroke=\"black\"/>\n",
       "</g>\n",
       "<!-- 17 -->\n",
       "<g class=\"node\" id=\"node18\"><title>17</title>\n",
       "<ellipse cx=\"194.05\" cy=\"-62.441\" fill=\"red\" rx=\"17\" ry=\"17\" stroke=\"red\"/>\n",
       "<text fill=\"white\" font-family=\"Times,serif\" font-size=\"8.00\" text-anchor=\"middle\" x=\"194.05\" y=\"-60.041\">17</text>\n",
       "</g>\n",
       "<!-- 3&#45;&#45;17 -->\n",
       "<g class=\"edge\" id=\"edge25\"><title>3--17</title>\n",
       "<path d=\"M105.42,-35.912C124.21,-41.536 157.76,-51.578 177.75,-57.563\" fill=\"none\" stroke=\"black\"/>\n",
       "</g>\n",
       "<!-- 6&#45;&#45;14 -->\n",
       "<g class=\"edge\" id=\"edge26\"><title>6--14</title>\n",
       "<path d=\"M21.759,21.836C43.703,27.374 86.012,38.052 109.48,43.974\" fill=\"none\" stroke=\"black\"/>\n",
       "</g>\n",
       "<!-- 6&#45;&#45;10 -->\n",
       "<g class=\"edge\" id=\"edge27\"><title>6--10</title>\n",
       "<path d=\"M0.068446,5.9747C-10.313,-10.77 -28.852,-40.671 -39.901,-58.492\" fill=\"none\" stroke=\"black\"/>\n",
       "</g>\n",
       "<!-- 6&#45;&#45;12 -->\n",
       "<g class=\"edge\" id=\"edge28\"><title>6--12</title>\n",
       "<path d=\"M10.286,4.2485C12.119,-5.7127 14.587,-19.127 16.523,-29.651\" fill=\"none\" stroke=\"black\"/>\n",
       "</g>\n",
       "<!-- 6&#45;&#45;13 -->\n",
       "<g class=\"edge\" id=\"edge29\"><title>6--13</title>\n",
       "<path d=\"M-6.3836,16.748C-26.843,14.51 -64.722,10.368 -86.645,7.9701\" fill=\"none\" stroke=\"black\"/>\n",
       "</g>\n",
       "<!-- 6&#45;&#45;9 -->\n",
       "<g class=\"edge\" id=\"edge30\"><title>6--9</title>\n",
       "<path d=\"M-0.77139,29.712C-13.194,46.459 -36.218,77.496 -48.643,94.244\" fill=\"none\" stroke=\"black\"/>\n",
       "</g>\n",
       "<!-- 9&#45;&#45;19 -->\n",
       "<g class=\"edge\" id=\"edge31\"><title>9--19</title>\n",
       "<path d=\"M-42.727,107.44C-29.454,109.08 -9.7362,111.51 4.3166,113.24\" fill=\"none\" stroke=\"black\"/>\n",
       "</g>\n",
       "<!-- 9&#45;&#45;16 -->\n",
       "<g class=\"edge\" id=\"edge32\"><title>9--16</title>\n",
       "<path d=\"M-70.635,100.73C-90.986,93.283 -129.43,79.222 -151.22,71.252\" fill=\"none\" stroke=\"black\"/>\n",
       "</g>\n",
       "<!-- 4 -->\n",
       "<g class=\"node\" id=\"node19\"><title>4</title>\n",
       "<ellipse cx=\"-129.15\" cy=\"122.06\" fill=\"none\" rx=\"14\" ry=\"14\" stroke=\"black\"/>\n",
       "<text font-family=\"Times,serif\" font-size=\"8.00\" text-anchor=\"middle\" x=\"-129.15\" y=\"124.46\">4</text>\n",
       "</g>\n",
       "<!-- 4&#45;&#45;13 -->\n",
       "<g class=\"edge\" id=\"edge33\"><title>4--13</title>\n",
       "<path d=\"M-126.01,107.85C-121.25,86.32 -112.24,45.55 -107.19,22.705\" fill=\"none\" stroke=\"black\"/>\n",
       "</g>\n",
       "<!-- 4&#45;&#45;9 -->\n",
       "<g class=\"edge\" id=\"edge34\"><title>4--9</title>\n",
       "<path d=\"M-115.26,118.9C-102.51,116 -83.706,111.72 -70.964,108.82\" fill=\"none\" stroke=\"black\"/>\n",
       "</g>\n",
       "<!-- 7 -->\n",
       "<g class=\"node\" id=\"node20\"><title>7</title>\n",
       "<ellipse cx=\"-263.8\" cy=\"89.663\" fill=\"red\" rx=\"14\" ry=\"14\" stroke=\"red\"/>\n",
       "<text fill=\"white\" font-family=\"Times,serif\" font-size=\"8.00\" text-anchor=\"middle\" x=\"-263.8\" y=\"92.063\">7</text>\n",
       "</g>\n",
       "<!-- 7&#45;&#45;16 -->\n",
       "<g class=\"edge\" id=\"edge35\"><title>7--16</title>\n",
       "<path d=\"M-249.98,86.18C-232.58,81.795 -202.72,74.267 -184.06,69.563\" fill=\"none\" stroke=\"black\"/>\n",
       "</g>\n",
       "</g>\n",
       "</svg>"
      ],
      "text/plain": [
       "<IPython.core.display.SVG object>"
      ]
     },
     "execution_count": 21,
     "metadata": {},
     "output_type": "execute_result"
    }
   ],
   "source": [
    "SVG('img.svg')"
   ]
  },
  {
   "cell_type": "code",
   "execution_count": null,
   "metadata": {},
   "outputs": [],
   "source": []
  }
 ],
 "metadata": {
  "kernelspec": {
   "display_name": "Python 3",
   "language": "python",
   "name": "python3"
  },
  "language_info": {
   "codemirror_mode": {
    "name": "ipython",
    "version": 3
   },
   "file_extension": ".py",
   "mimetype": "text/x-python",
   "name": "python",
   "nbconvert_exporter": "python",
   "pygments_lexer": "ipython3",
   "version": "3.6.0"
  }
 },
 "nbformat": 4,
 "nbformat_minor": 2
}
