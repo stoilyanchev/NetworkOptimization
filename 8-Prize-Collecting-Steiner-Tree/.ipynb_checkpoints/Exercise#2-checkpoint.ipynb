{
 "cells": [
  {
   "cell_type": "code",
   "execution_count": 1,
   "metadata": {},
   "outputs": [],
   "source": [
    "import gurobipy as gb\n",
    "import networkx as nx\n",
    "from itertools import combinations, chain\n",
    "\n",
    "#import pygraphviz as pygv\n",
    "\n",
    "\n",
    "import os\n",
    "from IPython.display import SVG, display"
   ]
  },
  {
   "cell_type": "code",
   "execution_count": null,
   "metadata": {},
   "outputs": [],
   "source": [
    "def powerset(iterable):\n",
    "    \"powerset([1,2,3]) --> () (1,) (2,) (3,) (1,2) (1,3) (2,3) (1,2,3)\"\n",
    "    s = list(iterable)\n",
    "    return chain.from_iterable(combinations(s, r) for r in range(len(s)+1))\n",
    "\n",
    "#\n",
    "# Drawing \n",
    "# functions\n",
    "#\n",
    "\n",
    "#\n",
    "# Drawing \n",
    "# functions\n",
    "#\n",
    "\n",
    "def DrawInitialGraph():\n",
    "    global DrawG\n",
    "    DrawG = pygv.AGraph(directed='true',strict='true', splines='true')\n",
    "\n",
    "\n",
    "    for i in G.nodes():\n",
    "        pos = str(G.node[i]['x'] * args.scale) + ',' + str((G.node[i]['y'])* args.scale)\n",
    "        if i == root:\n",
    "            DrawG.add_node (i, shape='circle', pos=pos, color=\"red\", fontsize='8', width='0.3', fixedsize='true')\n",
    "        else:\n",
    "            DrawG.add_node (i, shape='circle', pos=pos, color=\"black\", fontsize='8', width='0.3', fixedsize='true')   \t\n",
    "\n",
    "    DrawG.layout(prog='neato', args='-n')\n",
    "    DrawG.draw (path=str(basename) + '.svg', format='svg')\n",
    "    DrawG.clear()\n",
    "\n",
    "\n",
    "def DrawSol (x):\n",
    "\n",
    "    for i in G.nodes():\n",
    "        pos = str(G.node[i]['x'] * args.scale) + ',' + str((G.node[i]['y'])* args.scale)\n",
    "        DrawG.add_node (i, shape='circle', pos=pos,fontsize='8', width='0.3', fixedsize='true')\n",
    "\n",
    "    DrawG.layout(prog='neato', args='-n')\n",
    "    filepath=str(basename) + '_sol.svg'\n",
    "\n",
    "    for i in G.edges():\n",
    "        h = i[0]\n",
    "        k = i[1]\n",
    "        if x[i].x > 0.00001:\n",
    "            lab = round(x[i].x,4)\t\n",
    "            if x[i].x > 0.999999:\n",
    "                DrawG.add_edge(h, k, color='black', label=lab, fontsize='8')\n",
    "            else:\n",
    "                DrawG.add_edge(h, k, color='red', label=lab, fontsize='8')\n",
    "\n",
    "    DrawG.draw (path=filepath, format='svg')\n",
    "    DrawG.clear()\n",
    "\n",
    "def DrawSubtour (x, subtour):\n",
    "    for i in G.nodes():\n",
    "        pos = str(G.node[i]['x'] * args.scale) + ',' + str((G.node[i]['y'])* args.scale)\n",
    "        if i in subtour:\n",
    "            DrawG.add_node (i, shape='circle', pos=pos, fontsize='8', width='0.3', fixedsize='true', style='filled')\n",
    "        else:\n",
    "            DrawG.add_node (i, shape='circle', pos=pos, fontsize='8', width='0.3', fixedsize='true')\n",
    "\n",
    "    DrawG.layout(prog='neato', args='-n')\n",
    "    filepath=str(basename) + '_sub.svg'\n",
    "\n",
    "    for i in G.edges():\n",
    "        h = i[0]\n",
    "        k = i[1]\n",
    "        if x[i].x > 0.00001:\n",
    "            lab = round(x[i].x,4)\t\n",
    "            if x[i].x > 0.999999:\n",
    "                DrawG.add_edge(h, k, color='black', label=lab, fontsize='8')\n",
    "            else:\n",
    "                DrawG.add_edge(h, k, color='red', label=lab, fontsize='8')\n",
    "\n",
    "    DrawG.draw (path=filepath, format='svg')\n",
    "    DrawG.clear()"
   ]
  },
  {
   "cell_type": "code",
   "execution_count": 2,
   "metadata": {},
   "outputs": [],
   "source": [
    "class args:\n",
    "    filename = None\n",
    "    scale = 20"
   ]
  },
  {
   "cell_type": "code",
   "execution_count": 3,
   "metadata": {},
   "outputs": [
    {
     "ename": "FileNotFoundError",
     "evalue": "[Errno 2] No such file or directory: 'atsp29052018R2.gml'",
     "output_type": "error",
     "traceback": [
      "\u001b[1;31m---------------------------------------------------------------------------\u001b[0m",
      "\u001b[1;31mFileNotFoundError\u001b[0m                         Traceback (most recent call last)",
      "\u001b[1;32m<ipython-input-3-8d5bed042ed1>\u001b[0m in \u001b[0;36m<module>\u001b[1;34m()\u001b[0m\n\u001b[0;32m      7\u001b[0m \u001b[0mbasename\u001b[0m \u001b[1;33m=\u001b[0m \u001b[0mos\u001b[0m\u001b[1;33m.\u001b[0m\u001b[0mpath\u001b[0m\u001b[1;33m.\u001b[0m\u001b[0msplitext\u001b[0m\u001b[1;33m(\u001b[0m\u001b[0margs\u001b[0m\u001b[1;33m.\u001b[0m\u001b[0mfilename\u001b[0m\u001b[1;33m)\u001b[0m\u001b[1;33m[\u001b[0m\u001b[1;36m0\u001b[0m\u001b[1;33m]\u001b[0m\u001b[1;33m\u001b[0m\u001b[0m\n\u001b[0;32m      8\u001b[0m \u001b[1;33m\u001b[0m\u001b[0m\n\u001b[1;32m----> 9\u001b[1;33m \u001b[0mG\u001b[0m \u001b[1;33m=\u001b[0m \u001b[0mnx\u001b[0m\u001b[1;33m.\u001b[0m\u001b[0mread_graphml\u001b[0m \u001b[1;33m(\u001b[0m\u001b[0margs\u001b[0m\u001b[1;33m.\u001b[0m\u001b[0mfilename\u001b[0m\u001b[1;33m,\u001b[0m \u001b[0mnode_type\u001b[0m\u001b[1;33m=\u001b[0m\u001b[0mint\u001b[0m\u001b[1;33m)\u001b[0m\u001b[1;33m\u001b[0m\u001b[0m\n\u001b[0m\u001b[0;32m     10\u001b[0m \u001b[1;33m\u001b[0m\u001b[0m\n\u001b[0;32m     11\u001b[0m \u001b[0mprint\u001b[0m \u001b[1;33m(\u001b[0m\u001b[1;34m\"G has\"\u001b[0m\u001b[1;33m,\u001b[0m \u001b[0mG\u001b[0m\u001b[1;33m.\u001b[0m\u001b[0mnumber_of_nodes\u001b[0m\u001b[1;33m(\u001b[0m\u001b[1;33m)\u001b[0m\u001b[1;33m,\u001b[0m \u001b[1;34m\"nodes and\"\u001b[0m\u001b[1;33m,\u001b[0m \u001b[0mG\u001b[0m\u001b[1;33m.\u001b[0m\u001b[0mnumber_of_edges\u001b[0m\u001b[1;33m(\u001b[0m\u001b[1;33m)\u001b[0m\u001b[1;33m,\u001b[0m \u001b[1;34m\"edges\"\u001b[0m\u001b[1;33m)\u001b[0m\u001b[1;33m\u001b[0m\u001b[0m\n",
      "\u001b[1;32m<decorator-gen-567>\u001b[0m in \u001b[0;36mread_graphml\u001b[1;34m(path, node_type, edge_key_type)\u001b[0m\n",
      "\u001b[1;32mE:\\Programs\\Anaconda3\\envs\\no2018\\lib\\site-packages\\networkx\\utils\\decorators.py\u001b[0m in \u001b[0;36m_open_file\u001b[1;34m(func_to_be_decorated, *args, **kwargs)\u001b[0m\n\u001b[0;32m    203\u001b[0m         \u001b[1;32mif\u001b[0m \u001b[0mis_string_like\u001b[0m\u001b[1;33m(\u001b[0m\u001b[0mpath\u001b[0m\u001b[1;33m)\u001b[0m\u001b[1;33m:\u001b[0m\u001b[1;33m\u001b[0m\u001b[0m\n\u001b[0;32m    204\u001b[0m             \u001b[0mext\u001b[0m \u001b[1;33m=\u001b[0m \u001b[0msplitext\u001b[0m\u001b[1;33m(\u001b[0m\u001b[0mpath\u001b[0m\u001b[1;33m)\u001b[0m\u001b[1;33m[\u001b[0m\u001b[1;36m1\u001b[0m\u001b[1;33m]\u001b[0m\u001b[1;33m\u001b[0m\u001b[0m\n\u001b[1;32m--> 205\u001b[1;33m             \u001b[0mfobj\u001b[0m \u001b[1;33m=\u001b[0m \u001b[0m_dispatch_dict\u001b[0m\u001b[1;33m[\u001b[0m\u001b[0mext\u001b[0m\u001b[1;33m]\u001b[0m\u001b[1;33m(\u001b[0m\u001b[0mpath\u001b[0m\u001b[1;33m,\u001b[0m \u001b[0mmode\u001b[0m\u001b[1;33m=\u001b[0m\u001b[0mmode\u001b[0m\u001b[1;33m)\u001b[0m\u001b[1;33m\u001b[0m\u001b[0m\n\u001b[0m\u001b[0;32m    206\u001b[0m             \u001b[0mclose_fobj\u001b[0m \u001b[1;33m=\u001b[0m \u001b[1;32mTrue\u001b[0m\u001b[1;33m\u001b[0m\u001b[0m\n\u001b[0;32m    207\u001b[0m         \u001b[1;32melif\u001b[0m \u001b[0mhasattr\u001b[0m\u001b[1;33m(\u001b[0m\u001b[0mpath\u001b[0m\u001b[1;33m,\u001b[0m \u001b[1;34m'read'\u001b[0m\u001b[1;33m)\u001b[0m\u001b[1;33m:\u001b[0m\u001b[1;33m\u001b[0m\u001b[0m\n",
      "\u001b[1;31mFileNotFoundError\u001b[0m: [Errno 2] No such file or directory: 'atsp29052018R2.gml'"
     ]
    }
   ],
   "source": [
    "# \n",
    "# Read the graph in the graphML format\n",
    "#\n",
    "\n",
    "args.filename = 'atsp29052018R2.gml'\n",
    "\n",
    "basename = os.path.splitext(args.filename)[0]\n",
    "\n",
    "G = nx.read_graphml (args.filename, node_type=int)\n",
    "\n",
    "print (\"G has\", G.number_of_nodes(), \"nodes and\", G.number_of_edges(), \"edges\")\n",
    "\n",
    "D = G.to_directed()"
   ]
  },
  {
   "cell_type": "code",
   "execution_count": null,
   "metadata": {},
   "outputs": [],
   "source": []
  }
 ],
 "metadata": {
  "kernelspec": {
   "display_name": "Python 3",
   "language": "python",
   "name": "python3"
  },
  "language_info": {
   "codemirror_mode": {
    "name": "ipython",
    "version": 3
   },
   "file_extension": ".py",
   "mimetype": "text/x-python",
   "name": "python",
   "nbconvert_exporter": "python",
   "pygments_lexer": "ipython3",
   "version": "3.6.0"
  }
 },
 "nbformat": 4,
 "nbformat_minor": 2
}
