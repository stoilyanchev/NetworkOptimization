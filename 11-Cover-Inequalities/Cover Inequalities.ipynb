{
 "cells": [
  {
   "cell_type": "code",
   "execution_count": 2,
   "metadata": {
    "collapsed": true
   },
   "outputs": [],
   "source": [
    "import gurobipy as gb\n",
    "import random \n"
   ]
  },
  {
   "cell_type": "markdown",
   "metadata": {},
   "source": [
    "## 0-1 Knapsack Inequalities\n",
    "**Ref. Chapter 9.3 Wolsey, Integer Programming**\n",
    "\n",
    "Consider the set $ X = \\{x \\in \\{0,1\\}^n : \\sum_{j=1}^{n} a_j x_j \\le b\\} $.  W.l.o.g., we  assume that $b>0$ and $a_j > 0$. In fact, if there exists an index $j$ such that  $a_j < 0$ we can complement the corresponding variable $\\bar x_j = 1 - x_j$ and obtain all positive coefficients and $\\bar b = b - a_j > 0$.  \n",
    "\n",
    "## Cover inequalities\n",
    "\n",
    "### Definition \n",
    "A set $C \\subseteq N$ is called a *cover* of $X$ if it satisfies $\\sum_{j \\in C} a_j > b$. \n",
    "\n",
    "A cover $C$ is *minimal* if $C \\setminus \\{j\\}$ is not a cover for **any** $j \\in C$.\n",
    "\n",
    "Let $x_C$ be the *incidence vector* of $C$, i.e., a vector with the $j$-th component  equal to 1 if $j \\in C$, 0 otherwise.\n",
    "\n",
    "### Cover inequality\n",
    "> If a set $C$ is a cover of $X$, then the *cover inequality* \n",
    "> $$\\sum_{j \\in C} x_j \\le |C| -1$$\n",
    "> is valid for ${conv}(X)$\n",
    "\n",
    "#### Proof\n",
    "\n",
    "> We show that a point $x$ that does not satisy the cover inequality does not belong to $X$.\n",
    "> Choose a set $R \\subseteq N$ and define a vector $x^R \\in \\{0,1\\}^n $ such that $x_j = 1$ if $j \\in R$ and 0 otherwise. \n",
    "\n",
    ">Suppose that $x^R$ does not satisfy $\\sum_{j \\in C} x_j \\le |C| -1$, i.e., $\\sum_{j \\in C} x^R_j > |C| - 1 $. \n",
    "\n",
    "> If $\\sum_{j \\in C} x_j^R > |C| -1$ , then $|R \\cap C| = |C|$, that is, $C \\subseteq R$. \n",
    "> By definition, $$\\sum_{j=1}^n a_j x_j^R = \\sum_{j \\in R} a_j \\ge \\sum_{j \\in C} a_j > b, $$\n",
    "\n",
    "> thus, $x^R \\not\\in X$. \n",
    "\n",
    "### Example\n",
    "Consider the knapsack set:\n",
    "$$ X = \\{12 x_1 + 9x_2 + 8x_3 + 6x_4 + 6x_5 + 5 x_6 + 3x_7 \\le 22, x\\in \\{0,1\\} ^ 7\\}$$\n",
    "\n",
    "**Minimal cover inequalities** for $conv(X)$:\n",
    "$$ \n",
    "x_1 + x_2 + x_3 \\le 2 \\\\\n",
    "x_1 + x_2 + x_6 \\le 2 \\\\\n",
    "x_1 + x_5 + x_6 \\le 2 \\\\\n",
    "x_3 + x_4 + x_5 + x_6 \\le 3\n",
    "$$\n",
    "\n",
    "\n",
    "## Separation\n",
    "\n",
    "Consider the following problem:\n",
    "\n",
    "$$ \\max 15x_1 +11x_2 +9x_3 +6x_4 +5x_5 +4x_6 + x_7 \\\\ \n",
    "12 x_1 + 9x_2 + 8x_3 + 6x_4 + 6x_5 + 5 x_6 + 3x_7 \\le 22\\\\\n",
    "x \\in [0,1]^7 $$\n",
    "\n"
   ]
  },
  {
   "cell_type": "code",
   "execution_count": 4,
   "metadata": {},
   "outputs": [
    {
     "name": "stdout",
     "output_type": "stream",
     "text": [
      "Optimize a model with 1 rows, 7 columns and 7 nonzeros\n",
      "Coefficient statistics:\n",
      "  Matrix range     [3e+00, 1e+01]\n",
      "  Objective range  [1e+00, 2e+01]\n",
      "  Bounds range     [1e+00, 1e+00]\n",
      "  RHS range        [2e+01, 2e+01]\n",
      "Presolve time: 0.01s\n",
      "Presolved: 1 rows, 7 columns, 7 nonzeros\n",
      "\n",
      "Iteration    Objective       Primal Inf.    Dual Inf.      Time\n",
      "       0    2.7500000e+01   8.333333e-01   0.000000e+00      0s\n",
      "       1    2.7125000e+01   0.000000e+00   0.000000e+00      0s\n",
      "\n",
      "Solved in 1 iterations and 0.03 seconds\n",
      "Optimal objective  2.712500000e+01\n"
     ]
    }
   ],
   "source": [
    "n = 7\n",
    "c = {1:15, 2:11, 3:9, 4:6, 5:5, 6:4, 7:1}\n",
    "a = {1:12, 2:9, 3:8, 4:6, 5:6, 6:5, 7:3}\n",
    "b = 22\n",
    "\n",
    "knapsackLP = gb.Model('knapsack')\n",
    "\n",
    "x = knapsackLP.addVars(c.keys(),vtype=gb.GRB.CONTINUOUS, \\\n",
    "                       ub=1.0, name='x',\\\n",
    "                       obj=c)\n",
    "\n",
    "knapsackLP.ModelSense = gb.GRB.MAXIMIZE\n",
    "\n",
    "knapsackLP.addConstr(x.prod(a) <= b, name='c')\n",
    "\n",
    "knapsackLP.update()\n",
    "\n",
    "knapsackLP.write('knapsack.lp')\n",
    "\n",
    "knapsackLP.optimize()"
   ]
  },
  {
   "cell_type": "code",
   "execution_count": 6,
   "metadata": {},
   "outputs": [
    {
     "data": {
      "text/plain": [
       "{1: 1.0, 2: 1.0, 3: 0.125, 4: 0.0, 5: 0.0, 6: 0.0, 7: 0.0}"
      ]
     },
     "execution_count": 6,
     "metadata": {},
     "output_type": "execute_result"
    }
   ],
   "source": [
    "LPsol = knapsackLP.getAttr('x', x)\n",
    "LPsol "
   ]
  },
  {
   "cell_type": "code",
   "execution_count": 10,
   "metadata": {},
   "outputs": [
    {
     "data": {
      "text/plain": [
       "1.0"
      ]
     },
     "execution_count": 10,
     "metadata": {},
     "output_type": "execute_result"
    }
   ],
   "source": [
    "x[1].x"
   ]
  },
  {
   "cell_type": "markdown",
   "metadata": {},
   "source": [
    "### Separation problem\n",
    "\n",
    "> Given a nonintegral point $x^*$ with $0 \\le x^* \\le 1$ for all $j \\in N$, \n",
    "> the *separation problem* calls for finding a violated cover inequalities or prove that none exists.  \n",
    "\n",
    "A cover inequality $\\sum_{j \\in C} x_j \\le |C| -1$ can be rewritten as $\\sum_{j \\in C}(1 - x_j) \\ge 1$. Thus, such an inequality is violated by $x^*$ if \n",
    "\n",
    "$$\n",
    "\\sum_{j \\in C} (1-x^*_j) < 1\n",
    "$$\n",
    "\n",
    "Define the following *separation problem*:\n",
    "\n",
    "$$\n",
    "\\chi = \\min_{C \\subseteq N} \\{\\sum_{j \\in C} (1-x^*_j): C \\text{ is a cover of } X  \\}\n",
    "$$\n",
    "\n",
    "If $\\chi < 1$ then there exists a violated cover inequality, otherwise such an inequality does not exist.\n",
    "\n",
    "The separation problem can be restated as:\n",
    "\n",
    "$$\n",
    "\\chi = \\min \\{\\sum_{j \\in C} (1-x^*_j): {C \\subseteq N}, \\sum_{j \\in C} a_j > b\\}\n",
    "$$\n",
    "\n",
    "that is, by introducing binary variables $z_j$ with the meaning \n",
    "\n",
    "$$\n",
    "z_j = \\begin{cases}\n",
    "1 \\text { if } j \\text{ is in the cover,}\\\\\n",
    "0 \\text { otherwise.}\n",
    "\\end{cases}\n",
    "$$\n",
    "\n",
    "one has\n",
    "\n",
    "$$\n",
    "\\min {\\sum_{j=1}^n (1 - x^*_j)z_j }\\\\\n",
    "\\text{s.t. } \\sum_{j=1}^n a_j z_j \\ge b +1 \\\\\n",
    "z \\in \\{0,1\\}^n\n",
    "$$\n",
    "\n",
    "\n",
    "\n",
    "\n",
    "\n",
    "\n",
    "In our example:"
   ]
  },
  {
   "cell_type": "code",
   "execution_count": 14,
   "metadata": {
    "collapsed": true
   },
   "outputs": [],
   "source": [
    "ncover = 0"
   ]
  },
  {
   "cell_type": "code",
   "execution_count": 26,
   "metadata": {},
   "outputs": [
    {
     "data": {
      "text/plain": [
       "{1: 0.0,\n",
       " 2: 0.09090909090909094,\n",
       " 3: 0.9090909090909091,\n",
       " 4: 0.9090909090909091,\n",
       " 5: 0.9090909090909091,\n",
       " 6: 1.0,\n",
       " 7: 1.0}"
      ]
     },
     "execution_count": 26,
     "metadata": {},
     "output_type": "execute_result"
    }
   ],
   "source": [
    "sepacover = gb.Model('sep')\n",
    "\n",
    "sepaobj = {key:1.0 - val for key,val in LPsol.items()}\n",
    "\n",
    "sepaobj"
   ]
  },
  {
   "cell_type": "code",
   "execution_count": 27,
   "metadata": {},
   "outputs": [
    {
     "name": "stdout",
     "output_type": "stream",
     "text": [
      "Optimize a model with 1 rows, 7 columns and 7 nonzeros\n",
      "Variable types: 0 continuous, 7 integer (7 binary)\n",
      "Coefficient statistics:\n",
      "  Matrix range     [3e+00, 1e+01]\n",
      "  Objective range  [9e-02, 1e+00]\n",
      "  Bounds range     [1e+00, 1e+00]\n",
      "  RHS range        [2e+01, 2e+01]\n",
      "Found heuristic solution: objective 1.9090909\n",
      "Presolve removed 1 rows and 7 columns\n",
      "Presolve time: 0.00s\n",
      "Presolve: All rows and columns removed\n",
      "\n",
      "Explored 0 nodes (0 simplex iterations) in 0.01 seconds\n",
      "Thread count was 1 (of 4 available processors)\n",
      "\n",
      "Solution count 2: 1 1.90909 \n",
      "\n",
      "Optimal solution found (tolerance 1.00e-04)\n",
      "Best objective 1.000000000000e+00, best bound 1.000000000000e+00, gap 0.0000%\n"
     ]
    },
    {
     "data": {
      "text/plain": [
       "{1: 1.0, 2: 1.0, 3: 1.0, 4: 0.0, 5: -0.0, 6: 0.0, 7: 0.0}"
      ]
     },
     "execution_count": 27,
     "metadata": {},
     "output_type": "execute_result"
    }
   ],
   "source": [
    "z = sepacover.addVars(LPsol.keys(),vtype=gb.GRB.BINARY, \\\n",
    "                      name='z',\\\n",
    "                      obj=sepaobj)\n",
    "\n",
    "sepacover.addConstr(z.prod(a) >= b + 1, name='c')\n",
    "\n",
    "sepacover.update()\n",
    "\n",
    "sepacover.write('sepacover.lp')\n",
    "\n",
    "sepacover.optimize()\n",
    "\n",
    "\n",
    "sepasol = sepacover.getAttr('x', z)\n",
    "\n",
    "sepasol\n"
   ]
  },
  {
   "cell_type": "code",
   "execution_count": 28,
   "metadata": {},
   "outputs": [
    {
     "name": "stdout",
     "output_type": "stream",
     "text": [
      "Separation problem optimal value: 1.0\n"
     ]
    }
   ],
   "source": [
    "print ('Separation problem optimal value:', \\\n",
    "       sepacover.ObjVal)\n",
    "\n",
    "\n",
    "if sepacover.ObjVal < 1:\n",
    "    ncover += 1\n",
    "    print ('Found violated cover inequality:', end=' ') \n",
    "    coversize = 0\n",
    "    coverineq = {}\n",
    "    for i in sepasol:\n",
    "        if sepasol[i] > 0.001:\n",
    "            coversize += 1\n",
    "            coverineq[i] = 1.0\n",
    "    print\n",
    "    print ('Cover:', coverineq, 'Rhs:', coversize - 1)\n"
   ]
  },
  {
   "cell_type": "markdown",
   "metadata": {},
   "source": [
    "<div class=\"alert alert-success\">\n",
    "The violated inequality found is **added** to the original problem.\n",
    "</div>\n",
    "<div class=\"alert alert-danger\">\n",
    "If no violated inequality exists, **stop**\n",
    "</div>"
   ]
  },
  {
   "cell_type": "code",
   "execution_count": 25,
   "metadata": {},
   "outputs": [
    {
     "name": "stdout",
     "output_type": "stream",
     "text": [
      "Optimize a model with 4 rows, 7 columns and 16 nonzeros\n",
      "Coefficient statistics:\n",
      "  Matrix range     [1e+00, 1e+01]\n",
      "  Objective range  [1e+00, 2e+01]\n",
      "  Bounds range     [1e+00, 1e+00]\n",
      "  RHS range        [2e+00, 2e+01]\n",
      "Iteration    Objective       Primal Inf.    Dual Inf.      Time\n",
      "       0    2.6833333e+01   1.666667e-01   0.000000e+00      0s\n",
      "       1    2.6818182e+01   0.000000e+00   0.000000e+00      0s\n",
      "\n",
      "Solved in 1 iterations and 0.02 seconds\n",
      "Optimal objective  2.681818182e+01\n"
     ]
    },
    {
     "data": {
      "text/plain": [
       "{1: 1.0,\n",
       " 2: 0.9090909090909091,\n",
       " 3: 0.09090909090909094,\n",
       " 4: 0.09090909090909091,\n",
       " 5: 0.09090909090909094,\n",
       " 6: 0.0,\n",
       " 7: 0.0}"
      ]
     },
     "execution_count": 25,
     "metadata": {},
     "output_type": "execute_result"
    }
   ],
   "source": [
    "knapsackLP.addConstr(x.prod(coverineq) \\\n",
    "                     <= coversize - 1, \\\n",
    "                     name='Cover_%d' % ncover)\n",
    "\n",
    "knapsackLP.update()\n",
    "knapsackLP.write('knapsack.lp')\n",
    "\n",
    "knapsackLP.optimize()\n",
    "\n",
    "LPsol = knapsackLP.getAttr('x', x)\n",
    "LPsol"
   ]
  },
  {
   "cell_type": "code",
   "execution_count": null,
   "metadata": {
    "collapsed": true
   },
   "outputs": [],
   "source": []
  }
 ],
 "metadata": {
  "kernelspec": {
   "display_name": "Python 3",
   "language": "python",
   "name": "python3"
  },
  "language_info": {
   "codemirror_mode": {
    "name": "ipython",
    "version": 3
   },
   "file_extension": ".py",
   "mimetype": "text/x-python",
   "name": "python",
   "nbconvert_exporter": "python",
   "pygments_lexer": "ipython3",
   "version": "3.6.0"
  }
 },
 "nbformat": 4,
 "nbformat_minor": 2
}
