{
 "cells": [
  {
   "cell_type": "code",
   "execution_count": 1,
   "metadata": {},
   "outputs": [],
   "source": [
    "import gurobipy as gb\n",
    "import random "
   ]
  },
  {
   "cell_type": "markdown",
   "metadata": {},
   "source": [
    "Set-up and solve a simple knapsack problem:\n",
    "\n",
    "$$\n",
    "\\begin{eqnarray}\n",
    "\\max && \\sum_{i=1}^n c_i x_i \\\\ \n",
    "&& \\sum_{i=1}^n a_i x_i \\le b\\\\\n",
    "&& x \\in \\{0,1\\}^n\n",
    "\\end{eqnarray}\n",
    "$$"
   ]
  },
  {
   "cell_type": "markdown",
   "metadata": {},
   "source": [
    "Random generation of a knapsack instance"
   ]
  },
  {
   "cell_type": "code",
   "execution_count": 2,
   "metadata": {},
   "outputs": [],
   "source": [
    "random.seed(10)\n",
    "\n",
    "# Knapsack size\n",
    "\n",
    "n = 1000\n",
    "\n",
    "# Items weight\n",
    "\n",
    "#a = {i:random.randint(10000,20000)  for i in range(n)}\n",
    "\n",
    "a = {i:random.randint(100,20000)  for i in range(n)}\n",
    "\n",
    "#a"
   ]
  },
  {
   "cell_type": "code",
   "execution_count": 3,
   "metadata": {},
   "outputs": [],
   "source": [
    "# Items profit\n",
    "\n",
    "#c = {i:random.randint(100,500)  for i in range(n)}\n",
    "\n",
    "c = {i:random.randint(10,50)  for i in range(n)}\n",
    "\n"
   ]
  },
  {
   "cell_type": "code",
   "execution_count": 4,
   "metadata": {},
   "outputs": [],
   "source": [
    "# Knapsack capacity \n",
    "\n",
    "b = sum(a.values()) // 2\n",
    "#b"
   ]
  },
  {
   "cell_type": "code",
   "execution_count": 5,
   "metadata": {},
   "outputs": [],
   "source": [
    "# Create the model\n",
    "\n",
    "knapsack = gb.Model('knapsack')\n",
    "\n",
    "x = knapsack.addVars(n,vtype=gb.GRB.BINARY, name='x')\n",
    "\n"
   ]
  },
  {
   "cell_type": "code",
   "execution_count": 6,
   "metadata": {},
   "outputs": [],
   "source": [
    "# Objective function\n",
    "\n",
    "knapsack.setObjective(x.prod(c), gb.GRB.MAXIMIZE)\n",
    "\n",
    "knapsack.write('knapsack.lp')\n"
   ]
  },
  {
   "cell_type": "code",
   "execution_count": 7,
   "metadata": {},
   "outputs": [],
   "source": [
    "# Constraint\n",
    "\n",
    "knapsack.addConstr(x.prod(a) <= b, name='Knapsack')\n",
    "\n",
    "knapsack.update()"
   ]
  },
  {
   "cell_type": "code",
   "execution_count": 8,
   "metadata": {},
   "outputs": [],
   "source": [
    "knapsack.write('knapsack.lp')"
   ]
  },
  {
   "cell_type": "code",
   "execution_count": 9,
   "metadata": {
    "scrolled": true
   },
   "outputs": [
    {
     "name": "stdout",
     "output_type": "stream",
     "text": [
      "Optimize a model with 1 rows, 1000 columns and 1000 nonzeros\n",
      "Variable types: 0 continuous, 1000 integer (1000 binary)\n",
      "Coefficient statistics:\n",
      "  Matrix range     [1e+02, 2e+04]\n",
      "  Objective range  [1e+01, 5e+01]\n",
      "  Bounds range     [1e+00, 1e+00]\n",
      "  RHS range        [5e+06, 5e+06]\n",
      "Found heuristic solution: objective 14826.000000\n",
      "Presolve time: 0.00s\n",
      "Presolved: 1 rows, 1000 columns, 1000 nonzeros\n",
      "Variable types: 0 continuous, 1000 integer (1000 binary)\n",
      "\n",
      "Root relaxation: objective 2.287346e+04, 1 iterations, 0.00 seconds\n",
      "\n",
      "    Nodes    |    Current Node    |     Objective Bounds      |     Work\n",
      " Expl Unexpl |  Obj  Depth IntInf | Incumbent    BestBd   Gap | It/Node Time\n",
      "\n",
      "     0     0 22873.4598    0    1 14826.0000 22873.4598  54.3%     -    0s\n",
      "H    0     0                    22870.000000 22873.4598  0.02%     -    0s\n",
      "H    0     0                    22871.000000 22873.4598  0.01%     -    0s\n",
      "\n",
      "Explored 1 nodes (1 simplex iterations) in 0.07 seconds\n",
      "Thread count was 4 (of 4 available processors)\n",
      "\n",
      "Solution count 3: 22871 22870 14826 \n",
      "\n",
      "Optimal solution found (tolerance 1.00e-04)\n",
      "Best objective 2.287100000000e+04, best bound 2.287300000000e+04, gap 0.0087%\n"
     ]
    }
   ],
   "source": [
    "#knapsack.setParam('Presolve', 0)\n",
    "#knapsack.setParam('Cuts',0)\n",
    "#knapsack.setParam('Heuristics',0)\n",
    "\n",
    "\n",
    "knapsack.optimize()"
   ]
  },
  {
   "cell_type": "code",
   "execution_count": 16,
   "metadata": {
    "scrolled": false
   },
   "outputs": [
    {
     "name": "stdout",
     "output_type": "stream",
     "text": [
      "Obj: 22871\n",
      "\n",
      "x[1]=1 x[3]=1 x[5]=1 x[6]=1 x[7]=1 x[9]=1 x[10]=1 x[11]=1 x[13]=1 x[14]=1 x[15]=1 x[16]=1 x[18]=1 x[20]=1 x[22]=1 x[25]=1 x[26]=1 x[28]=1 x[29]=1 x[31]=1 x[33]=1 x[34]=1 x[35]=1 x[36]=1 x[38]=1 x[39]=1 x[40]=1 x[41]=1 x[42]=1 x[43]=1 x[44]=1 x[51]=1 x[53]=1 x[55]=1 x[56]=1 x[58]=1 x[59]=1 x[60]=1 x[62]=1 x[64]=1 x[66]=1 x[67]=1 x[72]=1 x[73]=1 x[74]=1 x[76]=1 x[77]=1 x[78]=1 x[79]=1 x[80]=1 x[81]=1 x[82]=1 x[83]=1 x[84]=1 x[86]=1 x[88]=1 x[89]=1 x[91]=1 x[92]=1 x[93]=1 x[95]=1 x[96]=1 x[97]=1 x[98]=1 x[99]=1 x[101]=1 x[102]=1 x[103]=1 x[104]=1 x[105]=1 x[106]=1 x[110]=1 x[113]=1 x[116]=1 x[119]=1 x[120]=1 x[121]=1 x[125]=1 x[129]=1 x[130]=1 x[132]=1 x[133]=1 x[134]=1 x[135]=1 x[136]=1 x[137]=1 x[138]=1 x[139]=1 x[140]=1 x[142]=1 x[143]=1 x[144]=1 x[145]=1 x[146]=1 x[147]=1 x[148]=1 x[149]=1 x[150]=1 x[151]=1 x[153]=1 x[156]=1 x[157]=1 x[158]=1 x[159]=1 x[161]=1 x[162]=1 x[165]=1 x[166]=1 x[170]=1 x[171]=1 x[172]=1 x[174]=1 x[175]=1 x[176]=1 x[177]=1 x[180]=1 x[182]=1 x[183]=1 x[184]=1 x[188]=1 x[190]=1 x[191]=1 x[192]=1 x[193]=1 x[195]=1 x[196]=1 x[199]=1 x[203]=1 x[204]=1 x[206]=1 x[207]=1 x[208]=1 x[209]=1 x[210]=1 x[212]=1 x[213]=1 x[214]=1 x[216]=1 x[217]=1 x[219]=1 x[220]=1 x[221]=1 x[222]=1 x[223]=1 x[224]=1 x[225]=1 x[226]=1 x[228]=1 x[234]=1 x[235]=1 x[238]=1 x[241]=1 x[245]=1 x[247]=1 x[249]=1 x[251]=1 x[252]=1 x[254]=1 x[255]=1 x[256]=1 x[258]=1 x[259]=1 x[260]=1 x[261]=1 x[263]=1 x[264]=1 x[265]=1 x[267]=1 x[269]=1 x[270]=1 x[271]=1 x[272]=1 x[275]=1 x[276]=1 x[277]=1 x[279]=1 x[281]=1 x[282]=1 x[285]=1 x[286]=1 x[287]=1 x[288]=1 x[289]=1 x[291]=1 x[292]=1 x[293]=1 x[295]=1 x[296]=1 x[297]=1 x[300]=1 x[301]=1 x[304]=1 x[305]=1 x[307]=1 x[308]=1 x[310]=1 x[311]=1 x[313]=1 x[315]=1 x[317]=1 x[318]=1 x[319]=1 x[322]=1 x[323]=1 x[325]=1 x[326]=1 x[328]=1 x[329]=1 x[330]=1 x[335]=1 x[337]=1 x[339]=1 x[340]=1 x[343]=1 x[345]=1 x[346]=1 x[348]=1 x[349]=1 x[350]=1 x[351]=1 x[355]=1 x[356]=1 x[357]=1 x[359]=1 x[360]=1 x[361]=1 x[363]=1 x[364]=1 x[365]=1 x[366]=1 x[368]=1 x[369]=1 x[370]=1 x[371]=1 x[372]=1 x[373]=1 x[374]=1 x[376]=1 x[378]=1 x[379]=1 x[381]=1 x[382]=1 x[384]=1 x[385]=1 x[388]=1 x[389]=1 x[390]=1 x[391]=1 x[392]=1 x[395]=1 x[400]=1 x[401]=1 x[402]=1 x[403]=1 x[404]=1 x[406]=1 x[407]=1 x[408]=1 x[409]=1 x[410]=1 x[413]=1 x[414]=1 x[418]=1 x[419]=1 x[420]=1 x[421]=1 x[422]=1 x[423]=1 x[425]=1 x[427]=1 x[428]=1 x[432]=1 x[433]=1 x[434]=1 x[435]=1 x[436]=1 x[437]=1 x[438]=1 x[439]=1 x[441]=1 x[442]=1 x[444]=1 x[445]=1 x[446]=1 x[447]=1 x[448]=1 x[449]=1 x[450]=1 x[452]=1 x[453]=1 x[455]=1 x[456]=1 x[460]=1 x[461]=1 x[462]=1 x[463]=1 x[464]=1 x[465]=1 x[466]=1 x[467]=1 x[468]=1 x[469]=1 x[470]=1 x[471]=1 x[473]=1 x[474]=1 x[475]=1 x[477]=1 x[478]=1 x[479]=1 x[480]=1 x[482]=1 x[485]=1 x[486]=1 x[487]=1 x[488]=1 x[489]=1 x[490]=1 x[492]=1 x[493]=1 x[494]=1 x[496]=1 x[497]=1 x[498]=1 x[499]=1 x[500]=1 x[501]=1 x[502]=1 x[504]=1 x[506]=1 x[507]=1 x[508]=1 x[510]=1 x[512]=1 x[513]=1 x[516]=1 x[517]=1 x[518]=1 x[520]=1 x[521]=1 x[524]=1 x[527]=1 x[529]=1 x[530]=1 x[531]=1 x[533]=1 x[534]=1 x[535]=1 x[537]=1 x[538]=1 x[540]=1 x[541]=1 x[542]=1 x[543]=1 x[544]=1 x[545]=1 x[546]=1 x[547]=1 x[548]=1 x[549]=1 x[550]=1 x[551]=1 x[553]=1 x[554]=1 x[555]=1 x[556]=1 x[559]=1 x[560]=1 x[561]=1 x[562]=1 x[565]=1 x[566]=1 x[567]=1 x[568]=1 x[569]=1 x[572]=1 x[574]=1 x[575]=1 x[577]=1 x[581]=1 x[582]=1 x[583]=1 x[585]=1 x[586]=1 x[587]=1 x[588]=1 x[589]=1 x[590]=1 x[591]=1 x[593]=1 x[598]=1 x[599]=1 x[600]=1 x[602]=1 x[603]=1 x[604]=1 x[605]=1 x[606]=1 x[607]=1 x[608]=1 x[610]=1 x[612]=1 x[614]=1 x[615]=1 x[616]=1 x[617]=1 x[618]=1 x[619]=1 x[620]=1 x[621]=1 x[622]=1 x[623]=1 x[625]=1 x[626]=1 x[632]=1 x[634]=1 x[635]=1 x[637]=1 x[638]=1 x[639]=1 x[640]=1 x[642]=1 x[644]=1 x[645]=1 x[647]=1 x[649]=1 x[650]=1 x[655]=1 x[656]=1 x[660]=1 x[661]=1 x[662]=1 x[663]=1 x[665]=1 x[666]=1 x[667]=1 x[668]=1 x[669]=1 x[671]=1 x[672]=1 x[673]=1 x[675]=1 x[676]=1 x[677]=1 x[678]=1 x[680]=1 x[681]=1 x[682]=1 x[683]=1 x[684]=1 x[686]=1 x[687]=1 x[688]=1 x[690]=1 x[691]=1 x[692]=1 x[693]=1 x[694]=1 x[696]=1 x[697]=1 x[699]=1 x[700]=1 x[701]=1 x[702]=1 x[703]=1 x[704]=1 x[705]=1 x[706]=1 x[710]=1 x[711]=1 x[713]=1 x[714]=1 x[716]=1 x[718]=1 x[719]=1 x[723]=1 x[724]=1 x[726]=1 x[727]=1 x[729]=1 x[730]=1 x[732]=1 x[733]=1 x[734]=1 x[736]=1 x[737]=1 x[738]=1 x[741]=1 x[742]=1 x[743]=1 x[744]=1 x[745]=1 x[748]=1 x[750]=1 x[752]=1 x[754]=1 x[755]=1 x[756]=1 x[757]=1 x[758]=1 x[759]=1 x[761]=1 x[762]=1 x[764]=1 x[767]=1 x[768]=1 x[771]=1 x[772]=1 x[774]=1 x[776]=1 x[777]=1 x[778]=1 x[780]=1 x[781]=1 x[784]=1 x[786]=1 x[787]=1 x[789]=1 x[790]=1 x[792]=1 x[793]=1 x[795]=1 x[797]=1 x[801]=1 x[802]=1 x[803]=1 x[804]=1 x[805]=1 x[807]=1 x[810]=1 x[812]=1 x[813]=1 x[815]=1 x[816]=1 x[817]=1 x[818]=1 x[820]=1 x[822]=1 x[823]=1 x[825]=1 x[827]=1 x[828]=1 x[829]=1 x[830]=1 x[831]=1 x[832]=1 x[833]=1 x[834]=1 x[835]=1 x[836]=1 x[837]=1 x[838]=1 x[839]=1 x[840]=1 x[841]=1 x[843]=1 x[845]=1 x[847]=1 x[850]=1 x[851]=1 x[853]=1 x[854]=1 x[855]=1 x[856]=1 x[857]=1 x[858]=1 x[859]=1 x[860]=1 x[861]=1 x[862]=1 x[866]=1 x[867]=1 x[868]=1 x[869]=1 x[870]=1 x[871]=1 x[872]=1 x[874]=1 x[875]=1 x[876]=1 x[878]=1 x[879]=1 x[880]=1 x[881]=1 x[882]=1 x[883]=1 x[884]=1 x[885]=1 x[887]=1 x[890]=1 x[891]=1 x[892]=1 x[893]=1 x[894]=1 x[895]=1 x[897]=1 x[899]=1 x[900]=1 x[901]=1 x[902]=1 x[903]=1 x[904]=1 x[906]=1 x[909]=1 x[911]=1 x[914]=1 x[915]=1 x[916]=1 x[917]=1 x[918]=1 x[920]=1 x[921]=1 x[925]=1 x[928]=1 x[930]=1 x[934]=1 x[937]=1 x[939]=1 x[940]=1 x[941]=1 x[942]=1 x[943]=1 x[944]=1 x[947]=1 x[948]=1 x[950]=1 x[951]=1 x[955]=1 x[956]=1 x[959]=1 x[960]=1 x[961]=1 x[962]=1 x[963]=1 x[964]=1 x[966]=1 x[968]=1 x[969]=1 x[970]=1 x[972]=1 x[973]=1 x[975]=1 x[976]=1 x[977]=1 x[980]=1 x[981]=1 x[983]=1 x[984]=1 x[985]=1 x[986]=1 x[988]=1 x[989]=1 x[990]=1 x[991]=1 x[992]=1 x[994]=1 x[996]=1 x[997]=1 x[999]=1 "
     ]
    }
   ],
   "source": [
    "print('Obj: %g' % knapsack.objVal)\n",
    "\n",
    "print ()\n",
    "\n",
    "for v in knapsack.getVars():\n",
    "    if v.x > 0:\n",
    "        print ('%s=%g' % (v.varName, v.x), end = ' ')\n",
    "    \n",
    "    "
   ]
  }
 ],
 "metadata": {
  "kernelspec": {
   "display_name": "Python 3",
   "language": "python",
   "name": "python3"
  },
  "language_info": {
   "codemirror_mode": {
    "name": "ipython",
    "version": 3
   },
   "file_extension": ".py",
   "mimetype": "text/x-python",
   "name": "python",
   "nbconvert_exporter": "python",
   "pygments_lexer": "ipython3",
   "version": "3.6.0"
  }
 },
 "nbformat": 4,
 "nbformat_minor": 2
}
