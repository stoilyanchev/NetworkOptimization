{
 "cells": [
  {
   "cell_type": "code",
   "execution_count": 1,
   "metadata": {},
   "outputs": [],
   "source": [
    "import networkx as nx\n",
    "import gurobipy as gb\n",
    "from itertools import combinations, chain\n",
    "#import pygraphviz as pygv\n",
    "import os\n",
    "from IPython.display import SVG, display"
   ]
  },
  {
   "cell_type": "code",
   "execution_count": 2,
   "metadata": {},
   "outputs": [],
   "source": [
    "def powerset(iterable):\n",
    "    \"powerset([1,2,3]) --> () (1,) (2,) (3,) (1,2) (1,3) (2,3) (1,2,3)\"\n",
    "    s = list(iterable)\n",
    "    return chain.from_iterable(combinations(s, r) for r in range(len(s)+1))\n",
    "\n",
    "#\n",
    "# Drawing \n",
    "# functions\n",
    "#def powerset(iterable):\n",
    "    \"powerset([1,2,3]) --> () (1,) (2,) (3,) (1,2) (1,3) (2,3) (1,2,3)\"\n",
    "    s = list(iterable)\n",
    "    return chain.from_iterable(combinations(s, r) for r in range(len(s)+1))\n",
    "\n",
    "#\n",
    "# Drawing \n",
    "# functions\n",
    "#\n",
    "\n",
    "def DrawInitialGraph():\n",
    "    global DrawG\n",
    "    DrawG = pygv.AGraph(undirected='true', strict='true', splines='true')\n",
    "\n",
    "\n",
    "    for i in G.nodes():\n",
    "        pos = str(G.node[i]['x'] * args.scale) + ',' + str((G.node[i]['y'])* args.scale)\n",
    "        DrawG.add_node (i, shape='circle', pos=pos, width=0.1, fontsize=9)\n",
    "    \n",
    "    DrawG.layout(prog='neato', args='-n')\n",
    "    DrawG.draw (path=str(basename) + '.svg', format='svg')\n",
    "    \n",
    "\n",
    "def DrawSol (x):\n",
    "    for i,j in G.edges():\n",
    "        lab = x[i,j].x\n",
    "        G[i][j]['capacity'] = x[i,j].x\n",
    "        if x[i,j].x > 0.00001:\n",
    "            if x[i,j].x > 0.999999:\n",
    "                DrawG.add_edge(i, j, color='black', label=lab, fontsize=9)\n",
    "            else:\n",
    "                DrawG.add_edge(i, j, color='red', label=lab)\n",
    "    path=str(basename)+'_sol.svg'\n",
    "    DrawG.draw (path=path, format='svg')\n",
    "    DrawG.delete_edges_from(DrawG.edges())\n",
    "\n",
    "def DrawInitialGraph():\n",
    "    global DrawG\n",
    "    DrawG = pygv.AGraph(undirected='true', strict='true', splines='true')\n",
    "\n",
    "\n",
    "    for i in G.nodes():\n",
    "        pos = str(G.node[i]['x'] * args.scale) + ',' + str((G.node[i]['y'])* args.scale)\n",
    "        DrawG.add_node (i, shape='circle', pos=pos, width=0.1, fontsize=9)\n",
    "    \n",
    "    DrawG.layout(prog='neato', args='-n')\n",
    "    DrawG.draw (path=str(basename) + '.svg', format='svg')\n",
    "    \n",
    "\n",
    "def DrawSol (x):\n",
    "    for i,j in G.edges():\n",
    "        lab = x[i,j].x\n",
    "        G[i][j]['capacity'] = x[i,j].x\n",
    "        if x[i,j].x > 0.00001:\n",
    "            if x[i,j].x > 0.999999:\n",
    "                DrawG.add_edge(i, j, color='black', label=lab, fontsize=9)\n",
    "            else:\n",
    "                DrawG.add_edge(i, j, color='red', label=lab)\n",
    "    path=str(basename)+'_sol.svg'\n",
    "    DrawG.draw (path=path, format='svg')\n",
    "    DrawG.delete_edges_from(DrawG.edges())"
   ]
  },
  {
   "cell_type": "code",
   "execution_count": 3,
   "metadata": {},
   "outputs": [],
   "source": [
    "class args:\n",
    "    filename = None\n",
    "    scale = 40"
   ]
  },
  {
   "cell_type": "markdown",
   "metadata": {},
   "source": [
    "## An integer ﬁxed-charge multicommodity ﬂow (FCMF) model for train unit scheduling\n",
    "\n",
    "$$\n",
    "y_a = \\begin{cases}\n",
    "1 \\text{ if arc $a$ is in the tree} \\\\\n",
    "0 \\text { otherwise}\n",
    "\\end{cases}\n",
    "$$\n",
    "\n",
    "\n",
    "\\begin{alignat}{3}\n",
    "\\min W_{1}\\sum_{k \\in K} \\sum_{p \\in P^k}c_{p}x_{p} + W_{2}\\sum_{a \\in A}y_{a} &&\\\\\n",
    "\\sum_{p \\in P^k}x_{p} \\le b^k &&\\;\\; \\forall k \\in K\\\\\n",
    "\\sum_{k \\in K_{j}} \\sum_{p \\in P^k_{j}} D^j_{f,k}x_{p} \\le d^j_{f} &&\\;\\; \\forall f \\in \\bar{F}_{j} \\text{ , } \\forall j \\in N\\\\\n",
    "\\sum_{k \\in K_{a}} \\sum_{p \\in P^k_{a}} x_{p} \\le m_{a}y_{a} &&\\;\\; \\forall a \\in A\\\\\n",
    "\\sum_{a \\in \\delta^-(j)} y_{a} = 1 &&\\;\\; \\forall j \\in N^-_{B}\\\\\n",
    "\\sum_{a \\in \\delta^+(j)} y_{a} = 1 &&\\;\\; \\forall j \\in N^+_{B}\\\\\n",
    "\\tau^D_{arr(i)}(\\sum_{a \\in \\delta^+(i)} y_{a} - 1) + \\tau^C_{dep(j)}(\\sum_{a \\in \\delta^-(j)} y_{a} - 1) \\le e_{ij} && \\;\\; \\forall (i,j) \\in A^*\\\\\n",
    "x_{p} \\in Z_{+}, \\; \\forall p \\in P^k, \\; \\forall k \\in K; \\; y_{a} \\in \\{0,1\\}, \\; \\forall a \\in A\\\\\n",
    "\\end{alignat}\n",
    "\n",
    "### Variables are declared BINARY but the polytope is integral"
   ]
  },
  {
   "cell_type": "code",
   "execution_count": 4,
   "metadata": {},
   "outputs": [
    {
     "name": "stdout",
     "output_type": "stream",
     "text": [
      "G has 3 nodes and 3 edges\n"
     ]
    }
   ],
   "source": [
    "args.filename = \"mst.gml\"\n",
    "args.scale = 40\n",
    "\n",
    "basename = os.path.splitext(args.filename)[0]\n",
    "#G = nx.read_graphml (args.filename, node_type=int)\n",
    "G = nx.complete_graph(3)\n",
    "print (\"G has\", G.number_of_nodes(), \"nodes and\", G.number_of_edges(), \"edges\")"
   ]
  },
  {
   "cell_type": "code",
   "execution_count": 5,
   "metadata": {},
   "outputs": [],
   "source": [
    "D = G.to_directed()\n",
    "root = 0\n",
    "#DrawInitialGraph()\n",
    "#display(SVG(filename=basename+'.svg'))"
   ]
  },
  {
   "cell_type": "code",
   "execution_count": 6,
   "metadata": {},
   "outputs": [
    {
     "data": {
      "text/plain": [
       "[0, 1, 2, 4, 5]"
      ]
     },
     "execution_count": 6,
     "metadata": {},
     "output_type": "execute_result"
    }
   ],
   "source": [
    "# adding s and t as nodes\n",
    "nodessetplusst = list(G.nodes())\n",
    "nodessetplusst.append(4)\n",
    "nodessetplusst.append(5)\n",
    "nodessetplusst"
   ]
  },
  {
   "cell_type": "code",
   "execution_count": 7,
   "metadata": {},
   "outputs": [
    {
     "data": {
      "text/plain": [
       "[0, 1, 2, 5]"
      ]
     },
     "execution_count": 7,
     "metadata": {},
     "output_type": "execute_result"
    }
   ],
   "source": [
    "commodities = [x for x in nodessetplusst if x != 4]\n",
    "commodities"
   ]
  },
  {
   "cell_type": "code",
   "execution_count": 8,
   "metadata": {},
   "outputs": [
    {
     "data": {
      "text/plain": [
       "[(0, 1),\n",
       " (0, 2),\n",
       " (1, 2),\n",
       " (4, 0),\n",
       " (0, 5),\n",
       " (4, 1),\n",
       " (1, 5),\n",
       " (4, 2),\n",
       " (2, 5),\n",
       " (4, 3),\n",
       " (3, 5)]"
      ]
     },
     "execution_count": 8,
     "metadata": {},
     "output_type": "execute_result"
    }
   ],
   "source": [
    "# addind some arcs outgoing from s and ingoing to t\n",
    "arcssetplusst = list(G.edges())\n",
    "for i in range(0,4):\n",
    "    arcssetplusst.append((4,i))\n",
    "    arcssetplusst.append((i,5))\n",
    "arcssetplusst"
   ]
  },
  {
   "cell_type": "code",
   "execution_count": 9,
   "metadata": {},
   "outputs": [],
   "source": [
    "# also we use a path variable x as a G[u][v]['cost'] for u,v in D.edges() result, because we don't have number of units in our graph"
   ]
  },
  {
   "cell_type": "code",
   "execution_count": 10,
   "metadata": {},
   "outputs": [],
   "source": [
    "# all unit types - have to be added to a structure of the graph like an extra value\n",
    "K = 3\n",
    "\n",
    "# have to calculate w1 and w2 for an objective function\n",
    "w1 = 3\n",
    "w2 = 2"
   ]
  },
  {
   "cell_type": "code",
   "execution_count": 11,
   "metadata": {},
   "outputs": [],
   "source": [
    "train_cars = {0:3, 1:3, 2:2}\n",
    "train_cost = {0:15, 1:20, 2:50}\n",
    "train_capacity = {0:219, 1:230, 2:145}"
   ]
  },
  {
   "cell_type": "code",
   "execution_count": 12,
   "metadata": {},
   "outputs": [],
   "source": [
    "fcmf = gb.Model()\n",
    "\n",
    "\n",
    "x = fcmf.addVars(D.edges(), \\\n",
    "                        obj=[w1 * train_cost.get((u)) for u,v in D.edges()],\\\n",
    "                        vtype=gb.GRB.INTEGER,\\\n",
    "                        name='x')\n",
    "\n",
    "y = fcmf.addVars(D.edges(), ub=1.0, \\\n",
    "                         obj = w2, \\\n",
    "                         vtype=gb.GRB.BINARY, name='y')\n",
    "\n",
    "f = fcmf.addVars(D.edges(), commodities, \\\n",
    "                         ub=G.number_of_nodes(), \\\n",
    "                         vtype=gb.GRB.CONTINUOUS, name='f')\n",
    "\n",
    "fcmf.update()\n",
    "fcmf.write('fcmf4.lp')"
   ]
  },
  {
   "cell_type": "code",
   "execution_count": 13,
   "metadata": {},
   "outputs": [],
   "source": [
    "#\n",
    "# Constraints with fleet size upper bound\n",
    "#\n",
    "\n",
    "# b - fleet size upper bound\n",
    "b = 2000\n",
    "\n",
    "for u,v in D.edges():\n",
    "    fcmf.addConstr(train_cost.get((u)) <= b)\n",
    "\n",
    "fcmf.update()\n",
    "fcmf.write('fcmf4.lp')"
   ]
  },
  {
   "cell_type": "code",
   "execution_count": 14,
   "metadata": {},
   "outputs": [],
   "source": [
    "#\n",
    "# Coupling constraints\n",
    "#\n",
    "\n",
    "# m = maximim number of coupled units flowing through arc\n",
    "# have to be added to a structure of the graph like an extra value\n",
    "m = 10\n",
    "\n",
    "for u,v in D.edges():\n",
    "    for x, y in G.edges():\n",
    "        fcmf.addConstr(train_cost.get((u)) <= m * train_cost.get((u)))\n",
    "            \n",
    "\n",
    "fcmf.update()\n",
    "fcmf.write('fcmf4.lp')"
   ]
  },
  {
   "cell_type": "code",
   "execution_count": 15,
   "metadata": {},
   "outputs": [],
   "source": [
    "#\n",
    "# To forbid coupling / decoupling in banned locations\n",
    "#\n",
    "\n",
    "for v, k in D.edges():\n",
    "    if (v != k):\n",
    "        fcmf.addConstr(f.sum('*',v,k) == 1)\n",
    "        fcmf.addConstr(f.sum(v,'*',k) == 1)\n",
    "\n",
    "fcmf.update()\n",
    "fcmf.write('fcmf4.lp')"
   ]
  },
  {
   "cell_type": "markdown",
   "metadata": {},
   "source": [
    "### Time for a single decoupling/coupling operation at the arrival/departure location of train i/j\n",
    "\\begin{alignat}{3}\n",
    "\\tau^D_{arr(i)}\\\\\n",
    "\\tau^C_{dep(j)}\\\\\n",
    "\\end{alignat}"
   ]
  },
  {
   "cell_type": "code",
   "execution_count": 16,
   "metadata": {},
   "outputs": [],
   "source": [
    "#\n",
    "# To ensure time allowance validity for coupling/decoupling \n",
    "#\n",
    "\n",
    "# lets say time for operation is equal to 1\n",
    "# slack time between i and j is 2\n",
    "\n",
    "for v, k in D.edges():\n",
    "    if (v != k):\n",
    "        fcmf.addConstr((f.sum(v,'*',k) - 1) + (f.sum('*',v,k) - 1) <= 2)\n",
    "\n",
    "fcmf.update()\n",
    "fcmf.write('fcmf4.lp')"
   ]
  },
  {
   "cell_type": "code",
   "execution_count": 17,
   "metadata": {},
   "outputs": [],
   "source": [
    "#\n",
    "# Check number of coupled cars and coupling upper bound for combination\n",
    "#\n",
    "\n",
    "ub = 6\n",
    "\n",
    "for v, k in D.edges():\n",
    "    if (v != k):\n",
    "        fcmf.addConstr(train_cars.get(v) + train_cars.get(k) <= ub)\n",
    "\n",
    "fcmf.update()\n",
    "fcmf.write('fcmf4.lp')"
   ]
  },
  {
   "cell_type": "code",
   "execution_count": 18,
   "metadata": {},
   "outputs": [],
   "source": [
    "#\n",
    "# Check passenger capacity\n",
    "#\n",
    "\n",
    "cap = 23\n",
    "\n",
    "fcmf.addConstrs((train_capacity.get((i)) >= cap\\\n",
    "                       for (i,j) in D.edges()), name='Cap')\n",
    "\n",
    "fcmf.update()\n",
    "fcmf.write('fcmf4.lp')"
   ]
  },
  {
   "cell_type": "code",
   "execution_count": 19,
   "metadata": {},
   "outputs": [
    {
     "name": "stdout",
     "output_type": "stream",
     "text": [
      "Optimize a model with 54 rows, 36 columns and 48 nonzeros\n",
      "Variable types: 24 continuous, 12 integer (6 binary)\n",
      "Coefficient statistics:\n",
      "  Matrix range     [1e+00, 1e+00]\n",
      "  Objective range  [2e+00, 2e+02]\n",
      "  Bounds range     [1e+00, 3e+00]\n",
      "  RHS range        [1e+00, 4e+00]\n",
      "Found heuristic solution: objective 0.0000000\n",
      "\n",
      "Explored 0 nodes (0 simplex iterations) in 0.01 seconds\n",
      "Thread count was 1 (of 4 available processors)\n",
      "\n",
      "Solution count 1: 0 \n",
      "\n",
      "Optimal solution found (tolerance 1.00e-04)\n",
      "Best objective 0.000000000000e+00, best bound 0.000000000000e+00, gap 0.0000%\n"
     ]
    }
   ],
   "source": [
    "fcmf.optimize()"
   ]
  },
  {
   "cell_type": "code",
   "execution_count": 20,
   "metadata": {},
   "outputs": [],
   "source": [
    "#DrawSol(x)\n",
    "#display(SVG(filename=basename+'_sol.svg'))"
   ]
  }
 ],
 "metadata": {
  "kernelspec": {
   "display_name": "Python 3",
   "language": "python",
   "name": "python3"
  },
  "language_info": {
   "codemirror_mode": {
    "name": "ipython",
    "version": 3
   },
   "file_extension": ".py",
   "mimetype": "text/x-python",
   "name": "python",
   "nbconvert_exporter": "python",
   "pygments_lexer": "ipython3",
   "version": "3.6.0"
  }
 },
 "nbformat": 4,
 "nbformat_minor": 2
}
