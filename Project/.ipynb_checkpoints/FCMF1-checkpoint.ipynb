{
 "cells": [
  {
   "cell_type": "code",
   "execution_count": 1,
   "metadata": {},
   "outputs": [],
   "source": [
    "import networkx as nx\n",
    "import gurobipy as gb\n",
    "from itertools import combinations, chain\n",
    "#import pygraphviz as pygv\n",
    "import os\n",
    "from IPython.display import SVG, display\n",
    "import matplotlib.pyplot as plt\n",
    "\n",
    "%matplotlib inline"
   ]
  },
  {
   "cell_type": "code",
   "execution_count": 2,
   "metadata": {},
   "outputs": [],
   "source": [
    "def powerset(iterable):\n",
    "    \"powerset([1,2,3]) --> () (1,) (2,) (3,) (1,2) (1,3) (2,3) (1,2,3)\"\n",
    "    s = list(iterable)\n",
    "    return chain.from_iterable(combinations(s, r) for r in range(len(s)+1))\n",
    "\n",
    "#\n",
    "# Drawing \n",
    "# functions\n",
    "#def powerset(iterable):\n",
    "    \"powerset([1,2,3]) --> () (1,) (2,) (3,) (1,2) (1,3) (2,3) (1,2,3)\"\n",
    "    s = list(iterable)\n",
    "    return chain.from_iterable(combinations(s, r) for r in range(len(s)+1))\n",
    "\n",
    "#\n",
    "# Drawing \n",
    "# functions\n",
    "#\n",
    "\n",
    "def DrawInitialGraph():\n",
    "    global DrawG\n",
    "    DrawG = pygv.AGraph(undirected='true', strict='true', splines='true')\n",
    "\n",
    "\n",
    "    for i in G.nodes():\n",
    "        pos = str(G.node[i]['x'] * args.scale) + ',' + str((G.node[i]['y'])* args.scale)\n",
    "        DrawG.add_node (i, shape='circle', pos=pos, width=0.1, fontsize=9)\n",
    "    \n",
    "    DrawG.layout(prog='neato', args='-n')\n",
    "    DrawG.draw (path=str(basename) + '.svg', format='svg')\n",
    "    \n",
    "\n",
    "def DrawSol (x):\n",
    "    for i,j in G.edges():\n",
    "        lab = x[i,j].x\n",
    "        G[i][j]['capacity'] = x[i,j].x\n",
    "        if x[i,j].x > 0.00001:\n",
    "            if x[i,j].x > 0.999999:\n",
    "                DrawG.add_edge(i, j, color='black', label=lab, fontsize=9)\n",
    "            else:\n",
    "                DrawG.add_edge(i, j, color='red', label=lab)\n",
    "    path=str(basename)+'_sol.svg'\n",
    "    DrawG.draw (path=path, format='svg')\n",
    "    DrawG.delete_edges_from(DrawG.edges())\n",
    "\n",
    "def DrawInitialGraph():\n",
    "    global DrawG\n",
    "    DrawG = pygv.AGraph(undirected='true', strict='true', splines='true')\n",
    "\n",
    "\n",
    "    for i in G.nodes():\n",
    "        pos = str(G.node[i]['x'] * args.scale) + ',' + str((G.node[i]['y'])* args.scale)\n",
    "        DrawG.add_node (i, shape='circle', pos=pos, width=0.1, fontsize=9)\n",
    "    \n",
    "    DrawG.layout(prog='neato', args='-n')\n",
    "    DrawG.draw (path=str(basename) + '.svg', format='svg')\n",
    "    \n",
    "\n",
    "def DrawSol (x):\n",
    "    for i,j in G.edges():\n",
    "        lab = x[i,j].x\n",
    "        G[i][j]['capacity'] = x[i,j].x\n",
    "        if x[i,j].x > 0.00001:\n",
    "            if x[i,j].x > 0.999999:\n",
    "                DrawG.add_edge(i, j, color='black', label=lab, fontsize=9)\n",
    "            else:\n",
    "                DrawG.add_edge(i, j, color='red', label=lab)\n",
    "    path=str(basename)+'_sol.svg'\n",
    "    DrawG.draw (path=path, format='svg')\n",
    "    DrawG.delete_edges_from(DrawG.edges())"
   ]
  },
  {
   "cell_type": "code",
   "execution_count": 3,
   "metadata": {},
   "outputs": [],
   "source": [
    "class args:\n",
    "    filename = None\n",
    "    scale = 40"
   ]
  },
  {
   "cell_type": "markdown",
   "metadata": {},
   "source": [
    "## An integer ﬁxed-charge multicommodity ﬂow (FCMF) model for train unit scheduling\n",
    "\n",
    "$$\n",
    "y_a = \\begin{cases}\n",
    "1 \\text{ if arc $a$ is in the tree} \\\\\n",
    "0 \\text { otherwise}\n",
    "\\end{cases}\n",
    "$$\n",
    "\n",
    "\n",
    "\\begin{alignat}{3}\n",
    "\\min W_{1}\\sum_{k \\in K} \\sum_{p \\in P^k}c_{p}x_{p} + W_{2}\\sum_{a \\in A}y_{a} &&\\\\\n",
    "\\sum_{p \\in P^k}x_{p} \\le b^k &&\\;\\; \\forall k \\in K\\\\\n",
    "\\sum_{k \\in K_{j}} \\sum_{p \\in P^k_{j}} D^j_{f,k}x_{p} \\le d^j_{f} &&\\;\\; \\forall f \\in \\bar{F}_{j} \\text{ , } \\forall j \\in N\\\\\n",
    "\\sum_{k \\in K_{a}} \\sum_{p \\in P^k_{a}} x_{p} \\le m_{a}y_{a} &&\\;\\; \\forall a \\in A\\\\\n",
    "\\sum_{a \\in \\delta^-(j)} y_{a} = 1 &&\\;\\; \\forall j \\in N^-_{B}\\\\\n",
    "\\sum_{a \\in \\delta^+(j)} y_{a} = 1 &&\\;\\; \\forall j \\in N^+_{B}\\\\\n",
    "\\tau^D_{arr(i)}(\\sum_{a \\in \\delta^+(i)} y_{a} - 1) + \\tau^C_{dep(j)}(\\sum_{a \\in \\delta^-(j)} y_{a} - 1) \\le e_{ij} && \\;\\; \\forall (i,j) \\in A^*\\\\\n",
    "x_{p} \\in Z_{+}, \\; \\forall p \\in P^k, \\; \\forall k \\in K; \\; y_{a} \\in \\{0,1\\}, \\; \\forall a \\in A\\\\\n",
    "\\end{alignat}\n",
    "\n",
    "### Variables are declared BINARY but the polytope is integral"
   ]
  },
  {
   "cell_type": "code",
   "execution_count": 4,
   "metadata": {},
   "outputs": [],
   "source": [
    " G = nx.DiGraph()"
   ]
  },
  {
   "cell_type": "code",
   "execution_count": 5,
   "metadata": {},
   "outputs": [
    {
     "name": "stdout",
     "output_type": "stream",
     "text": [
      "[('s', 'a', {'capacity': 10, 'activation': 100, 'cars': 3}), ('s', 'b', {'capacity': 30, 'activation': 1, 'cars': 2}), ('a', 'b', {'capacity': 55, 'activation': 5, 'cars': 3}), ('a', 'c', {'capacity': 62, 'activation': 5, 'cars': 1}), ('b', 'c', {'capacity': 28, 'activation': 150, 'cars': 4}), ('c', 't', {'capacity': 32, 'activation': 3, 'cars': 3})]\n"
     ]
    }
   ],
   "source": [
    "G.add_nodes_from(['s','a','b','c','t'])\n",
    "\n",
    "G.add_edge ('s','a',capacity=10, activation=  100, cars=3)\n",
    "G.add_edge ('s','b', capacity=30, activation= 1, cars=2)\n",
    "G.add_edge ('a','b',capacity=55, activation=  5, cars=3)\n",
    "G.add_edge ('b','c',capacity=28, activation=  150, cars=4)\n",
    "G.add_edge ('a','c',capacity=62, activation=  5, cars=1)\n",
    "G.add_edge ('c','t',capacity=32, activation=  3, cars=3)\n",
    "\n",
    "demand_b = {'s':40, 'a':0,'b':0,'c':0,'t':-40}\n",
    "\n",
    "print (G.edges(data=True))"
   ]
  },
  {
   "cell_type": "code",
   "execution_count": 6,
   "metadata": {},
   "outputs": [
    {
     "data": {
      "text/plain": [
       "{('a', 'b'): [55, 5, 3],\n",
       " ('a', 'c'): [62, 5, 1],\n",
       " ('b', 'c'): [28, 150, 4],\n",
       " ('c', 't'): [32, 3, 3],\n",
       " ('s', 'a'): [10, 100, 3],\n",
       " ('s', 'b'): [30, 1, 2]}"
      ]
     },
     "execution_count": 6,
     "metadata": {},
     "output_type": "execute_result"
    }
   ],
   "source": [
    "pos=nx.shell_layout(G)\n",
    "\n",
    "edge_lab = {i:[G[i[0]][i[1]]['capacity'], \\\n",
    "               G[i[0]][i[1]]['activation'], \\\n",
    "               G[i[0]][i[1]]['cars']] for i in G.edges()}\n",
    "edge_lab"
   ]
  },
  {
   "cell_type": "code",
   "execution_count": 7,
   "metadata": {},
   "outputs": [
    {
     "data": {
      "text/plain": [
       "{'a': 0, 'b': 0, 'c': 0, 's': 40, 't': -40}"
      ]
     },
     "execution_count": 7,
     "metadata": {},
     "output_type": "execute_result"
    }
   ],
   "source": [
    "node_lab = {i:demand_b[i] for i in G.nodes()}\n",
    "node_lab"
   ]
  },
  {
   "cell_type": "code",
   "execution_count": 8,
   "metadata": {},
   "outputs": [
    {
     "data": {
      "image/png": "[encoded data removed]",
      "text/plain": [
       "<Figure size 720x720 with 1 Axes>"
      ]
     },
     "metadata": {},
     "output_type": "display_data"
    }
   ],
   "source": [
    "plt.figure(figsize=(10,10))\n",
    "\n",
    "\n",
    "nx.draw_networkx_edge_labels (G, pos, edge_labels=edge_lab)\n",
    "nx.draw_networkx_labels (G,pos, labels=node_lab)\n",
    "#nx.draw(G, pos, with_labels=True, node_color ='w', node_size=500)\n",
    "\n",
    "nx.draw_networkx_labels (G,pos, labels=node_lab)\n",
    "\n",
    "nx.draw(G, pos, with_labels=False, node_color ='w', node_size=500)"
   ]
  },
  {
   "cell_type": "code",
   "execution_count": 9,
   "metadata": {},
   "outputs": [],
   "source": [
    "# all unit types - have to be added to a structure of the graph like an extra value\n",
    "K = 3\n",
    "\n",
    "# have to calculate w1 and w2 for an objective function\n",
    "w1 = 3\n",
    "w2 = 2\n",
    "\n",
    "commodities = [x for x in G.edges() if (x != ('s', 'a')) and (x != ('s', 'b'))]\n",
    "commodities\n",
    "\n",
    "root = 's'"
   ]
  },
  {
   "cell_type": "code",
   "execution_count": 10,
   "metadata": {},
   "outputs": [],
   "source": [
    "# Model and variables\n",
    "\n",
    "fcmf = gb.Model()\n",
    "\n",
    "\n",
    "x = fcmf.addVars(G.edges(), \\\n",
    "                        obj=[w1 * G[u][v]['activation'] for u,v in G.edges()],\\\n",
    "                        vtype=gb.GRB.CONTINUOUS,\\\n",
    "                        name='x')\n",
    "\n",
    "y = fcmf.addVars(G.edges(), ub=1.0, \\\n",
    "                         obj = w2, \\\n",
    "                         vtype=gb.GRB.BINARY, name='y')\n",
    "\n",
    "f = fcmf.addVars(G.edges(), G.edges(), \\\n",
    "                         ub=G.number_of_nodes(), \\\n",
    "                         vtype=gb.GRB.CONTINUOUS, name='f')\n",
    "\n",
    "fcmf.update()\n",
    "fcmf.write('fcmf5.lp')"
   ]
  },
  {
   "cell_type": "code",
   "execution_count": 11,
   "metadata": {},
   "outputs": [],
   "source": [
    "#\n",
    "# Balanced constraints\n",
    "#\n",
    "\n",
    "fcmf.addConstrs((x.sum(i, G.out_edges(i)) - \\\n",
    "                        (x.sum(G.in_edges(i), i)) == \\\n",
    "                        demand_b[i] for i in G.nodes()),\\\n",
    "                          name='Balance')\n",
    "\n",
    "fcmf.update()\n",
    "fcmf.write('fcmf5.lp')"
   ]
  },
  {
   "cell_type": "code",
   "execution_count": 12,
   "metadata": {},
   "outputs": [
    {
     "name": "stdout",
     "output_type": "stream",
     "text": [
      "Optimize a model with 5 rows, 48 columns and 12 nonzeros\n",
      "Variable types: 42 continuous, 6 integer (6 binary)\n",
      "Coefficient statistics:\n",
      "  Matrix range     [1e+00, 1e+00]\n",
      "  Objective range  [2e+00, 5e+02]\n",
      "  Bounds range     [1e+00, 5e+00]\n",
      "  RHS range        [4e+01, 4e+01]\n",
      "Presolve removed 5 rows and 48 columns\n",
      "Presolve time: 0.00s\n",
      "Presolve: All rows and columns removed\n",
      "\n",
      "Explored 0 nodes (0 simplex iterations) in 0.03 seconds\n",
      "Thread count was 1 (of 4 available processors)\n",
      "\n",
      "Solution count 1: 12960 \n",
      "\n",
      "Optimal solution found (tolerance 1.00e-04)\n",
      "Best objective 1.296000000000e+04, best bound 1.296000000000e+04, gap 0.0000%\n"
     ]
    }
   ],
   "source": [
    "fcmf.optimize()"
   ]
  },
  {
   "cell_type": "code",
   "execution_count": 13,
   "metadata": {},
   "outputs": [],
   "source": [
    "#\n",
    "# To check passenger capacity\n",
    "#\n",
    "cap = 130\n",
    "\n",
    "fcmf.addConstrs((G[i][j]['capacity'] * x[(i,j)] >= cap\\\n",
    "                       for (i,j) in G.edges()), name='VUB')\n",
    "\n",
    "fcmf.update()\n",
    "fcmf.write('fcmf5.lp')"
   ]
  },
  {
   "cell_type": "code",
   "execution_count": 14,
   "metadata": {},
   "outputs": [],
   "source": [
    "#\n",
    "# To forbid coupling / decoupling in banned locations\n",
    "#\n",
    "\n",
    "fcmf.addConstr(f['s','a','b','c'] == 1)\n",
    "fcmf.addConstr(f['s','a','c','t'] == 1)\n",
    "fcmf.addConstr(f['s','b','c','t'] + f['a','b','c','t'] == 1)\n",
    "fcmf.addConstr(f['s','a','a','b'] + f['s','a','a','c'] + f['s','b','a','b'] + f['s','b','a','c'] == 1)\n",
    "fcmf.addConstr(f['s','a','b','c'] + f['s','b','b','c'] == 1)\n",
    "fcmf.addConstr(f['a','b','b','c'] + f['a','c','b','c'] == 1)\n",
    "fcmf.addConstr(f['a','b','c','t'] + f['a','c','c','t'] == 1)\n",
    "fcmf.addConstr(f['b','c','c','t'] == 1)\n",
    "\n",
    "fcmf.update()\n",
    "fcmf.write('fcmf5.lp')"
   ]
  },
  {
   "cell_type": "code",
   "execution_count": 15,
   "metadata": {},
   "outputs": [],
   "source": [
    "#\n",
    "# Coupling constraints\n",
    "#\n",
    "\n",
    "# m = maximim number of coupled units flowing through arc\n",
    "# have to be added to a structure of the graph like an extra value\n",
    "m = 10\n",
    "\n",
    "fcmf.addConstrs((x[(i,j)] <= m * G[i][j]['capacity'] \\\n",
    "                 for (i,j) in G.edges()), name='MaxCoupling')\n",
    "            \n",
    "\n",
    "fcmf.update()\n",
    "fcmf.write('fcmf5.lp')"
   ]
  },
  {
   "cell_type": "code",
   "execution_count": 16,
   "metadata": {},
   "outputs": [],
   "source": [
    "#\n",
    "# Constraints with fleet size upper bound\n",
    "#\n",
    "\n",
    "# b - fleet size upper bound\n",
    "b = 2000\n",
    "\n",
    "fcmf.addConstrs((x[(i,j)] <= b \\\n",
    "                 for (i,j) in G.edges()), name='FleetSizeUpperBound')\n",
    "            \n",
    "\n",
    "fcmf.update()\n",
    "fcmf.write('fcmf5.lp')"
   ]
  },
  {
   "cell_type": "markdown",
   "metadata": {},
   "source": [
    "### Time for a single decoupling/coupling operation at the arrival/departure location of train i/j\n",
    "\\begin{alignat}{3}\n",
    "\\tau^D_{arr(i)}\\\\\n",
    "\\tau^C_{dep(j)}\\\\\n",
    "\\end{alignat}"
   ]
  },
  {
   "cell_type": "code",
   "execution_count": 17,
   "metadata": {},
   "outputs": [],
   "source": [
    "#\n",
    "# To ensure time allowance validity for coupling/decoupling \n",
    "#\n",
    "\n",
    "# lets say time for operation is equal to 1\n",
    "# slack time between i and j is 2\n",
    "slackTime = 2\n",
    "\n",
    "for v, k in G.edges():\n",
    "    if (v != k):\n",
    "        fcmf.addConstr((f.sum(v,'*',k) - 1) + (f.sum('*',v,k) - 1) <= slackTime)\n",
    "\n",
    "fcmf.update()\n",
    "fcmf.write('fcmf5.lp')"
   ]
  },
  {
   "cell_type": "code",
   "execution_count": 18,
   "metadata": {},
   "outputs": [],
   "source": [
    "#\n",
    "# Check number of coupled cars and coupling upper bound for combination\n",
    "#\n",
    "\n",
    "ub = 6\n",
    "\n",
    "for i,j in G.edges():\n",
    "    if (i != j):\n",
    "\n",
    "        fcmf.addConstrs(G[i][j]['cars'] <= ub \\\n",
    "                 for (i,j) in G.edges())\n",
    "\n",
    "fcmf.update()\n",
    "fcmf.write('fcmf5.lp')"
   ]
  },
  {
   "cell_type": "code",
   "execution_count": 19,
   "metadata": {},
   "outputs": [
    {
     "name": "stdout",
     "output_type": "stream",
     "text": [
      "Optimize a model with 73 rows, 48 columns and 60 nonzeros\n",
      "Variable types: 42 continuous, 6 integer (6 binary)\n",
      "Coefficient statistics:\n",
      "  Matrix range     [1e+00, 6e+01]\n",
      "  Objective range  [2e+00, 5e+02]\n",
      "  Bounds range     [1e+00, 5e+00]\n",
      "  RHS range        [1e+00, 2e+03]\n",
      "\n",
      "Loaded MIP start with objective 14621.6\n",
      "\n",
      "Presolve removed 73 rows and 48 columns\n",
      "Presolve time: 0.00s\n",
      "Presolve: All rows and columns removed\n",
      "\n",
      "Explored 0 nodes (0 simplex iterations) in 0.02 seconds\n",
      "Thread count was 1 (of 4 available processors)\n",
      "\n",
      "Solution count 1: 14621.6 \n",
      "\n",
      "Optimal solution found (tolerance 1.00e-04)\n",
      "Best objective 1.462163636364e+04, best bound 1.462163636364e+04, gap 0.0000%\n"
     ]
    }
   ],
   "source": [
    "fcmf.optimize()"
   ]
  },
  {
   "cell_type": "code",
   "execution_count": 20,
   "metadata": {},
   "outputs": [
    {
     "name": "stdout",
     "output_type": "stream",
     "text": [
      "Obj: 14621.6\n",
      "\n"
     ]
    }
   ],
   "source": [
    "print('Obj: %g' % fcmf.objVal)\n",
    "\n",
    "print ()\n",
    "\n",
    "#for v in fcmf.getVars():\n",
    "#    if v.x > 0:\n",
    "#        print ('%s=%g' % (v.varName, v.x), end = ' ')"
   ]
  },
  {
   "cell_type": "code",
   "execution_count": 21,
   "metadata": {},
   "outputs": [],
   "source": [
    "#DrawSol(x)\n",
    "#display(SVG(filename=basename+'_sol.svg'))"
   ]
  }
 ],
 "metadata": {
  "kernelspec": {
   "display_name": "Python 3",
   "language": "python",
   "name": "python3"
  },
  "language_info": {
   "codemirror_mode": {
    "name": "ipython",
    "version": 3
   },
   "file_extension": ".py",
   "mimetype": "text/x-python",
   "name": "python",
   "nbconvert_exporter": "python",
   "pygments_lexer": "ipython3",
   "version": "3.6.0"
  }
 },
 "nbformat": 4,
 "nbformat_minor": 2
}
